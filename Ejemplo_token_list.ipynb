{
 "cells": [
  {
   "cell_type": "code",
   "execution_count": 81,
   "metadata": {},
   "outputs": [],
   "source": [
    "from microtc.textmodel import TextModel\n",
    "import pandas as pd\n",
    "from numpy import random as npr"
   ]
  },
  {
   "cell_type": "code",
   "execution_count": 109,
   "metadata": {},
   "outputs": [],
   "source": [
    "train=pd.read_csv('data/train_emo.tsv',sep='\\t')\n",
    "dev=pd.read_csv('data/dev_emo.tsv',sep='\\t') \n",
    "test=pd.read_csv('data/emoevales_test.tsv',sep='\\t')"
   ]
  },
  {
   "cell_type": "code",
   "execution_count": 110,
   "metadata": {},
   "outputs": [
    {
     "data": {
      "text/html": [
       "<div>\n",
       "<style scoped>\n",
       "    .dataframe tbody tr th:only-of-type {\n",
       "        vertical-align: middle;\n",
       "    }\n",
       "\n",
       "    .dataframe tbody tr th {\n",
       "        vertical-align: top;\n",
       "    }\n",
       "\n",
       "    .dataframe thead th {\n",
       "        text-align: right;\n",
       "    }\n",
       "</style>\n",
       "<table border=\"1\" class=\"dataframe\">\n",
       "  <thead>\n",
       "    <tr style=\"text-align: right;\">\n",
       "      <th></th>\n",
       "      <th>id</th>\n",
       "      <th>event</th>\n",
       "      <th>tweet</th>\n",
       "      <th>offensive</th>\n",
       "    </tr>\n",
       "  </thead>\n",
       "  <tbody>\n",
       "    <tr>\n",
       "      <th>0</th>\n",
       "      <td>16b25dfb-e284-4a58-b62c-8186fc082eb6</td>\n",
       "      <td>GameOfThrones</td>\n",
       "      <td>Señor de luz, ven a nosotros en nuestra oscuri...</td>\n",
       "      <td>NO</td>\n",
       "    </tr>\n",
       "    <tr>\n",
       "      <th>1</th>\n",
       "      <td>2a80f6bf-4750-4783-9bc8-fdb8ff2b94c4</td>\n",
       "      <td>SpainElection</td>\n",
       "      <td>Pues ya hemos votado tanto mi madre y yo #Elec...</td>\n",
       "      <td>NO</td>\n",
       "    </tr>\n",
       "    <tr>\n",
       "      <th>2</th>\n",
       "      <td>1f477a6f-3559-41ee-8ec5-2e77aee53190</td>\n",
       "      <td>WorldBookDay</td>\n",
       "      <td>#DiaDelLibro 😇⭐❤️🙏🙌😍🌷 sentimientos, viajar con...</td>\n",
       "      <td>NO</td>\n",
       "    </tr>\n",
       "    <tr>\n",
       "      <th>3</th>\n",
       "      <td>838add70-748c-4635-8133-36ff0b05aeb0</td>\n",
       "      <td>WorldBookDay</td>\n",
       "      <td>¡Feliz #DíaDelLibro📚! ”El libro es fuerza, es ...</td>\n",
       "      <td>NO</td>\n",
       "    </tr>\n",
       "    <tr>\n",
       "      <th>4</th>\n",
       "      <td>64e3dd59-ae5c-4b9b-bd29-987609eb95d8</td>\n",
       "      <td>SpainElection</td>\n",
       "      <td>Pues qué queréis que os diga, este sarao polít...</td>\n",
       "      <td>NO</td>\n",
       "    </tr>\n",
       "  </tbody>\n",
       "</table>\n",
       "</div>"
      ],
      "text/plain": [
       "                                     id          event  \\\n",
       "0  16b25dfb-e284-4a58-b62c-8186fc082eb6  GameOfThrones   \n",
       "1  2a80f6bf-4750-4783-9bc8-fdb8ff2b94c4  SpainElection   \n",
       "2  1f477a6f-3559-41ee-8ec5-2e77aee53190   WorldBookDay   \n",
       "3  838add70-748c-4635-8133-36ff0b05aeb0   WorldBookDay   \n",
       "4  64e3dd59-ae5c-4b9b-bd29-987609eb95d8  SpainElection   \n",
       "\n",
       "                                               tweet offensive  \n",
       "0  Señor de luz, ven a nosotros en nuestra oscuri...        NO  \n",
       "1  Pues ya hemos votado tanto mi madre y yo #Elec...        NO  \n",
       "2  #DiaDelLibro 😇⭐❤️🙏🙌😍🌷 sentimientos, viajar con...        NO  \n",
       "3  ¡Feliz #DíaDelLibro📚! ”El libro es fuerza, es ...        NO  \n",
       "4  Pues qué queréis que os diga, este sarao polít...        NO  "
      ]
     },
     "execution_count": 110,
     "metadata": {},
     "output_type": "execute_result"
    }
   ],
   "source": [
    "test.head()"
   ]
  },
  {
   "cell_type": "code",
   "execution_count": 78,
   "metadata": {},
   "outputs": [
    {
     "name": "stderr",
     "output_type": "stream",
     "text": [
      "<ipython-input-78-d9edd3303f85>:1: VisibleDeprecationWarning: Creating an ndarray from ragged nested sequences (which is a list-or-tuple of lists-or-tuples-or ndarrays with different lengths or shapes) is deprecated. If you meant to do this, you must specify 'dtype=object' when creating the ndarray\n",
      "  np.random.choice(tkl,10, replace=False)\n"
     ]
    },
    {
     "data": {
      "text/plain": [
       "array([8, 6, -2, 1, -3, 9, 7, -1, (2, 2), (2, 1)], dtype=object)"
      ]
     },
     "execution_count": 78,
     "metadata": {},
     "output_type": "execute_result"
    }
   ],
   "source": [
    "np.random.choice(tkl,10, replace=False)"
   ]
  },
  {
   "cell_type": "code",
   "execution_count": 113,
   "metadata": {},
   "outputs": [],
   "source": [
    "df=pd.DataFrame()\n",
    "df['text']=train.tweet\n",
    "df['klass']=train.emotion\n",
    "df1=pd.DataFrame()\n",
    "df1['text']=dev.tweet\n",
    "df1['klass']=dev.emotion"
   ]
  },
  {
   "cell_type": "code",
   "execution_count": 114,
   "metadata": {},
   "outputs": [],
   "source": [
    "data=df.to_dict(orient='records')+df1.to_dict(orient='records')"
   ]
  },
  {
   "cell_type": "code",
   "execution_count": 115,
   "metadata": {},
   "outputs": [
    {
     "data": {
      "text/plain": [
       "6567"
      ]
     },
     "execution_count": 115,
     "metadata": {},
     "output_type": "execute_result"
    }
   ],
   "source": [
    "len(data)"
   ]
  },
  {
   "cell_type": "code",
   "execution_count": 72,
   "metadata": {},
   "outputs": [
    {
     "data": {
      "text/plain": [
       "<microtc.textmodel.TextModel at 0x7ff41cde7a60>"
      ]
     },
     "execution_count": 72,
     "metadata": {},
     "output_type": "execute_result"
    }
   ],
   "source": [
    "textmodel = TextModel(weighting='entropy')\n",
    "textmodel.fit(data)"
   ]
  },
  {
   "cell_type": "code",
   "execution_count": 86,
   "metadata": {},
   "outputs": [
    {
     "data": {
      "text/plain": [
       "3"
      ]
     },
     "execution_count": 86,
     "metadata": {},
     "output_type": "execute_result"
    }
   ],
   "source": [
    "npr.randint(len(tkl))"
   ]
  },
  {
   "cell_type": "code",
   "execution_count": 104,
   "metadata": {},
   "outputs": [],
   "source": [
    "url_options=['none','group','delete']\n",
    "weighting=['entropy','tfidf','tf']\n",
    "def random_model():\n",
    "    params={}\n",
    "    tkn=npr.randint(len(tkl))+1\n",
    "    urln=npr.randint(len(url_options))\n",
    "    wn=npr.randint(len(weighting))\n",
    "    token_list=npr.choice(tkl,tkn,replace=False)\n",
    "    params['url_option']=url_options[urln]\n",
    "    params['token_list']= token_list\n",
    "    params['weighting']=weighting[wn]\n",
    "    #model=TextModel(**params)\n",
    "    print(params)\n",
    "    return model\n",
    "\n",
    "def random_search(n=16):\n",
    "    modelos=[random_model() for i in range(n)]\n",
    "    return modelos"
   ]
  },
  {
   "cell_type": "code",
   "execution_count": 105,
   "metadata": {},
   "outputs": [
    {
     "name": "stdout",
     "output_type": "stream",
     "text": [
      "{'url_option': 'delete', 'token_list': array([4, 3, (2, 1), (3, 1)], dtype=object), 'weighting': 'entropy'}\n",
      "{'url_option': 'none', 'token_list': array([7, (3, 1), (2, 2), 3, -3, 1, (2, 1)], dtype=object), 'weighting': 'entropy'}\n",
      "{'url_option': 'group', 'token_list': array([2, 9, 7, 3], dtype=object), 'weighting': 'tf'}\n",
      "{'url_option': 'none', 'token_list': array([9, 2, 6, -3, 3, -1, 1, (3, 1), 8, (2, 2), 7], dtype=object), 'weighting': 'tf'}\n",
      "{'url_option': 'group', 'token_list': array([(2, 2), -2], dtype=object), 'weighting': 'tfidf'}\n",
      "{'url_option': 'delete', 'token_list': array([(2, 2), -1, 1, 4, 9, (2, 1), 6, 7, -2], dtype=object), 'weighting': 'entropy'}\n",
      "{'url_option': 'delete', 'token_list': array([6, 1, (2, 1), -3, 8, 2, 9, -2, 7, 3, (3, 1), 4], dtype=object), 'weighting': 'tf'}\n",
      "{'url_option': 'none', 'token_list': array([4, (3, 1), 6, (2, 1), 2, 7, -3, 8, -1, -2, 3, 1, 9], dtype=object), 'weighting': 'tfidf'}\n",
      "{'url_option': 'group', 'token_list': array([9, 2, 1, (2, 1), 4], dtype=object), 'weighting': 'tfidf'}\n",
      "{'url_option': 'group', 'token_list': array([6, (2, 1), 4, 7, -2, -1, 1, (3, 1), 3], dtype=object), 'weighting': 'entropy'}\n",
      "{'url_option': 'none', 'token_list': array([-1, (3, 1), 6, 1, (2, 1), 4, 7], dtype=object), 'weighting': 'tf'}\n",
      "{'url_option': 'group', 'token_list': array([2, 7, 9, 1, (2, 1), -3], dtype=object), 'weighting': 'tf'}\n",
      "{'url_option': 'group', 'token_list': array([-1, 7, 8, (2, 1), -2, (2, 2), 1, 9, 4], dtype=object), 'weighting': 'tf'}\n",
      "{'url_option': 'none', 'token_list': array([8, 7, (2, 1), 2, 1, -3, -2, (3, 1), 6, (2, 2), 9, 3], dtype=object), 'weighting': 'entropy'}\n",
      "{'url_option': 'none', 'token_list': array([1, (2, 2), 2, 8, -1, 7, 9, 6, -3, -2, (3, 1)], dtype=object), 'weighting': 'tf'}\n",
      "{'url_option': 'delete', 'token_list': array([7, -3, 9, (2, 2), (3, 1), 8, 6, 1, -2, 3, -1, 2, 4], dtype=object), 'weighting': 'tf'}\n"
     ]
    },
    {
     "name": "stderr",
     "output_type": "stream",
     "text": [
      "<ipython-input-104-487a56a71caa>:8: VisibleDeprecationWarning: Creating an ndarray from ragged nested sequences (which is a list-or-tuple of lists-or-tuples-or ndarrays with different lengths or shapes) is deprecated. If you meant to do this, you must specify 'dtype=object' when creating the ndarray\n",
      "  token_list=npr.choice(tkl,tkn,replace=False)\n"
     ]
    }
   ],
   "source": [
    "modelos=random_search()\n"
   ]
  },
  {
   "cell_type": "code",
   "execution_count": 116,
   "metadata": {},
   "outputs": [
    {
     "data": {
      "text/plain": [
       "<microtc.textmodel.TextModel at 0x7ff4212c62b0>"
      ]
     },
     "execution_count": 116,
     "metadata": {},
     "output_type": "execute_result"
    }
   ],
   "source": [
    "modelo=modelos[-1]\n",
    "modelo.fit(data)"
   ]
  },
  {
   "cell_type": "code",
   "execution_count": 125,
   "metadata": {},
   "outputs": [],
   "source": [
    "X=modelo.transform(data)\n",
    "Xt=modelo.transform(test.tweet)"
   ]
  },
  {
   "cell_type": "code",
   "execution_count": 119,
   "metadata": {},
   "outputs": [],
   "source": [
    "from sklearn.svm import LinearSVC\n",
    "from sklearn.preprocessing import LabelEncoder"
   ]
  },
  {
   "cell_type": "code",
   "execution_count": 124,
   "metadata": {},
   "outputs": [
    {
     "data": {
      "text/plain": [
       "array([4, 4, 5, ..., 5, 4, 3])"
      ]
     },
     "execution_count": 124,
     "metadata": {},
     "output_type": "execute_result"
    }
   ],
   "source": [
    "l=LabelEncoder()\n",
    "labels=[e['klass'] for e in data]\n",
    "l.fit(labels)\n",
    "y=l.transform(labels)"
   ]
  },
  {
   "cell_type": "code",
   "execution_count": 127,
   "metadata": {},
   "outputs": [
    {
     "data": {
      "text/plain": [
       "LinearSVC()"
      ]
     },
     "execution_count": 127,
     "metadata": {},
     "output_type": "execute_result"
    }
   ],
   "source": [
    "clf=LinearSVC()\n",
    "clf.fit(X,y)"
   ]
  },
  {
   "cell_type": "code",
   "execution_count": 128,
   "metadata": {},
   "outputs": [],
   "source": [
    "yp=clf.predict(Xt)"
   ]
  },
  {
   "cell_type": "code",
   "execution_count": 132,
   "metadata": {},
   "outputs": [],
   "source": [
    "df3=pd.DataFrame()\n",
    "df3['id']=test['id']\n",
    "df3['yp']=l.inverse_transform(yp)"
   ]
  },
  {
   "cell_type": "code",
   "execution_count": 135,
   "metadata": {},
   "outputs": [],
   "source": [
    "df3.to_csv('test_try01.tsv', header=None, index=None,sep='\\t')"
   ]
  },
  {
   "cell_type": "code",
   "execution_count": 136,
   "metadata": {},
   "outputs": [
    {
     "name": "stdout",
     "output_type": "stream",
     "text": [
      "16b25dfb-e284-4a58-b62c-8186fc082eb6\tothers\r\n",
      "2a80f6bf-4750-4783-9bc8-fdb8ff2b94c4\tothers\r\n",
      "1f477a6f-3559-41ee-8ec5-2e77aee53190\tjoy\r\n",
      "838add70-748c-4635-8133-36ff0b05aeb0\tjoy\r\n",
      "64e3dd59-ae5c-4b9b-bd29-987609eb95d8\tjoy\r\n",
      "7bc2b439-817a-4a22-9aa3-6ac9e8ebee90\tothers\r\n",
      "f785d8c5-575a-47e1-9eb4-4217bc8b6bf5\tothers\r\n",
      "e0c36651-df9a-4e3a-9763-84f9a8e3c9b4\tothers\r\n",
      "0d1ddeb6-ceeb-44b2-9aaf-10fa733e31cb\tothers\r\n",
      "53de65ff-4f75-4118-b1cb-967647a79e65\tothers\r\n"
     ]
    }
   ],
   "source": [
    "!head test_try01.tsv"
   ]
  },
  {
   "cell_type": "markdown",
   "metadata": {},
   "source": [
    "## microTC TextModel token_list"
   ]
  },
  {
   "cell_type": "markdown",
   "metadata": {},
   "source": [
    "## $n$-gramas \n",
    "Indica que se generen todas las subsecuencias de $n$ palabras (es decir, $m - n + 1$) tokens para un texto con $m$ palabras). se indica mediante valores negativos. "
   ]
  },
  {
   "cell_type": "code",
   "execution_count": 2,
   "metadata": {},
   "outputs": [
    {
     "data": {
      "text/plain": [
       "[['buenos~dias', 'dias~a', 'a~todos', 'todos~ustedes']]"
      ]
     },
     "execution_count": 2,
     "metadata": {},
     "output_type": "execute_result"
    }
   ],
   "source": [
    "texto=\"~buenos dias a todos ustedes~\"\n",
    "textmodel = TextModel(token_list=[-2], weighting ='entropy')\n",
    "textmodel.compute_tokens(texto)"
   ]
  },
  {
   "cell_type": "markdown",
   "metadata": {},
   "source": [
    "## $q$-gramas\n",
    "\n",
    "son $n$-gramas a nivel de carácter, es decir, cada token es una subcadena de tamaño $q$."
   ]
  },
  {
   "cell_type": "code",
   "execution_count": 3,
   "metadata": {},
   "outputs": [
    {
     "data": {
      "text/plain": [
       "[['q:~buen',\n",
       "  'q:bueno',\n",
       "  'q:uenos',\n",
       "  'q:enos ',\n",
       "  'q:nos d',\n",
       "  'q:os di',\n",
       "  'q:s dia',\n",
       "  'q: dias',\n",
       "  'q:dias ',\n",
       "  'q:ias a',\n",
       "  'q:as a ',\n",
       "  'q:s a t',\n",
       "  'q: a to',\n",
       "  'q:a tod',\n",
       "  'q: todo',\n",
       "  'q:todos',\n",
       "  'q:odos ',\n",
       "  'q:dos u',\n",
       "  'q:os us',\n",
       "  'q:s ust',\n",
       "  'q: uste',\n",
       "  'q:usted',\n",
       "  'q:stede',\n",
       "  'q:tedes',\n",
       "  'q:edes~']]"
      ]
     },
     "execution_count": 3,
     "metadata": {},
     "output_type": "execute_result"
    }
   ],
   "source": [
    "textmodel = TextModel(token_list=[5])\n",
    "texto=\"~buenos dias a todos ustedes~\"\n",
    "textmodel.compute_tokens(texto)\n"
   ]
  },
  {
   "cell_type": "markdown",
   "metadata": {},
   "source": [
    "## skip-gramas\n",
    "son $n$-gramas que saltan partes intermedias en subsecuencias. Para este caso, debe especificar la longitud de la subsecuencia y el número de palabras intermedias que se deben omitir."
   ]
  },
  {
   "cell_type": "code",
   "execution_count": 33,
   "metadata": {},
   "outputs": [
    {
     "data": {
      "text/plain": [
       "[[]]"
      ]
     },
     "execution_count": 33,
     "metadata": {},
     "output_type": "execute_result"
    }
   ],
   "source": [
    "textmodel = TextModel(token_list=[])\n",
    "textmodel.compute_tokens(texto)"
   ]
  },
  {
   "cell_type": "code",
   "execution_count": 5,
   "metadata": {},
   "outputs": [],
   "source": [
    "texto=\"~buenos dias a todos ustedes por ahora jjjj~\""
   ]
  },
  {
   "cell_type": "code",
   "execution_count": 6,
   "metadata": {},
   "outputs": [
    {
     "data": {
      "text/plain": [
       "<microtc.textmodel.TextModel at 0x7ff418f9d130>"
      ]
     },
     "execution_count": 6,
     "metadata": {},
     "output_type": "execute_result"
    }
   ],
   "source": [
    "textmodel.fit([texto])"
   ]
  },
  {
   "cell_type": "code",
   "execution_count": 7,
   "metadata": {},
   "outputs": [
    {
     "data": {
      "text/plain": [
       "{'buenos~todos~ahora': 0, 'dias~ustedes~j': 1}"
      ]
     },
     "execution_count": 7,
     "metadata": {},
     "output_type": "execute_result"
    }
   ],
   "source": [
    "textmodel.model._w2id"
   ]
  },
  {
   "cell_type": "code",
   "execution_count": 8,
   "metadata": {},
   "outputs": [
    {
     "data": {
      "text/plain": [
       "[]"
      ]
     },
     "execution_count": 8,
     "metadata": {},
     "output_type": "execute_result"
    }
   ],
   "source": [
    "textmodel.model['buenos']"
   ]
  },
  {
   "cell_type": "code",
   "execution_count": 73,
   "metadata": {},
   "outputs": [],
   "source": [
    "ng=[-1,-2,-3,]\n",
    "qg=[1,2,3,4,6,7,8,9]\n",
    "sg=[(3,1),(2,2),(2,1)]\n",
    "tkl=ng+qg+sg"
   ]
  },
  {
   "cell_type": "code",
   "execution_count": 37,
   "metadata": {},
   "outputs": [],
   "source": [
    "from itertools import combinations\n",
    "def conjunto_potencia(lista):\n",
    "    cp=[]\n",
    "    for i in range(0,len(lista)+1):\n",
    "        for comb in combinations(lista,i):\n",
    "            cp.append(comb)\n",
    "    return cp"
   ]
  },
  {
   "cell_type": "code",
   "execution_count": 13,
   "metadata": {},
   "outputs": [],
   "source": [
    "combinaciones={}\n",
    "i=0\n",
    "for n in conjunto_potencia(ng)[1:]:\n",
    "    for q in conjunto_potencia(qg):\n",
    "        for s in conjunto_potencia(sg):\n",
    "            n=str(bin(i))[2:]\n",
    "            clave=n.zfill(13)\n",
    "            combinaciones[clave]=(list(n)+list(q)+list(s))\n",
    "            i=i+1"
   ]
  },
  {
   "cell_type": "code",
   "execution_count": 34,
   "metadata": {},
   "outputs": [
    {
     "data": {
      "text/plain": [
       "['1', '1', '0', '1', '1', '1', '1', '1', '1', '1', '1', '1', '1', '1']"
      ]
     },
     "execution_count": 34,
     "metadata": {},
     "output_type": "execute_result"
    }
   ],
   "source": [
    "[d for d in list(combinaciones.keys())[-1]]"
   ]
  },
  {
   "cell_type": "code",
   "execution_count": 39,
   "metadata": {},
   "outputs": [
    {
     "data": {
      "text/plain": [
       "['1', '0', '0', '1', 1, (3, 1)]"
      ]
     },
     "execution_count": 39,
     "metadata": {},
     "output_type": "execute_result"
    }
   ],
   "source": [
    "combinaciones['0000000001001']"
   ]
  },
  {
   "cell_type": "code",
   "execution_count": 40,
   "metadata": {},
   "outputs": [
    {
     "data": {
      "text/plain": [
       "[(), (-1,), (-2,), (-3,), (-1, -2), (-1, -3), (-2, -3), (-1, -2, -3)]"
      ]
     },
     "execution_count": 40,
     "metadata": {},
     "output_type": "execute_result"
    }
   ],
   "source": [
    "conjunto_potencia(ng)"
   ]
  },
  {
   "cell_type": "code",
   "execution_count": 146,
   "metadata": {
    "scrolled": true
   },
   "outputs": [
    {
     "data": {
      "text/plain": [
       "'10000000'"
      ]
     },
     "execution_count": 146,
     "metadata": {},
     "output_type": "execute_result"
    }
   ],
   "source": [
    "bin(128)[2:]"
   ]
  },
  {
   "cell_type": "code",
   "execution_count": 166,
   "metadata": {},
   "outputs": [
    {
     "data": {
      "text/plain": [
       "64210599936"
      ]
     },
     "execution_count": 166,
     "metadata": {},
     "output_type": "execute_result"
    }
   ],
   "source": [
    "3**6*2**4*14336*4**2*2**3*3"
   ]
  },
  {
   "cell_type": "code",
   "execution_count": null,
   "metadata": {},
   "outputs": [],
   "source": []
  }
 ],
 "metadata": {
  "kernelspec": {
   "display_name": "Python 3",
   "language": "python",
   "name": "python3"
  },
  "language_info": {
   "codemirror_mode": {
    "name": "ipython",
    "version": 3
   },
   "file_extension": ".py",
   "mimetype": "text/x-python",
   "name": "python",
   "nbconvert_exporter": "python",
   "pygments_lexer": "ipython3",
   "version": "3.8.5"
  }
 },
 "nbformat": 4,
 "nbformat_minor": 4
}
