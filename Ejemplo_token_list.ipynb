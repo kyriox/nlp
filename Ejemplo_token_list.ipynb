{
 "cells": [
  {
   "cell_type": "code",
   "execution_count": 3,
   "metadata": {},
   "outputs": [],
   "source": [
    "from microtc.textmodel import TextModel"
   ]
  },
  {
   "cell_type": "markdown",
   "metadata": {},
   "source": [
    "## microTC TextModel token_list"
   ]
  },
  {
   "cell_type": "markdown",
   "metadata": {},
   "source": [
    "## $n$-gramas \n",
    "Indica que se generen todas las subsecuencias de $n$ palabras (es decir, $m - n + 1$ tokens para un texto con $m$ palabras). se indica mediante valores negativos. "
   ]
  },
  {
   "cell_type": "code",
   "execution_count": 4,
   "metadata": {},
   "outputs": [],
   "source": [
    "from microtc.textmodel import TextModel"
   ]
  },
  {
   "cell_type": "code",
   "execution_count": 72,
   "metadata": {},
   "outputs": [
    {
     "data": {
      "text/plain": [
       "[['buenos~dias', 'dias~a', 'a~todos', 'todos~ustedes'],\n",
       " ['buenos', 'dias', 'a', 'todos', 'ustedes']]"
      ]
     },
     "execution_count": 72,
     "metadata": {},
     "output_type": "execute_result"
    }
   ],
   "source": [
    "texto=\"~buenos dias a todos ustedes~\"\n",
    "textmodel = TextModel(token_list=[-2, -1])\n",
    "textmodel.compute_tokens(texto)"
   ]
  },
  {
   "cell_type": "code",
   "execution_count": 47,
   "metadata": {},
   "outputs": [
    {
     "data": {
      "text/plain": [
       "[(2, 1.0)]"
      ]
     },
     "execution_count": 47,
     "metadata": {},
     "output_type": "execute_result"
    }
   ],
   "source": [
    "textmodel['catedras']"
   ]
  },
  {
   "cell_type": "markdown",
   "metadata": {},
   "source": [
    "## $q$-gramas\n",
    "\n",
    "son $n$-gramas a nivel de carácter, es decir, cada token es una subcadena de tamaño $q$."
   ]
  },
  {
   "cell_type": "code",
   "execution_count": 65,
   "metadata": {},
   "outputs": [
    {
     "data": {
      "text/plain": [
       "[['q:~bue',\n",
       "  'q:buen',\n",
       "  'q:ueno',\n",
       "  'q:enos',\n",
       "  'q:nos ',\n",
       "  'q:os d',\n",
       "  'q:s di',\n",
       "  'q: dia',\n",
       "  'q:dias',\n",
       "  'q:ias ',\n",
       "  'q:as a',\n",
       "  'q:s a ',\n",
       "  'q: a t',\n",
       "  'q:a to',\n",
       "  'q: tod',\n",
       "  'q:todo',\n",
       "  'q:odos',\n",
       "  'q:dos~']]"
      ]
     },
     "execution_count": 65,
     "metadata": {},
     "output_type": "execute_result"
    }
   ],
   "source": [
    "textmodel = TextModel(token_list=[4])\n",
    "textmodel.compute_tokens(texto)"
   ]
  },
  {
   "cell_type": "markdown",
   "metadata": {},
   "source": [
    "## skip-gramas\n",
    "son $n$-gramas que saltan partes intermedias en subsecuencias. Para este caso, debe especificar la longitud de la subsecuencia y el número de palabras intermedias que se deben omitir."
   ]
  },
  {
   "cell_type": "code",
   "execution_count": 73,
   "metadata": {},
   "outputs": [
    {
     "data": {
      "text/plain": [
       "[['buenos~a', 'dias~todos', 'a~ustedes'],\n",
       " ['buenos~todos', 'dias~ustedes'],\n",
       " ['buenos', 'dias', 'a', 'todos', 'ustedes']]"
      ]
     },
     "execution_count": 73,
     "metadata": {},
     "output_type": "execute_result"
    }
   ],
   "source": [
    "textmodel = TextModel(token_list=[(2,1),(2,2),-1])\n",
    "textmodel.compute_tokens(texto)"
   ]
  },
  {
   "cell_type": "code",
   "execution_count": 74,
   "metadata": {},
   "outputs": [
    {
     "data": {
      "text/plain": [
       "<microtc.textmodel.TextModel at 0x7facf2f1bc40>"
      ]
     },
     "execution_count": 74,
     "metadata": {},
     "output_type": "execute_result"
    }
   ],
   "source": [
    "textmodel.fit([texto])"
   ]
  },
  {
   "cell_type": "code",
   "execution_count": 85,
   "metadata": {},
   "outputs": [
    {
     "data": {
      "text/plain": [
       "{'buenos~a': 0,\n",
       " 'dias~todos': 1,\n",
       " 'a~ustedes': 2,\n",
       " 'buenos~todos': 3,\n",
       " 'dias~ustedes': 4,\n",
       " 'buenos': 5,\n",
       " 'dias': 6,\n",
       " 'a': 7,\n",
       " 'todos': 8,\n",
       " 'ustedes': 9}"
      ]
     },
     "execution_count": 85,
     "metadata": {},
     "output_type": "execute_result"
    }
   ],
   "source": [
    "textmodel.model._w2id"
   ]
  },
  {
   "cell_type": "code",
   "execution_count": null,
   "metadata": {},
   "outputs": [],
   "source": []
  }
 ],
 "metadata": {
  "kernelspec": {
   "display_name": "Python 3",
   "language": "python",
   "name": "python3"
  },
  "language_info": {
   "codemirror_mode": {
    "name": "ipython",
    "version": 3
   },
   "file_extension": ".py",
   "mimetype": "text/x-python",
   "name": "python",
   "nbconvert_exporter": "python",
   "pygments_lexer": "ipython3",
   "version": "3.8.5"
  }
 },
 "nbformat": 4,
 "nbformat_minor": 4
}
