{
 "cells": [
  {
   "cell_type": "code",
   "execution_count": 2,
   "metadata": {},
   "outputs": [],
   "source": [
    "from microtc.textmodel import TextModel"
   ]
  },
  {
   "cell_type": "markdown",
   "metadata": {},
   "source": [
    "## microTC TextModel token_list"
   ]
  },
  {
   "cell_type": "markdown",
   "metadata": {},
   "source": [
    "## $n$-gramas \n",
    "Indica que se generen todas las subsecuencias de $n$ palabras (es decir, $m - n + 1$) tokens para un texto con $m$ palabras). se indica mediante valores negativos. "
   ]
  },
  {
   "cell_type": "code",
   "execution_count": 125,
   "metadata": {},
   "outputs": [
    {
     "data": {
      "text/plain": [
       "[['buenos~dias', 'dias~a', 'a~todos', 'todos~ustedes']]"
      ]
     },
     "execution_count": 125,
     "metadata": {},
     "output_type": "execute_result"
    }
   ],
   "source": [
    "texto=\"~buenos dias a todos ustedes~\"\n",
    "textmodel = TextModel(token_list=[-2], weighting ='entropy')\n",
    "textmodel.compute_tokens(texto)"
   ]
  },
  {
   "cell_type": "markdown",
   "metadata": {},
   "source": [
    "## $q$-gramas\n",
    "\n",
    "son $n$-gramas a nivel de carácter, es decir, cada token es una subcadena de tamaño $q$."
   ]
  },
  {
   "cell_type": "code",
   "execution_count": 32,
   "metadata": {},
   "outputs": [
    {
     "data": {
      "text/plain": [
       "[['q:~buen',\n",
       "  'q:bueno',\n",
       "  'q:uenos',\n",
       "  'q:enos ',\n",
       "  'q:nos d',\n",
       "  'q:os di',\n",
       "  'q:s dia',\n",
       "  'q: dias',\n",
       "  'q:dias ',\n",
       "  'q:ias a',\n",
       "  'q:as a ',\n",
       "  'q:s a t',\n",
       "  'q: a to',\n",
       "  'q:a tod',\n",
       "  'q: todo',\n",
       "  'q:todos',\n",
       "  'q:odos ',\n",
       "  'q:dos u',\n",
       "  'q:os us',\n",
       "  'q:s ust',\n",
       "  'q: uste',\n",
       "  'q:usted',\n",
       "  'q:stede',\n",
       "  'q:tedes',\n",
       "  'q:edes~']]"
      ]
     },
     "execution_count": 32,
     "metadata": {},
     "output_type": "execute_result"
    }
   ],
   "source": [
    "textmodel = TextModel(token_list=[5])\n",
    "texto=\"~buenos dias a todos ustedes~\"\n",
    "textmodel.compute_tokens(texto)\n"
   ]
  },
  {
   "cell_type": "markdown",
   "metadata": {},
   "source": [
    "## skip-gramas\n",
    "son $n$-gramas que saltan partes intermedias en subsecuencias. Para este caso, debe especificar la longitud de la subsecuencia y el número de palabras intermedias que se deben omitir."
   ]
  },
  {
   "cell_type": "code",
   "execution_count": 69,
   "metadata": {},
   "outputs": [
    {
     "data": {
      "text/plain": [
       "[['buenos~todos~ahora', 'dias~ustedes~jjjj']]"
      ]
     },
     "execution_count": 69,
     "metadata": {},
     "output_type": "execute_result"
    }
   ],
   "source": [
    "textmodel = TextModel(token_list=[(3,2)])\n",
    "textmodel.compute_tokens(texto)"
   ]
  },
  {
   "cell_type": "code",
   "execution_count": 68,
   "metadata": {},
   "outputs": [],
   "source": [
    "texto=\"~buenos dias a todos ustedes por ahora jjjj~\""
   ]
  },
  {
   "cell_type": "code",
   "execution_count": 52,
   "metadata": {},
   "outputs": [
    {
     "data": {
      "text/plain": [
       "<microtc.textmodel.TextModel at 0x7faaa281e100>"
      ]
     },
     "execution_count": 52,
     "metadata": {},
     "output_type": "execute_result"
    }
   ],
   "source": [
    "textmodel.fit([texto])"
   ]
  },
  {
   "cell_type": "code",
   "execution_count": 53,
   "metadata": {},
   "outputs": [
    {
     "data": {
      "text/plain": [
       "{'buenos': 0,\n",
       " 'dias': 1,\n",
       " 'a': 2,\n",
       " 'todos': 3,\n",
       " 'ustedes': 4,\n",
       " 'buenos~dias': 5,\n",
       " 'dias~a': 6,\n",
       " 'a~todos': 7,\n",
       " 'todos~ustedes': 8,\n",
       " 'buenos~a': 9,\n",
       " 'dias~todos': 10,\n",
       " 'a~ustedes': 11,\n",
       " 'q:~buen': 12,\n",
       " 'q:bueno': 13,\n",
       " 'q:uenos': 14,\n",
       " 'q:enos~': 15,\n",
       " 'q:nos~d': 16,\n",
       " 'q:os~di': 17,\n",
       " 'q:s~dia': 18,\n",
       " 'q:~dias': 19,\n",
       " 'q:dias~': 20,\n",
       " 'q:ias~a': 21,\n",
       " 'q:as~a~': 22,\n",
       " 'q:s~a~t': 23,\n",
       " 'q:~a~to': 24,\n",
       " 'q:a~tod': 25,\n",
       " 'q:~todo': 26,\n",
       " 'q:todos': 27,\n",
       " 'q:odos~': 28,\n",
       " 'q:dos~u': 29,\n",
       " 'q:os~us': 30,\n",
       " 'q:s~ust': 31,\n",
       " 'q:~uste': 32,\n",
       " 'q:usted': 33,\n",
       " 'q:stede': 34,\n",
       " 'q:tedes': 35,\n",
       " 'q:edes~': 36,\n",
       " 'q:des~~': 37,\n",
       " 'q:~buenos': 38,\n",
       " 'q:buenos~': 39,\n",
       " 'q:uenos~d': 40,\n",
       " 'q:enos~di': 41,\n",
       " 'q:nos~dia': 42,\n",
       " 'q:os~dias': 43,\n",
       " 'q:s~dias~': 44,\n",
       " 'q:~dias~a': 45,\n",
       " 'q:dias~a~': 46,\n",
       " 'q:ias~a~t': 47,\n",
       " 'q:as~a~to': 48,\n",
       " 'q:s~a~tod': 49,\n",
       " 'q:~a~todo': 50,\n",
       " 'q:a~todos': 51,\n",
       " 'q:~todos~': 52,\n",
       " 'q:todos~u': 53,\n",
       " 'q:odos~us': 54,\n",
       " 'q:dos~ust': 55,\n",
       " 'q:os~uste': 56,\n",
       " 'q:s~usted': 57,\n",
       " 'q:~ustede': 58,\n",
       " 'q:ustedes': 59,\n",
       " 'q:stedes~': 60,\n",
       " 'q:tedes~~': 61}"
      ]
     },
     "execution_count": 53,
     "metadata": {},
     "output_type": "execute_result"
    }
   ],
   "source": [
    "textmodel.model._w2id"
   ]
  },
  {
   "cell_type": "code",
   "execution_count": 51,
   "metadata": {},
   "outputs": [
    {
     "data": {
      "text/plain": [
       "[]"
      ]
     },
     "execution_count": 51,
     "metadata": {},
     "output_type": "execute_result"
    }
   ],
   "source": [
    "textmodel.model['buenos']"
   ]
  },
  {
   "cell_type": "code",
   "execution_count": 89,
   "metadata": {},
   "outputs": [],
   "source": [
    "ng=[-1,-2,-3,]\n",
    "qg=[1,2,3,4,6,7,8,9]\n",
    "sg=[(3,1),(2,2),(2,1)]"
   ]
  },
  {
   "cell_type": "code",
   "execution_count": 71,
   "metadata": {},
   "outputs": [
    {
     "data": {
      "text/plain": [
       "64"
      ]
     },
     "execution_count": 71,
     "metadata": {},
     "output_type": "execute_result"
    }
   ],
   "source": [
    "[-1,-2,-3]={0,{-1} ,{-2},{-3},{-1,-2}}"
   ]
  },
  {
   "cell_type": "code",
   "execution_count": 87,
   "metadata": {},
   "outputs": [],
   "source": [
    "from itertools import combinations\n",
    "def conjunto_potencia(lista):\n",
    "    cp=[]\n",
    "    for i in range(0,len(lista)+1):\n",
    "        for comb in combinations(lista,i):\n",
    "            cp.append(comb)\n",
    "    return cp"
   ]
  },
  {
   "cell_type": "code",
   "execution_count": 132,
   "metadata": {},
   "outputs": [],
   "source": [
    "def binario(n):\n",
    "    return '0'"
   ]
  },
  {
   "cell_type": "code",
   "execution_count": 155,
   "metadata": {},
   "outputs": [],
   "source": [
    "combinaciones={}\n",
    "i=0\n",
    "for n in conjunto_potencia(ng)[1:]:\n",
    "    for q in conjunto_potencia(qg):\n",
    "        for s in conjunto_potencia(sg):\n",
    "            n=str(bin(i))[2:]\n",
    "            clave=n.zfill(13)\n",
    "            combinaciones[clave]=(list(n)+list(q)+list(s))\n",
    "            i=i+1"
   ]
  },
  {
   "cell_type": "code",
   "execution_count": 164,
   "metadata": {},
   "outputs": [
    {
     "data": {
      "text/plain": [
       "[1, 1, 0, 1, 1, 1, 1, 1, 1, 1, 1, 1, 1, 1]"
      ]
     },
     "execution_count": 164,
     "metadata": {},
     "output_type": "execute_result"
    }
   ],
   "source": [
    "[int(d) for d in list(combinaciones.keys())[-1]]"
   ]
  },
  {
   "cell_type": "code",
   "execution_count": 163,
   "metadata": {},
   "outputs": [
    {
     "data": {
      "text/plain": [
       "14336"
      ]
     },
     "execution_count": 163,
     "metadata": {},
     "output_type": "execute_result"
    }
   ],
   "source": [
    "len(combinaciones)"
   ]
  },
  {
   "cell_type": "code",
   "execution_count": 130,
   "metadata": {},
   "outputs": [
    {
     "data": {
      "text/plain": [
       "[0, 0, 0, 0, 0, 0, 0, 0, 0, 0, 0, 0, 1]"
      ]
     },
     "execution_count": 130,
     "metadata": {},
     "output_type": "execute_result"
    }
   ],
   "source": []
  },
  {
   "cell_type": "code",
   "execution_count": 146,
   "metadata": {},
   "outputs": [
    {
     "data": {
      "text/plain": [
       "'10000000'"
      ]
     },
     "execution_count": 146,
     "metadata": {},
     "output_type": "execute_result"
    }
   ],
   "source": [
    "bin(128)[2:]"
   ]
  },
  {
   "cell_type": "code",
   "execution_count": null,
   "metadata": {},
   "outputs": [],
   "source": []
  }
 ],
 "metadata": {
  "kernelspec": {
   "display_name": "Python 3",
   "language": "python",
   "name": "python3"
  },
  "language_info": {
   "codemirror_mode": {
    "name": "ipython",
    "version": 3
   },
   "file_extension": ".py",
   "mimetype": "text/x-python",
   "name": "python",
   "nbconvert_exporter": "python",
   "pygments_lexer": "ipython3",
   "version": "3.8.5"
  }
 },
 "nbformat": 4,
 "nbformat_minor": 4
}
