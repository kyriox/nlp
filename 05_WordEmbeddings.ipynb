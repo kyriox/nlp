{
 "cells": [
  {
   "cell_type": "code",
   "execution_count": 114,
   "metadata": {},
   "outputs": [
    {
     "name": "stdout",
     "output_type": "stream",
     "text": [
      "The autoreload extension is already loaded. To reload it, use:\n",
      "  %reload_ext autoreload\n"
     ]
    }
   ],
   "source": [
    "from mpl_toolkits.mplot3d import Axes3D\n",
    "from scipy.io import loadmat\n",
    "#from sklearn import datasets\n",
    "import pandas as pd\n",
    "import nltk\n",
    "import nltk\n",
    "#nltk.download('punkt')\n",
    "from utilidades import *\n",
    "import numpy as np\n",
    "from sklearn.metrics import f1_score as f1, accuracy_score as acc\n",
    "%matplotlib inline  \n",
    "%load_ext autoreload\n",
    "%autoreload 2\n"
   ]
  },
  {
   "cell_type": "markdown",
   "metadata": {},
   "source": [
    "## Word Embedings\n",
    "\n",
    "De igual forma que las técnicas de vectorización vistas hasta ahora, los word embeddings  se utilizan para transformar texto a una forma numérica en forma de vectores. La  transformación resultante a diferencias de las listas de posteo y bag of words produce vectores densos de dimension $N$ (embeber las palabras en espacio de dimensión $N$). A cada palabra se le asigna un vector único de tal forma que palabras similares deben tener vectores cercanos entre sí. \n",
    "\n",
    "Por ejemplo si se tiene el siguiente vocabulario:\n",
    "\n",
    "**$V=\\{$pepe, pecas, pica, papas, pico$\\}$**\n",
    "\n",
    "La aproximación directa sería utilizar **one-hot encoding**, esto es utilizar vectores de dimensión $N=|V|$ donde |V| es el tamaño del vocabulario (para este ejemplo $|V|=5$). \n",
    "\n",
    "| Palabra       | pepe | pecas |pica | papas| pico |\n",
    "| ------------- | ---- | ---- | ---- | ---- |---- |\n",
    "| $\\overrightarrow{pepe}$ |  1   |   0  |   0  |   0  | 0 |\n",
    "| $\\overrightarrow{pecas}$ |  0   |   1  |   0  |   0  | 0 |\n",
    "| $\\overrightarrow{pica}$ |  0   |   0  |   1  |   0  | 0 |\n",
    "| $\\overrightarrow{papas}$  |  0   |   0  |   0  |   1 | 0 |\n",
    "| $\\overrightarrow{pico}$  |  0   |   0  |   0  |   0 | 1|\n",
    "\n",
    "\n",
    "Esto resulta en vectores dispersos, los cuales no proporcionan información acerca de las relaciones que existen entre las palabras (por ejemplo pica y pico). Podemos ver esa situación graficamente, pero cómo nuestros datos están en 5 dimensiones utilizaremos PCA, para reducir la dimensión de los datos."
   ]
  },
  {
   "cell_type": "code",
   "execution_count": 4,
   "metadata": {},
   "outputs": [
    {
     "name": "stdout",
     "output_type": "stream",
     "text": [
      "{'pepe': array([1, 0, 0, 0, 0]), 'pecas': array([0, 1, 0, 0, 0]), 'pica': array([0, 0, 1, 0, 0]), 'papas': array([0, 0, 0, 1, 0]), 'pico': array([0, 0, 0, 0, 1])}\n"
     ]
    }
   ],
   "source": [
    "# Los datos para este ejemplo\n",
    "V=np.array(['pepe', 'pecas','pica', 'papas', 'pico']) #el vocabulario\n",
    "# la representación en one-hot encoding\n",
    "X=np.array([[1,0,0,0,0],[0,1,0,0,0],[0,0,1,0,0],[0,0,0,1,0],[0,0,0,0,1]])\n",
    "clases=dict(zip(V,X)) # usaremos una clase por cada palabra\n",
    "print(clases)"
   ]
  },
  {
   "cell_type": "code",
   "execution_count": 12,
   "metadata": {},
   "outputs": [
    {
     "data": {
      "image/png": "[encoded data removed]",
      "text/plain": [
       "<Figure size 432x288 with 1 Axes>"
      ]
     },
     "metadata": {
      "needs_background": "light"
     },
     "output_type": "display_data"
    }
   ],
   "source": [
    "# Función para aplicar pca y graficar los vectores en 2 y 3 dimensiones (default 2d).\n",
    "plotPCA(X,labels=V)"
   ]
  },
  {
   "cell_type": "markdown",
   "metadata": {},
   "source": [
    "podemos ver que en un espacio de dos dimensiones las palabras **pica** y **pico** se representan con vectores \"lejanos\", el ángulo entre ellos es grande. Esta representación son los word embeddings *one-hot encoding*"
   ]
  },
  {
   "attachments": {},
   "cell_type": "markdown",
   "metadata": {},
   "source": [
    "Aún cuando *one-hot encoding* es un embedding válido, este es disperso y no dice nada acerca de cómo se relacionan la palabras entre ellas. Desearíamos que el embedding  pudiera expresar las similitudes y diferencias semánticas entre ellas, por ejemple si dos palabras significan lo mismo (son sinónimos), son términos opuestos (antónimos) o si en algún contexto podrían significar lo mismo. \n",
    "\n",
    "Algunos ejemplos de relaciones que se podrían capturar serían por ejemplo que palabras como: *Paris, Teherán, Tokio, Canberra*  están relacionadas con la palabra capital, o *México, Estados Unidos, Canada* se relacionan con el término *Norte América*.   "
   ]
  },
  {
   "cell_type": "markdown",
   "metadata": {},
   "source": [
    "Los generación de word embeddings parte de la idea de que el significado de una palabra es afectado por las palabras en torno suyo. Una de las primeras ideas que se puede tener si se cuenta con un corpus de documentos, es crear una matriz de co-currencia con todo el vocabulario, es decir el contexto de  cada palabra está dado por todas las palabras de las que aparece rodeada, es decir su contexto. Por ejemplo si se tiene la siguiente colección de documentos:"
   ]
  },
  {
   "cell_type": "code",
   "execution_count": 25,
   "metadata": {},
   "outputs": [
    {
     "data": {
      "text/html": [
       "<div>\n",
       "<style scoped>\n",
       "    .dataframe tbody tr th:only-of-type {\n",
       "        vertical-align: middle;\n",
       "    }\n",
       "\n",
       "    .dataframe tbody tr th {\n",
       "        vertical-align: top;\n",
       "    }\n",
       "\n",
       "    .dataframe thead th {\n",
       "        text-align: right;\n",
       "    }\n",
       "</style>\n",
       "<table border=\"1\" class=\"dataframe\">\n",
       "  <thead>\n",
       "    <tr style=\"text-align: right;\">\n",
       "      <th></th>\n",
       "      <th>amlo</th>\n",
       "      <th>anaya</th>\n",
       "      <th>anos</th>\n",
       "      <th>candidato</th>\n",
       "      <th>candidatos</th>\n",
       "      <th>doce</th>\n",
       "      <th>eterno</th>\n",
       "      <th>intentando</th>\n",
       "      <th>meade</th>\n",
       "      <th>mexico</th>\n",
       "      <th>pena</th>\n",
       "      <th>presidente</th>\n",
       "      <th>ser</th>\n",
       "    </tr>\n",
       "  </thead>\n",
       "  <tbody>\n",
       "    <tr>\n",
       "      <th>amlo</th>\n",
       "      <td>3.0</td>\n",
       "      <td>1.0</td>\n",
       "      <td>1.0</td>\n",
       "      <td>1.0</td>\n",
       "      <td>1.0</td>\n",
       "      <td>1.0</td>\n",
       "      <td>1.0</td>\n",
       "      <td>1.0</td>\n",
       "      <td>1.0</td>\n",
       "      <td>0.0</td>\n",
       "      <td>0.0</td>\n",
       "      <td>3.0</td>\n",
       "      <td>1.0</td>\n",
       "    </tr>\n",
       "    <tr>\n",
       "      <th>anaya</th>\n",
       "      <td>1.0</td>\n",
       "      <td>1.0</td>\n",
       "      <td>0.0</td>\n",
       "      <td>0.0</td>\n",
       "      <td>1.0</td>\n",
       "      <td>0.0</td>\n",
       "      <td>0.0</td>\n",
       "      <td>0.0</td>\n",
       "      <td>1.0</td>\n",
       "      <td>0.0</td>\n",
       "      <td>0.0</td>\n",
       "      <td>1.0</td>\n",
       "      <td>0.0</td>\n",
       "    </tr>\n",
       "    <tr>\n",
       "      <th>anos</th>\n",
       "      <td>1.0</td>\n",
       "      <td>0.0</td>\n",
       "      <td>1.0</td>\n",
       "      <td>0.0</td>\n",
       "      <td>0.0</td>\n",
       "      <td>1.0</td>\n",
       "      <td>0.0</td>\n",
       "      <td>1.0</td>\n",
       "      <td>0.0</td>\n",
       "      <td>0.0</td>\n",
       "      <td>0.0</td>\n",
       "      <td>1.0</td>\n",
       "      <td>1.0</td>\n",
       "    </tr>\n",
       "    <tr>\n",
       "      <th>candidato</th>\n",
       "      <td>1.0</td>\n",
       "      <td>0.0</td>\n",
       "      <td>0.0</td>\n",
       "      <td>2.0</td>\n",
       "      <td>0.0</td>\n",
       "      <td>0.0</td>\n",
       "      <td>1.0</td>\n",
       "      <td>0.0</td>\n",
       "      <td>1.0</td>\n",
       "      <td>0.0</td>\n",
       "      <td>1.0</td>\n",
       "      <td>2.0</td>\n",
       "      <td>0.0</td>\n",
       "    </tr>\n",
       "    <tr>\n",
       "      <th>candidatos</th>\n",
       "      <td>1.0</td>\n",
       "      <td>1.0</td>\n",
       "      <td>0.0</td>\n",
       "      <td>0.0</td>\n",
       "      <td>1.0</td>\n",
       "      <td>0.0</td>\n",
       "      <td>0.0</td>\n",
       "      <td>0.0</td>\n",
       "      <td>1.0</td>\n",
       "      <td>0.0</td>\n",
       "      <td>0.0</td>\n",
       "      <td>1.0</td>\n",
       "      <td>0.0</td>\n",
       "    </tr>\n",
       "    <tr>\n",
       "      <th>doce</th>\n",
       "      <td>1.0</td>\n",
       "      <td>0.0</td>\n",
       "      <td>1.0</td>\n",
       "      <td>0.0</td>\n",
       "      <td>0.0</td>\n",
       "      <td>1.0</td>\n",
       "      <td>0.0</td>\n",
       "      <td>1.0</td>\n",
       "      <td>0.0</td>\n",
       "      <td>0.0</td>\n",
       "      <td>0.0</td>\n",
       "      <td>1.0</td>\n",
       "      <td>1.0</td>\n",
       "    </tr>\n",
       "    <tr>\n",
       "      <th>eterno</th>\n",
       "      <td>1.0</td>\n",
       "      <td>0.0</td>\n",
       "      <td>0.0</td>\n",
       "      <td>1.0</td>\n",
       "      <td>0.0</td>\n",
       "      <td>0.0</td>\n",
       "      <td>1.0</td>\n",
       "      <td>0.0</td>\n",
       "      <td>0.0</td>\n",
       "      <td>0.0</td>\n",
       "      <td>0.0</td>\n",
       "      <td>1.0</td>\n",
       "      <td>0.0</td>\n",
       "    </tr>\n",
       "    <tr>\n",
       "      <th>intentando</th>\n",
       "      <td>1.0</td>\n",
       "      <td>0.0</td>\n",
       "      <td>1.0</td>\n",
       "      <td>0.0</td>\n",
       "      <td>0.0</td>\n",
       "      <td>1.0</td>\n",
       "      <td>0.0</td>\n",
       "      <td>1.0</td>\n",
       "      <td>0.0</td>\n",
       "      <td>0.0</td>\n",
       "      <td>0.0</td>\n",
       "      <td>1.0</td>\n",
       "      <td>1.0</td>\n",
       "    </tr>\n",
       "    <tr>\n",
       "      <th>meade</th>\n",
       "      <td>1.0</td>\n",
       "      <td>1.0</td>\n",
       "      <td>0.0</td>\n",
       "      <td>1.0</td>\n",
       "      <td>1.0</td>\n",
       "      <td>0.0</td>\n",
       "      <td>0.0</td>\n",
       "      <td>0.0</td>\n",
       "      <td>2.0</td>\n",
       "      <td>0.0</td>\n",
       "      <td>1.0</td>\n",
       "      <td>2.0</td>\n",
       "      <td>0.0</td>\n",
       "    </tr>\n",
       "    <tr>\n",
       "      <th>mexico</th>\n",
       "      <td>0.0</td>\n",
       "      <td>0.0</td>\n",
       "      <td>0.0</td>\n",
       "      <td>0.0</td>\n",
       "      <td>0.0</td>\n",
       "      <td>0.0</td>\n",
       "      <td>0.0</td>\n",
       "      <td>0.0</td>\n",
       "      <td>0.0</td>\n",
       "      <td>1.0</td>\n",
       "      <td>1.0</td>\n",
       "      <td>1.0</td>\n",
       "      <td>0.0</td>\n",
       "    </tr>\n",
       "    <tr>\n",
       "      <th>pena</th>\n",
       "      <td>0.0</td>\n",
       "      <td>0.0</td>\n",
       "      <td>0.0</td>\n",
       "      <td>1.0</td>\n",
       "      <td>0.0</td>\n",
       "      <td>0.0</td>\n",
       "      <td>0.0</td>\n",
       "      <td>0.0</td>\n",
       "      <td>1.0</td>\n",
       "      <td>1.0</td>\n",
       "      <td>2.0</td>\n",
       "      <td>2.0</td>\n",
       "      <td>0.0</td>\n",
       "    </tr>\n",
       "    <tr>\n",
       "      <th>presidente</th>\n",
       "      <td>3.0</td>\n",
       "      <td>1.0</td>\n",
       "      <td>1.0</td>\n",
       "      <td>2.0</td>\n",
       "      <td>1.0</td>\n",
       "      <td>1.0</td>\n",
       "      <td>1.0</td>\n",
       "      <td>1.0</td>\n",
       "      <td>2.0</td>\n",
       "      <td>1.0</td>\n",
       "      <td>2.0</td>\n",
       "      <td>5.0</td>\n",
       "      <td>1.0</td>\n",
       "    </tr>\n",
       "    <tr>\n",
       "      <th>ser</th>\n",
       "      <td>1.0</td>\n",
       "      <td>0.0</td>\n",
       "      <td>1.0</td>\n",
       "      <td>0.0</td>\n",
       "      <td>0.0</td>\n",
       "      <td>1.0</td>\n",
       "      <td>0.0</td>\n",
       "      <td>1.0</td>\n",
       "      <td>0.0</td>\n",
       "      <td>0.0</td>\n",
       "      <td>0.0</td>\n",
       "      <td>1.0</td>\n",
       "      <td>1.0</td>\n",
       "    </tr>\n",
       "  </tbody>\n",
       "</table>\n",
       "</div>"
      ],
      "text/plain": [
       "            amlo  anaya  anos  candidato  candidatos  doce  eterno  \\\n",
       "amlo         3.0    1.0   1.0        1.0         1.0   1.0     1.0   \n",
       "anaya        1.0    1.0   0.0        0.0         1.0   0.0     0.0   \n",
       "anos         1.0    0.0   1.0        0.0         0.0   1.0     0.0   \n",
       "candidato    1.0    0.0   0.0        2.0         0.0   0.0     1.0   \n",
       "candidatos   1.0    1.0   0.0        0.0         1.0   0.0     0.0   \n",
       "doce         1.0    0.0   1.0        0.0         0.0   1.0     0.0   \n",
       "eterno       1.0    0.0   0.0        1.0         0.0   0.0     1.0   \n",
       "intentando   1.0    0.0   1.0        0.0         0.0   1.0     0.0   \n",
       "meade        1.0    1.0   0.0        1.0         1.0   0.0     0.0   \n",
       "mexico       0.0    0.0   0.0        0.0         0.0   0.0     0.0   \n",
       "pena         0.0    0.0   0.0        1.0         0.0   0.0     0.0   \n",
       "presidente   3.0    1.0   1.0        2.0         1.0   1.0     1.0   \n",
       "ser          1.0    0.0   1.0        0.0         0.0   1.0     0.0   \n",
       "\n",
       "            intentando  meade  mexico  pena  presidente  ser  \n",
       "amlo               1.0    1.0     0.0   0.0         3.0  1.0  \n",
       "anaya              0.0    1.0     0.0   0.0         1.0  0.0  \n",
       "anos               1.0    0.0     0.0   0.0         1.0  1.0  \n",
       "candidato          0.0    1.0     0.0   1.0         2.0  0.0  \n",
       "candidatos         0.0    1.0     0.0   0.0         1.0  0.0  \n",
       "doce               1.0    0.0     0.0   0.0         1.0  1.0  \n",
       "eterno             0.0    0.0     0.0   0.0         1.0  0.0  \n",
       "intentando         1.0    0.0     0.0   0.0         1.0  1.0  \n",
       "meade              0.0    2.0     0.0   1.0         2.0  0.0  \n",
       "mexico             0.0    0.0     1.0   1.0         1.0  0.0  \n",
       "pena               0.0    1.0     1.0   2.0         2.0  0.0  \n",
       "presidente         1.0    2.0     1.0   2.0         5.0  1.0  \n",
       "ser                1.0    0.0     0.0   0.0         1.0  1.0  "
      ]
     },
     "execution_count": 25,
     "metadata": {},
     "output_type": "execute_result"
    }
   ],
   "source": [
    "t1=\"amlo, meade, anaya fueron candidatos a presidente\"\n",
    "t2=\"amlo tiene doce años intentando ser presidente\"\n",
    "t3=\"meade es el candidato del presidente peña\"\n",
    "t4=\"peña fue presidente de méxico\"\n",
    "t5=\"amlo es el eterno candidato a presidente\"\n",
    "coleccion=[t1,t2,t3,t4,t5]\n",
    "tokens_list=tokenize_sentences(coleccion)\n",
    "# funcion simple para calcular la matriz co-ocurrencia\n",
    "voc,X_co=cocurrency_matrix(tokens_list) \n",
    "X_co # La matriz  de co-ocurrencia completa"
   ]
  },
  {
   "cell_type": "code",
   "execution_count": 26,
   "metadata": {},
   "outputs": [
    {
     "data": {
      "text/html": [
       "<div>\n",
       "<style scoped>\n",
       "    .dataframe tbody tr th:only-of-type {\n",
       "        vertical-align: middle;\n",
       "    }\n",
       "\n",
       "    .dataframe tbody tr th {\n",
       "        vertical-align: top;\n",
       "    }\n",
       "\n",
       "    .dataframe thead th {\n",
       "        text-align: right;\n",
       "    }\n",
       "</style>\n",
       "<table border=\"1\" class=\"dataframe\">\n",
       "  <thead>\n",
       "    <tr style=\"text-align: right;\">\n",
       "      <th></th>\n",
       "      <th>candidato</th>\n",
       "      <th>presidente</th>\n",
       "      <th>mexico</th>\n",
       "    </tr>\n",
       "  </thead>\n",
       "  <tbody>\n",
       "    <tr>\n",
       "      <th>amlo</th>\n",
       "      <td>1.0</td>\n",
       "      <td>3.0</td>\n",
       "      <td>0.0</td>\n",
       "    </tr>\n",
       "    <tr>\n",
       "      <th>meade</th>\n",
       "      <td>1.0</td>\n",
       "      <td>2.0</td>\n",
       "      <td>0.0</td>\n",
       "    </tr>\n",
       "    <tr>\n",
       "      <th>pena</th>\n",
       "      <td>1.0</td>\n",
       "      <td>2.0</td>\n",
       "      <td>1.0</td>\n",
       "    </tr>\n",
       "  </tbody>\n",
       "</table>\n",
       "</div>"
      ],
      "text/plain": [
       "       candidato  presidente  mexico\n",
       "amlo         1.0         3.0     0.0\n",
       "meade        1.0         2.0     0.0\n",
       "pena         1.0         2.0     1.0"
      ]
     },
     "execution_count": 26,
     "metadata": {},
     "output_type": "execute_result"
    }
   ],
   "source": [
    "# Veamos solo una porción que relaciona a las personas ['amlo','meade','pena'] con el\n",
    "# contexto dado por ['candidato','presidente','mexico']\n",
    "X_co.loc[['amlo','meade','pena']][['candidato','presidente','mexico']]"
   ]
  },
  {
   "attachments": {
    "image.png": {
     "image/png": "[encoded data removed]"
    }
   },
   "cell_type": "markdown",
   "metadata": {},
   "source": [
    "Podemos ver que todas las personas están relacionadas con las palabras *candidato* y *presidente* y que *amlo* tiene una mayor co-ocurrencia con presidente. El problema con la matriz es que puede ser muy grande. ¿Qué tan grande? $|V| \\times |V|$\n",
    "\n",
    "Lo ideal es reducir la dimensión de la matriz lo más simple es realizarlo mediante una factorización:\n",
    "\n",
    "Matriz Original | Factorización &nbsp;&nbsp;&nbsp;&nbsp;&nbsp;&nbsp;&nbsp;&nbsp;&nbsp;&nbsp;&nbsp;&nbsp;&nbsp;&nbsp;&nbsp;&nbsp;&nbsp;&nbsp;&nbsp;&nbsp;\n",
    "--------------- | ----------------------------------\n",
    "$X_{co}$        | $U_{word}*V_{context}$                               \n",
    "$|V|\\times |V|$ | $(|V| \\times N) * (N \\times |V|)$\n",
    "\n",
    "Para nuestro ejemplo la primera fila de $X$ corresponderá al embedding para la palabra **amlo**. La reducción puede realizarse mediate una factorización donde $X=U_{word}*V_{context}$. La forma más popular es mediante el uso de redes neuronales profundas.\n",
    "\n",
    "### Word2Vec\n",
    "\n",
    "Word2Vec genera los words embedding mediandte el uso de dos métodos: Continous Bag of Words (CBOW) y Skip Gram, ambos basados en redes neuronales.\n",
    "\n",
    "#### CBOW\n",
    "\n",
    "CBOW toma como entrada un contexto $C$ de tamaño $|C|$ y trata de predecir la palabra que corresponde. Esto es similar a como realizamos los examenes de Inglés cuando tenemos que completar una oración a la que le falta una palabra. Por ejemplo si tenemos la siguiente sentencia: \n",
    "\n",
    "\n",
    "**____ there a restaurant near here?**\n",
    "\n",
    "el contexto estaría dado por los one hot encodings para los tokens $\\{there, a, restaurant, near, here\\}$ ($\\{y_1,y_2,...y_5\\}$) y se mediría el error con respecto al one hot encoding de salida para la palabra $x_i=is$. Se utiliza una red neurolal con una capa oculta para ajustar los pesos corresponcientes a cada palabra usando contextos de tamaño |C| (ver la siguiente figura).\n",
    "\n",
    "|![image.png](attachment:image.png)|\n",
    "|:--:| \n",
    "|**CBOW**|"
   ]
  },
  {
   "cell_type": "markdown",
   "metadata": {},
   "source": [
    "donde\n",
    "\n",
    " - $W$  es la matriz de pesos que mapea las entradas $x_{i}$ a la capa oculta. Generalmente se toma el promedio de todas las palabras en el contexto $C$\n",
    " - $W^{'}$ es la matriz de pesos que mapea las salidas de capa oculta a la capa de salida."
   ]
  },
  {
   "attachments": {
    "image.png": {
     "image/png": "[encoded data removed]"
    }
   },
   "cell_type": "markdown",
   "metadata": {},
   "source": [
    "La palabra que se quiere aprender puede ser vista como una palabra \"central\" y las palabras en torno a ella, serían su contexto. Así podemos ver el contexto $C$ en términos de un tamaño de ventana **window_size  ($\\mathit{ws}$)** (lo relacionaremos con los parámetros de los modelos para word embeddings). \n",
    "\n",
    "\n",
    "|![image.png](attachment:image.png)|\n",
    "|:--:| \n",
    "|**Posibles contexto para diferentes valores de $\\mathit{ws}$**|\n",
    "\n",
    "La figura no contempla todos los posibles contextos, solo ilustra los simétricos. Aunque que Mikolov et al en [3] que los mejores resultados para la tare reportada los obtinen con CBOW utilizando una ventana simétrica de 4.  "
   ]
  },
  {
   "attachments": {
    "image.png": {
     "image/png": "[encoded data removed]"
    }
   },
   "cell_type": "markdown",
   "metadata": {},
   "source": [
    "####  Skip-Gram\n",
    "\n",
    "Skip-Gram puede verse básicamente como un CBOW inverso, donde a partir de una palabra se predice su contexto. Es decir para cada posible posición de una palabra en un contexto dado, se obtienen $|C|$ distribuciones de probabilidad con $|V|$ probabilidades cada una.\n",
    "\n",
    "|![image.png](attachment:image.png)|\n",
    "|:--:| \n",
    "|**Skip-Gram**|"
   ]
  },
  {
   "cell_type": "markdown",
   "metadata": {},
   "source": [
    "Algunas de las ventajas de un método con respecto de otro de acuerdo con Mikolov son: el modelo Skip Gram es mejor cuando se tienen pocos datos y es bueno para representar palabras poco frecuentes, mientras que CBOW es más rápido y produce mejores representaciónes de palabras frecuentes."
   ]
  },
  {
   "cell_type": "markdown",
   "metadata": {},
   "source": [
    "\n",
    "### FastText\n",
    "\n",
    "Es una versión muy popular de embeddings propuesto por Facebook, FastText utiliza el contexto considerando todas las subwords(sub-palabras) para cada término en el vocabulario. Es decir utiliza $q$-gramas con el fin de considerar la morfología de las palabras durante el aprendizaje del modelo. Por ejemplo la palabra **pasear** para $ 2 \\leq q \\leq 3$ resultaría en los $q$-gramas de 2 y 3 caracteres **{pas, ase, ear, pa, as, se, ea, ar}**. Cuando se utilizan subwords, cada vector es el resultado de la suma de los vectores para cada una de los $q$-gramas. FastText al igual que Word2Vec utiliza los modelos CBOW y Skip-Gram. "
   ]
  },
  {
   "cell_type": "markdown",
   "metadata": {},
   "source": [
    "## Gensim"
   ]
  },
  {
   "cell_type": "markdown",
   "metadata": {},
   "source": [
    "Es una biblioteca para realizar modelado semántico no supervisado a partir colecciones de documentos de texto. En particular estamos interesado en la implementación de Gensim para FastText. "
   ]
  },
  {
   "cell_type": "code",
   "execution_count": 38,
   "metadata": {},
   "outputs": [],
   "source": [
    "#Podemos utilizarlo \n",
    "#! pip install gensim # si no está instalado\n",
    "#! conda install gensim \n",
    "from gensim.models import FastText"
   ]
  },
  {
   "cell_type": "markdown",
   "metadata": {},
   "source": [
    "Algunos de sus parametros son:\n",
    "    \n",
    "- **sentences**: Puede ser una lista de listas de tokens, pero para coleciones grandes pueden utilizarse streams iterables directamentes desde disco o la red.\n",
    "- **min_count**: Se ignoran las palabras con una frecuencia de ocurrencia menor que este valor (default=1).\n",
    "- **size**: La dimensión de los vectores (default=100).\n",
    "- **window**: La distancia máxima dentro de una sentencia con respecto a la palabra a predecir (recuerde el contexto y $\\mathit{ws}$, default=5) \n",
    "- **sg**: El algoritmo de aprendizaje skip-gram si sg=1, CBOW de otra forma.\n",
    "- **min_n**: Longitud mínima de $q$-grams (default=0).\n",
    "- **max_n**: Longitud mínima de $q$-grams. Si max_n<min_n no se utilizan los $n$-grams (default=0).\n",
    "- **word_ngrams**: Si es 1, se utilizan los vectores para sub-palabras ($n$-grams). Si es   0, es equivalente a Word2Vec (default=1).\n",
    "- **epoch**: Número de epocas (default=5)."
   ]
  },
  {
   "cell_type": "code",
   "execution_count": 27,
   "metadata": {},
   "outputs": [],
   "source": [
    "# Revisemos un ejemplo\n",
    "train_df=pd.read_csv('data/humor/train_english.tgz', compression='gzip',usecols=['is_humor','text'])\n",
    "test_df=pd.read_csv('data/humor/dev_english.csv',usecols=['is_humor','text'])\n",
    "train_df=train_df.dropna().astype({'is_humor': 'int32'})\n",
    "test_df=test_df.dropna().astype({'is_humor': 'int32'})"
   ]
  },
  {
   "cell_type": "code",
   "execution_count": 28,
   "metadata": {},
   "outputs": [
    {
     "name": "stdout",
     "output_type": "stream",
     "text": [
      "8000\n"
     ]
    }
   ],
   "source": [
    "print(len(train_df.text)) # número de tweets"
   ]
  },
  {
   "cell_type": "code",
   "execution_count": 30,
   "metadata": {},
   "outputs": [],
   "source": [
    "# para porbar solo con un subconjuto de 8000 tweets \n",
    "tokens=tokenize_sentences(train_df.text)"
   ]
  },
  {
   "cell_type": "code",
   "execution_count": 32,
   "metadata": {},
   "outputs": [
    {
     "data": {
      "text/plain": [
       "['last',\n",
       " 'night',\n",
       " 'my',\n",
       " 'wife',\n",
       " 'and',\n",
       " 'i',\n",
       " 'watched',\n",
       " '2',\n",
       " 'hours',\n",
       " 'of',\n",
       " 'cooking',\n",
       " 'shows',\n",
       " 'before',\n",
       " 'she',\n",
       " 'hugged',\n",
       " 'and',\n",
       " 'went',\n",
       " 'to',\n",
       " 'bed',\n",
       " 'im',\n",
       " 'pretty',\n",
       " 'sure',\n",
       " 'im',\n",
       " 'in',\n",
       " 'the',\n",
       " 'friend',\n",
       " 'zone']"
      ]
     },
     "execution_count": 32,
     "metadata": {},
     "output_type": "execute_result"
    }
   ],
   "source": [
    "tokens[100]"
   ]
  },
  {
   "cell_type": "code",
   "execution_count": 39,
   "metadata": {},
   "outputs": [],
   "source": [
    "# Tiempo de generación del vocavulario para los 8000 tweets\n",
    "%timeit\n",
    "#Defininmos los parametros del modelo y generamos el vocabulario\n",
    "model = FastText(size=100, window=3, min_count=1, min_n=2, max_n=4)\n",
    "model.build_vocab(sentences=tokens)"
   ]
  },
  {
   "cell_type": "code",
   "execution_count": 15,
   "metadata": {},
   "outputs": [],
   "source": [
    "model = FastText(size=100, window=3, min_count=1, min_n=2, max_n=4)\n",
    "model.build_vocab(sentences=tokens)"
   ]
  },
  {
   "cell_type": "code",
   "execution_count": 46,
   "metadata": {},
   "outputs": [
    {
     "name": "stdout",
     "output_type": "stream",
     "text": [
      "Tamaño del vocabulario:  15213\n"
     ]
    },
    {
     "data": {
      "text/plain": [
       "['tennessee',\n",
       " 'were',\n",
       " 'the',\n",
       " 'best',\n",
       " 'state',\n",
       " 'nobody',\n",
       " 'even',\n",
       " 'comes',\n",
       " 'close',\n",
       " 'elevennessee']"
      ]
     },
     "execution_count": 46,
     "metadata": {},
     "output_type": "execute_result"
    }
   ],
   "source": [
    "#Podemos ver el vocabulario usando model.wv.vocab\n",
    "print(\"Tamaño del vocabulario: \",len(model.wv.vocab))\n",
    "list(model.wv.vocab)[:10] #solo vemos los primeros 10 elemetos"
   ]
  },
  {
   "cell_type": "code",
   "execution_count": 41,
   "metadata": {},
   "outputs": [],
   "source": [
    "model.train(sentences=tokens,total_examples=len(tokens), epochs=5)"
   ]
  },
  {
   "cell_type": "code",
   "execution_count": 42,
   "metadata": {},
   "outputs": [
    {
     "data": {
      "text/plain": [
       "array([0.12648474, 0.23166302, 0.41765085, 0.06809738, 0.6353527 ,\n",
       "       0.26070875, 0.521483  , 0.16620561, 0.37434587], dtype=float32)"
      ]
     },
     "execution_count": 42,
     "metadata": {},
     "output_type": "execute_result"
    }
   ],
   "source": [
    "# El modelo nos permite el acceso a los word embedding de forma indizada\n",
    "#obtenemos las primeras 10 features del word embedding \"peje\"\n",
    "model.wv['tennessee'][1:10] "
   ]
  },
  {
   "cell_type": "code",
   "execution_count": 54,
   "metadata": {},
   "outputs": [
    {
     "name": "stdout",
     "output_type": "stream",
     "text": [
      "distancia entre woman y man: 0.07271158695220947\n",
      "distancia entre woman y tennessee: 0.007259190082550049\n"
     ]
    }
   ],
   "source": [
    "# es posible calcular la distancia entre dos palabras utilizando los indices\n",
    "print(\"distancia entre woman y man:\", model.wv.distance('woman','wife'))\n",
    "print(\"distancia entre woman y tennessee:\", model.wv.distance('woman','man'))"
   ]
  },
  {
   "cell_type": "code",
   "execution_count": 57,
   "metadata": {},
   "outputs": [
    {
     "name": "stdout",
     "output_type": "stream",
     "text": [
      "distancia entre presidente y woman : 0.00725919\n",
      "distancia entre presidente y man : 0.0\n",
      "distancia entre presidente y tennessee : 0.0305022\n",
      "distancia entre presidente y wife : 0.090316474\n",
      "distancia entre presidente y children : 0.020372689\n"
     ]
    }
   ],
   "source": [
    "# calcular la distancia entre una palabra y un conjunto de palabras\n",
    "# todas las palabras deben estar en el vocabulario\n",
    "words_list=['woman','man','tennessee','wife','children']\n",
    "dists=model.wv.distances('man',words_list)\n",
    "for w,d in zip(words_list,dists):\n",
    "    print(\"distancia entre presidente y %s : %s\" %(w,d) )"
   ]
  },
  {
   "cell_type": "code",
   "execution_count": 62,
   "metadata": {},
   "outputs": [
    {
     "name": "stdout",
     "output_type": "stream",
     "text": [
      "key Children not found\n"
     ]
    }
   ],
   "source": [
    "# no es posible utilizar palabras que no estén en el vocabulario con distances\n",
    "try:\n",
    "    w='Children'\n",
    "    model.wv.distances('Children',[w]) #recuerden que todo lo pasamos a minusculas\n",
    "except KeyError:\n",
    "    print(\"key %s not found\" %w )\n"
   ]
  },
  {
   "cell_type": "code",
   "execution_count": 63,
   "metadata": {},
   "outputs": [
    {
     "data": {
      "text/plain": [
       "0.00018805265426635742"
      ]
     },
     "execution_count": 63,
     "metadata": {},
     "output_type": "execute_result"
    }
   ],
   "source": [
    "#pero si con distance\n",
    "model.wv.distance('Children','children')"
   ]
  },
  {
   "cell_type": "code",
   "execution_count": 64,
   "metadata": {},
   "outputs": [
    {
     "name": "stdout",
     "output_type": "stream",
     "text": [
      "esta la palabra son?:  False\n",
      "No importa este es su word embedding:  [ 0.1824554   0.08255995  0.17674161  0.3451457  -0.04753212  0.57964545\n",
      "  0.17482656  0.45741835  0.17817648  0.2907769  -0.33081675 -0.9158318\n",
      "  0.3031999  -0.38963187  0.19058533  0.4292277  -0.57171375 -0.29364648\n",
      "  0.24005426  0.2543974   0.6778117   0.44437408  0.13666727  0.331468\n",
      " -0.03010703 -0.00453224  0.43162957  0.02833229  0.60437936 -0.33419666\n",
      "  0.15566199 -0.17856765  0.72025585 -0.02165779  0.3578782  -0.07629067\n",
      "  0.07105778 -0.00486409  0.32094377 -0.29296032  0.15686753  0.22123311\n",
      " -0.18057364 -0.11895902  0.4006938   0.23216039 -0.17072158  0.19333267\n",
      "  0.3740338  -0.26225382  0.02207747 -0.4330518  -0.19488168 -0.6648915\n",
      "  0.02557234  0.07148401 -0.1957023  -0.28622618 -0.09006874  0.36807582\n",
      "  0.26905033 -0.5787207  -0.71503764  0.13762334  0.31857118  0.3531153\n",
      " -0.13598718  0.05661442 -0.24924521  0.32866687 -0.16974938 -0.02973154\n",
      "  0.55480504 -0.05555548 -0.03589917 -0.35324052 -0.6365571  -0.35292983\n",
      " -0.1670767  -0.06521597  0.4588724   0.3643055   0.61460847 -0.22866261\n",
      "  0.1872739  -0.39862874  0.03950243 -0.41046774  0.02036153 -0.07885502\n",
      "  0.2628561   0.604458    0.30540767  0.39730015 -0.06809402  0.10177349\n",
      " -0.5202394   0.07807081 -0.23335071  0.2518568 ]\n"
     ]
    }
   ],
   "source": [
    "# Podemos obtener los word embbedings de palabras que no estan en el vocabulario\n",
    "print(\"esta la palabra son?: \", 'Children' in model.wv.vocab)\n",
    "# uno de los beneficios de usar subwords \n",
    "print(\"No importa este es su word embedding: \", model.wv['Children'])"
   ]
  },
  {
   "cell_type": "code",
   "execution_count": 69,
   "metadata": {},
   "outputs": [
    {
     "data": {
      "text/plain": [
       "0.00018805265426635742"
      ]
     },
     "execution_count": 69,
     "metadata": {},
     "output_type": "execute_result"
    }
   ],
   "source": [
    "# Su distancia coseno\n",
    "model.wv.distance('Children','children')"
   ]
  },
  {
   "cell_type": "markdown",
   "metadata": {},
   "source": [
    "Una forma simple de calcular el embedding de una sentencia o secuencia de palabras (**sentence embeddings**) es utilizando la media por dimension de los embeddings para cada palabra en la secuencia:"
   ]
  },
  {
   "cell_type": "code",
   "execution_count": 76,
   "metadata": {},
   "outputs": [
    {
     "name": "stdout",
     "output_type": "stream",
     "text": [
      "Sentencia tokenizada:  [['thats' 'sample' 'sentence']]\n",
      "Obtenemos 3 vectores de dimension 100\n",
      "Usamo la media para obtener un solo vector de dimension :100 (100,)\n"
     ]
    }
   ],
   "source": [
    "s=\"Thats a sample sentence\"\n",
    "st=tokenize_sentences(np.array([s])) # tokenizamos la sentencia\n",
    "print(\"Sentencia tokenizada: \",st)\n",
    "# se pueden obtener los embeddings para una lista de palabras\n",
    "ste=model.wv[st[0]] #obtenemos los embeddings para cada palabra\n",
    "print(\"Obtenemos %s vectores de dimension %s\" %ste.shape)\n",
    "sentence_embedding=np.mean(ste,axis=0) \n",
    "print(\"Usamo la media para obtener un solo vector de dimension :%s\" %sentence_embedding.shape, \n",
    "      sentence_embedding.shape)"
   ]
  },
  {
   "cell_type": "code",
   "execution_count": 90,
   "metadata": {},
   "outputs": [
    {
     "name": "stdout",
     "output_type": "stream",
     "text": [
      "distancia entre sentece y Thats a sample sentence:  0.004646420478820801\n",
      "distancia 'sentence' y el sentence embbeding: 0.008653819561004639\n"
     ]
    }
   ],
   "source": [
    "#Podemos evaluar que es más similar\n",
    "print(\"distancia entre %s y %s: \" %('sentece', s),\n",
    "      model.wv.distance('sentece',s))\n",
    "print(\"distancia 'sentence' y el sentence embbeding:\", \n",
    "      coseno(model.wv['sentece'],sentence_embedding))"
   ]
  },
  {
   "cell_type": "markdown",
   "metadata": {},
   "source": [
    "### Clasificando con FastText embeddings"
   ]
  },
  {
   "cell_type": "code",
   "execution_count": 106,
   "metadata": {},
   "outputs": [
    {
     "name": "stdout",
     "output_type": "stream",
     "text": [
      "Ejemplo de tweet tokenizado:  ['arthur', 'guinness', 'founder', 'of', 'guinness', 'beer', 'signed', '9000', 'year', 'lease', 'for', 'a45', 'per', 'year', 'at', 'the', 'st', 'jamess', 'gate', 'brewery', 'in', 'dublin', 'back', 'in', '1759']\n"
     ]
    }
   ],
   "source": [
    "#tokenizamos\n",
    "tokens=tokenize_sentences(train_df.text)\n",
    "tokens_test=tokenize_sentences(test_df.text)\n",
    "print(\"Ejemplo de tweet tokenizado: \",tokens[900])"
   ]
  },
  {
   "cell_type": "code",
   "execution_count": 136,
   "metadata": {},
   "outputs": [],
   "source": [
    "# definimos el modelo \n",
    "ft_model = FastText()"
   ]
  },
  {
   "cell_type": "code",
   "execution_count": 137,
   "metadata": {},
   "outputs": [],
   "source": [
    "#construimos el vocabulario\n",
    "ft_model.build_vocab(sentences=tokens)"
   ]
  },
  {
   "cell_type": "code",
   "execution_count": 138,
   "metadata": {},
   "outputs": [],
   "source": [
    "# Entremanos el modelo\n",
    "model.train(sentences=tokens,total_examples=len(tokens), epochs=10)"
   ]
  },
  {
   "cell_type": "code",
   "execution_count": 139,
   "metadata": {},
   "outputs": [],
   "source": [
    "# generamos los embeddings\n",
    "train=np.array([np.mean([ft_model.wv[token] for token in tweet],axis=0) \n",
    "                   for tweet in tokens])\n",
    "test=np.array([np.mean([ft_model.wv[token] for token in tweet],axis=0) \n",
    "                   for tweet in tokens_test])\n",
    "yt=test_df.is_humor"
   ]
  },
  {
   "cell_type": "code",
   "execution_count": 140,
   "metadata": {},
   "outputs": [],
   "source": [
    "from sklearn.svm import LinearSVC\n",
    "clf = LinearSVC()\n",
    "clf.fit(train,train_df.is_humor)\n",
    "yp=clf.predict(test)"
   ]
  },
  {
   "cell_type": "code",
   "execution_count": 141,
   "metadata": {},
   "outputs": [
    {
     "name": "stdout",
     "output_type": "stream",
     "text": [
      "f1:0.7745098039215685 Accuracy:0.632\n"
     ]
    }
   ],
   "source": [
    "print(f'f1:{f1(yt,yp)} Accuracy:{acc(yt,yp)}') "
   ]
  },
  {
   "cell_type": "markdown",
   "metadata": {},
   "source": [
    "## Modelos pre-entrenados\n",
    "\n",
    "Como pudo apreciar en el ejercicio anterior el performance para los embeddings de FastText fue menor que para el caso de TF-IDF, esto en parte se debe a que se entreno el modelo con relativamente pocos datos. \n",
    "\n",
    "Los modelos basado en aprendizaje profundo usualmente son costosos de entrenar por lo que una práctica común, es pre-entrenar con grandes cantidades de datos y generar un modelo que puede ser después incorporado a un problema en particular. Gensim ya cuenta con varios modelos de este tipo"
   ]
  },
  {
   "cell_type": "code",
   "execution_count": 145,
   "metadata": {},
   "outputs": [
    {
     "name": "stdout",
     "output_type": "stream",
     "text": [
      "fasttext-wiki-news-subwords-300\n",
      "conceptnet-numberbatch-17-06-300\n",
      "word2vec-ruscorpora-300\n",
      "word2vec-google-news-300\n",
      "glove-wiki-gigaword-50\n",
      "glove-wiki-gigaword-100\n",
      "glove-wiki-gigaword-200\n",
      "glove-wiki-gigaword-300\n",
      "glove-twitter-25\n",
      "glove-twitter-50\n",
      "glove-twitter-100\n",
      "glove-twitter-200\n",
      "__testing_word2vec-matrix-synopsis\n"
     ]
    }
   ],
   "source": [
    "import gensim.downloader as api\n",
    "# Ver los modelos disponibles en gensim-data\n",
    "print('\\n'.join(list(api.info()['models'].keys())))"
   ]
  },
  {
   "cell_type": "code",
   "execution_count": 151,
   "metadata": {},
   "outputs": [],
   "source": [
    "#Prodriamos utilizar como sigue (es de aproximadamente 1GB):\n",
    "model_pretrain= api.load('fasttext-wiki-news-subwords-300')"
   ]
  },
  {
   "cell_type": "code",
   "execution_count": 150,
   "metadata": {},
   "outputs": [
    {
     "ename": "NameError",
     "evalue": "name 'model_pretrain' is not defined",
     "output_type": "error",
     "traceback": [
      "\u001b[0;31m---------------------------------------------------------------------------\u001b[0m",
      "\u001b[0;31mNameError\u001b[0m                                 Traceback (most recent call last)",
      "\u001b[0;32m<ipython-input-150-0fa25ac25cd9>\u001b[0m in \u001b[0;36m<module>\u001b[0;34m\u001b[0m\n\u001b[1;32m      1\u001b[0m \u001b[0;31m# Como ya está entrenado solo lo usamos para generar los embeddings\u001b[0m\u001b[0;34m\u001b[0m\u001b[0;34m\u001b[0m\u001b[0;34m\u001b[0m\u001b[0m\n\u001b[0;32m----> 2\u001b[0;31m train2=np.array([np.mean([model_pretrain.wv[token] for token in tweet],axis=0) \n\u001b[0m\u001b[1;32m      3\u001b[0m                    for tweet in tokens])\n\u001b[1;32m      4\u001b[0m test2=np.array([np.mean([model_pretrain.wv[token] for token in tweet],axis=0) \n\u001b[1;32m      5\u001b[0m                    for tweet in tokens_test])\n",
      "\u001b[0;32m<ipython-input-150-0fa25ac25cd9>\u001b[0m in \u001b[0;36m<listcomp>\u001b[0;34m(.0)\u001b[0m\n\u001b[1;32m      1\u001b[0m \u001b[0;31m# Como ya está entrenado solo lo usamos para generar los embeddings\u001b[0m\u001b[0;34m\u001b[0m\u001b[0;34m\u001b[0m\u001b[0;34m\u001b[0m\u001b[0m\n\u001b[0;32m----> 2\u001b[0;31m train2=np.array([np.mean([model_pretrain.wv[token] for token in tweet],axis=0) \n\u001b[0m\u001b[1;32m      3\u001b[0m                    for tweet in tokens])\n\u001b[1;32m      4\u001b[0m test2=np.array([np.mean([model_pretrain.wv[token] for token in tweet],axis=0) \n\u001b[1;32m      5\u001b[0m                    for tweet in tokens_test])\n",
      "\u001b[0;32m<ipython-input-150-0fa25ac25cd9>\u001b[0m in \u001b[0;36m<listcomp>\u001b[0;34m(.0)\u001b[0m\n\u001b[1;32m      1\u001b[0m \u001b[0;31m# Como ya está entrenado solo lo usamos para generar los embeddings\u001b[0m\u001b[0;34m\u001b[0m\u001b[0;34m\u001b[0m\u001b[0;34m\u001b[0m\u001b[0m\n\u001b[0;32m----> 2\u001b[0;31m train2=np.array([np.mean([model_pretrain.wv[token] for token in tweet],axis=0) \n\u001b[0m\u001b[1;32m      3\u001b[0m                    for tweet in tokens])\n\u001b[1;32m      4\u001b[0m test2=np.array([np.mean([model_pretrain.wv[token] for token in tweet],axis=0) \n\u001b[1;32m      5\u001b[0m                    for tweet in tokens_test])\n",
      "\u001b[0;31mNameError\u001b[0m: name 'model_pretrain' is not defined"
     ]
    }
   ],
   "source": [
    "# Como ya está entrenado solo lo usamos para generar los embeddings\n",
    "train2=np.array([np.mean([model_pretrain.wv[token] for token in tweet],axis=0) \n",
    "                   for tweet in tokens])\n",
    "test2=np.array([np.mean([model_pretrain.wv[token] for token in tweet],axis=0) \n",
    "                   for tweet in tokens_test])\n",
    "clf2 = LinearSVC()\n",
    "clf2.fit(train,train_df.is_humor)\n",
    "yp=clf2.predict(test2)\n",
    "print(f'f1:{f1(yt,yp)} Accuracy:{acc(yt,yp)}') "
   ]
  },
  {
   "cell_type": "code",
   "execution_count": null,
   "metadata": {},
   "outputs": [],
   "source": []
  },
  {
   "cell_type": "markdown",
   "metadata": {},
   "source": [
    "## Referencias"
   ]
  },
  {
   "cell_type": "markdown",
   "metadata": {},
   "source": [
    "1. Manning, C., Raghavan, V. and Schütze H. (2009). Introduction to Information Retrieval (Chapter 16). Cambridge: Cambridge University Press, Online Edition (https://nlp.stanford.edu/IR-book/pdf/irbookonlinereading.pdf).\n",
    "2. Rokach, L., & Maimon, O. (2005). Clustering methods. In Data mining and knowledge discovery handbook (pp. 321-352). Springer, Boston, MA.\n",
    "3. Mikolov, T., Chen, K., Corrado, G., & Dean, J. (2013). Efficient estimation of word representations in vector space. arXiv preprint arXiv:1301.3781.\n",
    "4. Mikolov, T., Sutskever, I., Chen, K., Corrado, G. S., & Dean, J. (2013). Distributed representations of words and phrases and their compositionality. In Advances in neural information processing systems (pp. 3111-3119).\n",
    "5. Bojanowski, P., Grave, E., Joulin, A., & Mikolov, T. (2017). Enriching word vectors with subword information. Transactions of the Association for Computational Linguistics, 5, 135-146.\n",
    "6. Tan, P. N. (2018). Introduction to data mining (Chapter 8). Pearson Education India.\n",
    "7. Im Walde, S. S. (2006). Experiments on the automatic induction of German semantic verb classes. Computational Linguistics, 32(2), 159-194.\n",
    "9. Karani, D. (2018). Introduction to Word Embedding and Word2Vec. https://towardsdatascience.com/introduction-to-word-embedding-and-word2vec-652d0c2060fa\n",
    "10. Rehurek, R.  (2019). FastText model. https://radimrehurek.com/gensim/models/fasttext.html\n",
    "\n"
   ]
  },
  {
   "cell_type": "code",
   "execution_count": null,
   "metadata": {},
   "outputs": [],
   "source": []
  }
 ],
 "metadata": {
  "kernelspec": {
   "display_name": "Python 3",
   "language": "python",
   "name": "python3"
  },
  "language_info": {
   "codemirror_mode": {
    "name": "ipython",
    "version": 3
   },
   "file_extension": ".py",
   "mimetype": "text/x-python",
   "name": "python",
   "nbconvert_exporter": "python",
   "pygments_lexer": "ipython3",
   "version": "3.8.5"
  }
 },
 "nbformat": 4,
 "nbformat_minor": 1
}
