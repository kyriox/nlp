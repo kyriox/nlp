{
 "cells": [
  {
   "cell_type": "code",
   "execution_count": 276,
   "metadata": {},
   "outputs": [
    {
     "name": "stdout",
     "output_type": "stream",
     "text": [
      "The autoreload extension is already loaded. To reload it, use:\n",
      "  %reload_ext autoreload\n"
     ]
    }
   ],
   "source": [
    "import pandas as pd\n",
    "import numpy as np\n",
    "import re\n",
    "import nltk, spacy\n",
    "import scipy.sparse as sp\n",
    "from collections import Counter\n",
    "from SimpleNLP import Tokenizer\n",
    "from matplotlib import pyplot as plt\n",
    "%load_ext autoreload\n",
    "%autoreload 2"
   ]
  },
  {
   "cell_type": "markdown",
   "metadata": {},
   "source": [
    "# Estadistica con palabras  \n",
    "\n",
    "Al construir el vocabulario en una colección de documentos, se realizan  normalizaciones que nos permiten agrupar patrones comunes. aún cuando identificar y contabilizar los terminos en el vocabulario es útil para tareas simples, como computar estadisticas de uso o realizar búsquedas por palabras claves. Sin embargo, también se podría querer realizar tareas en la que la `importancia` dentro del documento o la colección de las palabras sea o no relevante. Por ejemplo no es deseado que un email  sea catalogado como spam solo una palabra común en ese tipo de mensajes.\n",
    "\n",
    "Si se puede medir la importacia de los términos, también seá posible tan positivo o negativo es un tweet con respecto de otro en la mis colección. Los ejemplos anteriores los podemos modelar mediente el uso de la frecuencia con que aparece un termino un documento con respecto al resto en la colección. \n",
    "\n",
    "En las siguientes secciones ampliaremos el espacio vectorial binario mediate el uso de frecuencias, paa convertir las palabras en VSM de números reales. El objetivo es proporcionar un representación que capture la importacia de cada término.  "
   ]
  },
  {
   "cell_type": "markdown",
   "metadata": {},
   "source": [
    "Las representaciones que revisaremos son:\n",
    "\n",
    "- **Bolsa de palabras**. Representación basada en la fecuencia de  las palabras\n",
    "- **Bolsa de $n$-gramas** Conteo de bigramas, trigramas, etc\n",
    "- **TF-IDF** Permiten medir la importancia de las palabras.\n",
    "\n",
    "**TF-IDF** es el acrónimo para `Term Frecuency Inverse Document Frecuency`. TF se refiere a la frecuencia de un  termino en un documento, mientras que IDF  implica que TF será pesado en base a la frecuencia de ese mismo termino en toda la colección (una división)."
   ]
  },
  {
   "cell_type": "markdown",
   "metadata": {},
   "source": [
    "### Bolsa de palabras\n",
    "\n",
    "En las sesiones previas ya hemos utilizado bolsas de palabras binarias, es decir solo decidimos si una palabra aparece o no en un documentos. A esta tipo en particular le denominamos **one-hot econding**. Con esa representación simple es posible crear un indice que permita hacer consultas simplmente utilizando operaciones `OR` y `AND`. Nuestro modulo `SimpleNLP` ya implementa ese tipo de datos.\n",
    "\n",
    "Ahora procederemos a hacer una representación donde se considere el número de veces que aprece cada término en el documento. Es decir una bolsa de palabras que consideré la frecuencia."
   ]
  },
  {
   "cell_type": "code",
   "execution_count": 173,
   "metadata": {},
   "outputs": [],
   "source": [
    "# Carguemos nuevamente nuestro conjunto de tweets de humor\n",
    "train_df=pd.read_csv('data/humor/train_english.tgz', compression='gzip',usecols=['is_humor','text'])\n",
    "test_df=pd.read_csv('data/humor/dev_english.csv',usecols=['is_humor','text']) \n",
    "train_df=train_df.dropna().astype({'is_humor': 'int32'})\n",
    "test_df=test_df.dropna().astype({'is_humor': 'int32'})"
   ]
  },
  {
   "cell_type": "code",
   "execution_count": 174,
   "metadata": {},
   "outputs": [],
   "source": [
    "# Generemos nuestro vocabulario\n",
    "from SimpleNLP import Tokenizer\n",
    "# Entrenamos el modelo\n",
    "tk=Tokenizer(derivador='stem')\n",
    "tk.fit(train_df.text)"
   ]
  },
  {
   "cell_type": "code",
   "execution_count": 175,
   "metadata": {},
   "outputs": [
    {
     "data": {
      "text/plain": [
       "array(['tennessee:', \"we'r\", 'the', ..., 'aspirin', '37%', 'e\"'],\n",
       "      dtype='<U79')"
      ]
     },
     "execution_count": 175,
     "metadata": {},
     "output_type": "execute_result"
    }
   ],
   "source": [
    "tk.vocabulario_index"
   ]
  },
  {
   "cell_type": "code",
   "execution_count": 5,
   "metadata": {},
   "outputs": [],
   "source": [
    "# Revisemos el tweet 50\n",
    "tweet,label=train_df.iloc[100]\n",
    "tweet_vector=tk.transform([tweet])"
   ]
  },
  {
   "cell_type": "code",
   "execution_count": 6,
   "metadata": {},
   "outputs": [
    {
     "name": "stdout",
     "output_type": "stream",
     "text": [
      "Vector:[[0 0 1 ... 0 0 0]]\n",
      "Texto:Last night my wife and I watched 2 hours of cooking shows, before she hugged me and went to bed. I'm pretty sure I'm in the friend zone.\n",
      "Etiqueta:1\n",
      "Dimension(1, 22328)\n"
     ]
    }
   ],
   "source": [
    "# Podemos ver su forma vectorial, texto, etiqueta y dimension\n",
    "print(f\"Vector:{tweet_vector.toarray()}\\nTexto:{tweet}\\nEtiqueta:{label}\\nDimension{tweet_vector.shape}\")"
   ]
  },
  {
   "cell_type": "code",
   "execution_count": 7,
   "metadata": {},
   "outputs": [
    {
     "name": "stdout",
     "output_type": "stream",
     "text": [
      "  (0, 2)\t1\n",
      "  (0, 20)\t1\n",
      "  (0, 29)\t1\n",
      "  (0, 51)\t1\n",
      "  (0, 59)\t1\n",
      "  (0, 63)\t1\n",
      "  (0, 65)\t1\n",
      "  (0, 75)\t1\n",
      "  (0, 76)\t1\n",
      "  (0, 359)\t1\n",
      "  (0, 361)\t1\n",
      "  (0, 385)\t1\n",
      "  (0, 609)\t1\n",
      "  (0, 675)\t1\n",
      "  (0, 698)\t1\n",
      "  (0, 872)\t1\n",
      "  (0, 910)\t1\n",
      "  (0, 1068)\t1\n",
      "  (0, 1069)\t1\n",
      "  (0, 1070)\t1\n",
      "  (0, 1071)\t1\n",
      "  (0, 1072)\t1\n",
      "  (0, 1073)\t1\n",
      "  (0, 1074)\t1\n",
      "  (0, 1075)\t1\n",
      "  (0, 1076)\t1\n"
     ]
    }
   ],
   "source": [
    "# Elementos diferentes de 0 (VSM binario)\n",
    "print(tweet_vector)"
   ]
  },
  {
   "cell_type": "markdown",
   "metadata": {},
   "source": [
    "Uno de los clasificadores que mejor funciona con este tipo de representaciones dispersas es SVM con kernel lineal. A continuación lo usaremos para tenerlo como referencia para comparar ambas versiones (Binario/Frecuencia). "
   ]
  },
  {
   "cell_type": "code",
   "execution_count": 8,
   "metadata": {},
   "outputs": [],
   "source": [
    "from sklearn.metrics import f1_score as f1, accuracy_score as acc\n",
    "from sklearn.svm import LinearSVC\n",
    "clf = LinearSVC()"
   ]
  },
  {
   "cell_type": "code",
   "execution_count": 176,
   "metadata": {},
   "outputs": [],
   "source": [
    "# Transformamos los textos al VSM \n",
    "train=tk.transform(train_df.text)\n",
    "test=tk.transform(test_df.text)"
   ]
  },
  {
   "cell_type": "code",
   "execution_count": null,
   "metadata": {},
   "outputs": [],
   "source": [
    "# Entrenamos el clasificador\n",
    "clf.fit(train,train_df.is_humor)"
   ]
  },
  {
   "cell_type": "code",
   "execution_count": null,
   "metadata": {},
   "outputs": [],
   "source": [
    "y=test_df.is_humor\n",
    "yp=clf.predict(test)\n",
    "print(\"F-Score: {} Accuracy: {} \".format(f1(y,yp),acc(y,yp)))"
   ]
  },
  {
   "cell_type": "code",
   "execution_count": null,
   "metadata": {},
   "outputs": [],
   "source": [
    "# Podemos generar un mapa {\"Palabra: count\"} primero tokenizando\n",
    "tweet_tokens=tk.tokenize(tweet)\n",
    "Counter(tweet_tokens)"
   ]
  },
  {
   "cell_type": "code",
   "execution_count": null,
   "metadata": {},
   "outputs": [],
   "source": [
    "# Utilizando el vocabulario_index es posible hacer la representación basada en frecuencia\n",
    "N=len(tk.vocabulario_index)\n",
    "C=[np.argwhere(tk.vocabulario_index==token)[0][0] for token in tweet_tokens if len(np.argwhere(tk.vocabulario_index==token))]\n",
    "R=[0 for i in C]\n",
    "X=[1 for i in C]\n",
    "v=sp.csr_matrix((X,(R,C)), shape=(1,N))\n",
    "print(v)"
   ]
  },
  {
   "cell_type": "markdown",
   "metadata": {},
   "source": [
    "<div class=\"alert alert-success\">\n",
    "<b>Ejercicio</b>:<br />\n",
    "    Agregar un metodo _tf_transform(corpus) que genere la bolsa de palabras considerando el número de veces que aparece cada token en un documento.\n",
    "</div>"
   ]
  },
  {
   "cell_type": "code",
   "execution_count": null,
   "metadata": {},
   "outputs": [],
   "source": [
    "# Transformamos los textos al VSM \n",
    "train_tf=tk._tf_transform(train_df.text)\n",
    "test_tf=tk._tf_transform(test_df.text)"
   ]
  },
  {
   "cell_type": "code",
   "execution_count": null,
   "metadata": {},
   "outputs": [],
   "source": [
    "clf2 = LinearSVC()\n",
    "clf2.fit(train_tf,train_df.is_humor)\n",
    "yp=clf.predict(test_tf)\n",
    "print(\"F-Score: {} Accuracy: {} \".format(f1(y,yp),acc(y,yp)))"
   ]
  },
  {
   "cell_type": "markdown",
   "metadata": {},
   "source": [
    "Para documentos breves como el caso de los tweets, la bolsa de palabras contiene suficiente información sobre la intención de oración. Y esta información normalmente es suficiente para realizar tares como detectar spam, sentimiento (positividad, felicidad, humor, etc). Ahora clasifiquemos/ordenemos las palabras, esto nos ayudará a determinar cuales son más relevantes.\n",
    "\n",
    "¿Como podemos determinar cuales son las más importantes?"
   ]
  },
  {
   "cell_type": "code",
   "execution_count": 216,
   "metadata": {},
   "outputs": [],
   "source": [
    "# ¿Que obtnemos si ordemanos el vocabulario?\n",
    "voc=list(tk.vocabulario.items())\n",
    "voc.sort(reverse=True, key=lambda x: x[1])\n",
    "voc_sort=[(tk.vocabulario_index[token],count) for token,count in voc]"
   ]
  },
  {
   "cell_type": "code",
   "execution_count": null,
   "metadata": {},
   "outputs": [],
   "source": [
    "voc_sort[:5] # las cinco palabras mas comunes"
   ]
  },
  {
   "cell_type": "code",
   "execution_count": null,
   "metadata": {},
   "outputs": [],
   "source": [
    "voc_sort[-5:] # las cinco palabras mas raras"
   ]
  },
  {
   "cell_type": "markdown",
   "metadata": {},
   "source": [
    "Como ya mencionamos, el número de veces que aparece una palabra en un documento determinado se denomina frecuencia (TF). Podríamos normalizar la frecuencia dividiendo cada palabra por el número de términos en ella."
   ]
  },
  {
   "cell_type": "code",
   "execution_count": null,
   "metadata": {},
   "outputs": [],
   "source": [
    "#Número de terminos diferente de zero\n",
    "len(train_tf[0].nonzero()[1])"
   ]
  },
  {
   "cell_type": "code",
   "execution_count": null,
   "metadata": {},
   "outputs": [],
   "source": [
    "print(train_tf[0]/train_tf[0].sum())"
   ]
  },
  {
   "cell_type": "code",
   "execution_count": null,
   "metadata": {},
   "outputs": [],
   "source": [
    "# Suma\n",
    "np.sum(train_tf[0]/train_tf[0].sum())"
   ]
  },
  {
   "cell_type": "code",
   "execution_count": null,
   "metadata": {},
   "outputs": [],
   "source": []
  },
  {
   "cell_type": "markdown",
   "metadata": {},
   "source": [
    "### Espacios Vectoriales\n",
    "\n",
    "La frecuencia de términos normalizados, es el recuento de palabras dividido por la longitud del documento. ¿Cuál es la razón para normalizar? Suponga que en un documento $A$ se encuentra la palabra \"perro\" 3 y 100 veces documento $B$. Con lo anterior se podria suponer que la palabra es más importante en B que en A. Pero espere que ocurre si el descubre A solo contiene 30 palabras  y el B 10000. Entoces tendríamos:"
   ]
  },
  {
   "cell_type": "code",
   "execution_count": null,
   "metadata": {},
   "outputs": [],
   "source": [
    "importancia_perro_docA=3/100\n",
    "importancia_perro_docB=100/10000"
   ]
  },
  {
   "cell_type": "code",
   "execution_count": null,
   "metadata": {},
   "outputs": [],
   "source": [
    "print(importancia_perro_docA,importancia_perro_docB) # Entonces sería más relevante para A "
   ]
  },
  {
   "cell_type": "markdown",
   "metadata": {},
   "source": [
    "Dado que las palabras como \"the\", \"and\"  parecen no ser de utilidad removamolas. Agreguemos la lista de stop words a nuestro tokenizador."
   ]
  },
  {
   "cell_type": "code",
   "execution_count": 5,
   "metadata": {},
   "outputs": [],
   "source": [
    "#instanciamos un tokenizador con stop word removal\n",
    "tk1=Tokenizer(derivador='stem',remove_stop_words=True)\n",
    "tk1.fit(train_df.text)"
   ]
  },
  {
   "cell_type": "code",
   "execution_count": 6,
   "metadata": {},
   "outputs": [
    {
     "ename": "NameError",
     "evalue": "name 'tk' is not defined",
     "output_type": "error",
     "traceback": [
      "\u001b[0;31m---------------------------------------------------------------------------\u001b[0m",
      "\u001b[0;31mNameError\u001b[0m                                 Traceback (most recent call last)",
      "\u001b[0;32m<ipython-input-6-9c6c7a24da91>\u001b[0m in \u001b[0;36m<module>\u001b[0;34m\u001b[0m\n\u001b[0;32m----> 1\u001b[0;31m \u001b[0mprint\u001b[0m\u001b[0;34m(\u001b[0m\u001b[0mlen\u001b[0m\u001b[0;34m(\u001b[0m\u001b[0mtk\u001b[0m\u001b[0;34m.\u001b[0m\u001b[0mvocabulario_index\u001b[0m\u001b[0;34m)\u001b[0m\u001b[0;34m,\u001b[0m\u001b[0mlen\u001b[0m\u001b[0;34m(\u001b[0m\u001b[0mtk1\u001b[0m\u001b[0;34m.\u001b[0m\u001b[0mvocabulario_index\u001b[0m\u001b[0;34m)\u001b[0m\u001b[0;34m)\u001b[0m\u001b[0;31m# un menor vocabulario\u001b[0m\u001b[0;34m\u001b[0m\u001b[0;34m\u001b[0m\u001b[0m\n\u001b[0m",
      "\u001b[0;31mNameError\u001b[0m: name 'tk' is not defined"
     ]
    }
   ],
   "source": [
    "print(len(tk.vocabulario_index),len(tk1.vocabulario_index))# un menor vocabulario"
   ]
  },
  {
   "cell_type": "code",
   "execution_count": 7,
   "metadata": {},
   "outputs": [],
   "source": [
    "voc1=list(tk1.vocabulario.items())\n",
    "voc1.sort(reverse=True, key=lambda x: x[1])\n",
    "voc1_sort=[(tk1.vocabulario_index[token],count) for token,count in voc1]"
   ]
  },
  {
   "cell_type": "code",
   "execution_count": 8,
   "metadata": {},
   "outputs": [
    {
     "data": {
      "text/plain": [
       "[('like', 684),\n",
       " ('get', 634),\n",
       " (\"i'm\", 541),\n",
       " ('me:', 514),\n",
       " ('peopl', 502),\n",
       " ('call', 495),\n",
       " ('one', 491),\n",
       " ('make', 435),\n",
       " ('say', 415),\n",
       " ('go', 408)]"
      ]
     },
     "execution_count": 8,
     "metadata": {},
     "output_type": "execute_result"
    }
   ],
   "source": [
    "voc1_sort[:10] #las frecuencias son mucho menores"
   ]
  },
  {
   "cell_type": "code",
   "execution_count": 314,
   "metadata": {},
   "outputs": [],
   "source": [
    "train_s=tk1._tf_transform(train_df.text)\n",
    "test_s=tk1._tf_transform(test_df.text)"
   ]
  },
  {
   "cell_type": "code",
   "execution_count": 315,
   "metadata": {},
   "outputs": [
    {
     "name": "stderr",
     "output_type": "stream",
     "text": [
      "/opt/anaconda3/lib/python3.8/site-packages/scipy/sparse/base.py:581: RuntimeWarning: divide by zero encountered in double_scalars\n",
      "  return self.astype(np.float_)._mul_scalar(1./other)\n"
     ]
    }
   ],
   "source": [
    "# Podemos normalizar toda matriz como sigue\n",
    "train_s_norm=sp.vstack([v/v.sum() for v in train_s])\n",
    "test_s_norm=sp.vstack([v/v.sum() for v in test_s])"
   ]
  },
  {
   "attachments": {
    "image.png": {
     "image/png": "[encoded data removed]"
    }
   },
   "cell_type": "markdown",
   "metadata": {},
   "source": [
    "Aún cuando *one-hot encoding* es un vector válido, este es disperso y no dice nada acerca de cómo se relacionan la palabras entre ellas. Desearíamos que el vector  pudiera expresar las similitudes y diferencias semánticas entre ellas, por ejemple si dos palabras significan lo mismo (son sinónimos), son términos opuestos (antónimos) o si en algún contexto podrían significar lo mismo. El ejemplo clásico utiliza las palabras **king**, **queen**, **woman**, **man** y asume que dado un embedding que capture las relaciones entre estas palabras debería cumplirse que:\n",
    "\n",
    "$ \\overrightarrow{king}-\\overrightarrow{man}+\\overrightarrow{woman}=\\overrightarrow{queen}$\n",
    "\n",
    "![image.png](attachment:image.png)\n",
    "\n",
    "*fuente: https://blogs.mathworks.com/loren/2017/09/21/math-with-words-word-embeddings-with-matlab-and-text-analytics-toolbox/*|\n",
    "\n",
    "Algunos ejemplos de relaciones que se podrían capturar serían por ejemplo que palabras como: *Paris, Teherán, Tokio, Canberra*  están relacionadas con la palabra capital, o *México, Estados Unidos, Canada* se relacionan con el término *Norte América*.  Por solo lo haremos mediante frecuencias, pero más adelante en el curso lo retomaremos mediane el uso de embeddings. "
   ]
  },
  {
   "cell_type": "markdown",
   "metadata": {},
   "source": [
    "Para un espacio vectorial de documentos, la dimensión de su espacio vectorial está dada por el tamaño del vocabulario $V$, es decir el número de palabras distintas en toda la colección de documentos. Por tanto la dimensión será $N=|V|$. Debido a la dificultad  de visualizar vectotres en de más de tres dimensiones, el hecho de que tanto TF como TF-IDF son vectores dispersos; se hace necesario proyectarlos mediante el uso de componenetes principales. Para nuestro caso usaremos la librería **TruncatedSVD**. \n"
   ]
  },
  {
   "cell_type": "code",
   "execution_count": 317,
   "metadata": {},
   "outputs": [],
   "source": [
    "from sklearn.decomposition import TruncatedSVD\n",
    "tsvd=TruncatedSVD(100)\n",
    "tsvd.fit(train_s_norm)\n",
    "X=tsvd.transform(train_s_norm)"
   ]
  },
  {
   "cell_type": "code",
   "execution_count": 318,
   "metadata": {},
   "outputs": [
    {
     "name": "stdout",
     "output_type": "stream",
     "text": [
      "[ 6.18456920e-03  1.11058148e-02 -4.43000081e-03 -1.14657485e-03\n",
      "  6.81185711e-03 -5.10024346e-03  4.83165045e-03 -5.63921040e-03\n",
      "  2.53875609e-03  1.44104574e-03  3.98893477e-03  2.61462276e-03\n",
      " -4.73708617e-05  1.29673814e-03  9.53897639e-04 -7.03362184e-03\n",
      " -9.26111523e-03  2.63519755e-03 -2.10539653e-03  1.10292137e-02\n",
      " -1.65055792e-03  8.92591710e-03  2.88227100e-03  8.00390124e-03\n",
      " -5.55374750e-04 -1.36035321e-02 -1.13244896e-03  2.12109677e-02\n",
      " -6.35010951e-03 -1.11107283e-02  5.44884031e-04  1.44579633e-03\n",
      "  5.82451081e-03 -2.29805389e-03 -3.14154106e-02 -2.47202667e-03\n",
      "  2.98186513e-02 -5.42270757e-03  4.18365983e-04  3.94259963e-02\n",
      " -8.85466292e-03 -2.26330314e-02 -8.55045005e-03 -2.58999709e-03\n",
      "  3.63898401e-03  2.46457115e-02 -8.39060525e-03  8.38620930e-03\n",
      "  1.33421154e-02 -3.69357992e-03 -1.18919580e-02 -5.39603933e-03\n",
      "  2.91702573e-02  2.85371188e-03 -1.00474332e-02  2.08286934e-02\n",
      "  1.54117394e-02 -9.09931706e-03  8.44096400e-03  4.19675151e-02\n",
      "  3.60223649e-02 -9.21657614e-03  1.88877363e-02  2.94317680e-02\n",
      "  3.48396401e-02  4.54037997e-03 -5.86636915e-03  9.99535831e-03\n",
      " -1.26114506e-02  3.52481776e-02 -1.61218584e-02  1.80758448e-02\n",
      "  4.30517997e-04 -8.94660956e-03  3.81852811e-03 -1.17704943e-02\n",
      " -3.39511334e-02  1.68311194e-02 -7.11240332e-03  3.63472502e-03\n",
      " -1.02738343e-02  1.38445539e-02  4.76076948e-03  3.76840378e-03\n",
      " -5.57845982e-03  9.13288494e-03 -8.87350250e-03 -9.52919160e-03\n",
      " -5.75552176e-04  8.93264377e-03 -1.25698288e-02 -6.01916572e-03\n",
      "  3.94889280e-03  1.21300519e-02  4.51519419e-03  3.34522608e-03\n",
      "  3.63865612e-03 -3.91672446e-03 -3.69467789e-03  1.97923079e-03]\n"
     ]
    }
   ],
   "source": [
    "print(X[0])"
   ]
  },
  {
   "cell_type": "code",
   "execution_count": 319,
   "metadata": {},
   "outputs": [
    {
     "data": {
      "image/png": "[encoded data removed]",
      "text/plain": [
       "<Figure size 432x288 with 1 Axes>"
      ]
     },
     "metadata": {
      "needs_background": "light"
     },
     "output_type": "display_data"
    }
   ],
   "source": [
    "plt.scatter(X[:,0],X[:,1],c=train_df.is_humor);"
   ]
  },
  {
   "cell_type": "code",
   "execution_count": 320,
   "metadata": {},
   "outputs": [],
   "source": [
    "import utilidades as ut"
   ]
  },
  {
   "cell_type": "code",
   "execution_count": 321,
   "metadata": {},
   "outputs": [
    {
     "data": {
      "image/png": "[encoded data removed]",
      "text/plain": [
       "<Figure size 432x288 with 1 Axes>"
      ]
     },
     "metadata": {
      "needs_background": "light"
     },
     "output_type": "display_data"
    }
   ],
   "source": [
    "lista=[7,11,21]\n",
    "ut.plotPCA(train_s_norm[lista],[f'Tweet{i}' for i in lista])"
   ]
  },
  {
   "cell_type": "markdown",
   "metadata": {},
   "source": [
    "En un VMS, dod vectores son `similares` si tinen un ángulo similar. Opcionalmente, podría on no tener una magnitud similar. Una longitud similar implica frecuencias similares. Idealmente, nos gustaría que tanto el ángulo como la magnitud fueran aproximadamente iguales. Esto garantizaría que los documentos que representan cada vector probablemente traten de los mismo.\n",
    "\n",
    "La similitud **coseno** es el coseno del ángulo ($\\Theta$) entre dos vectores. Este puede ser calculado como el producto euclideano.\n",
    "\n",
    "$$v_1 \\cdot v_2= |v_1||v_2| \\cos \\Theta$$\n",
    "\n",
    "$$\\cos \\Theta= \\frac{v_1 \\cdot v_2}{|v_1||v_2|}$$"
   ]
  },
  {
   "attachments": {
    "image.png": {
     "image/png": "[encoded data removed]"
    }
   },
   "cell_type": "markdown",
   "metadata": {},
   "source": [
    "La similitud de coseno toma valores entre 1 y -1, se calcula eficientemente utilizando el  producto escalar, y no requiere la evaluación de ninguna función trigonométrica.\n",
    "\n",
    "![image.png](attachment:image.png)"
   ]
  },
  {
   "cell_type": "code",
   "execution_count": 322,
   "metadata": {},
   "outputs": [],
   "source": [
    "#Podemos definir la siguiente función\n",
    "def coseno(x,y):\n",
    "    sim=np.dot(x, y.T) / (np.linalg.norm(x) * np.linalg.norm(y))\n",
    "    return sim"
   ]
  },
  {
   "cell_type": "code",
   "execution_count": 323,
   "metadata": {},
   "outputs": [
    {
     "data": {
      "text/plain": [
       "0.011864793250908542"
      ]
     },
     "execution_count": 323,
     "metadata": {},
     "output_type": "execute_result"
    }
   ],
   "source": [
    "coseno(X[11,:],X[21,:])"
   ]
  },
  {
   "cell_type": "code",
   "execution_count": 324,
   "metadata": {},
   "outputs": [
    {
     "data": {
      "text/plain": [
       "0.9999999999999999"
      ]
     },
     "execution_count": 324,
     "metadata": {},
     "output_type": "execute_result"
    }
   ],
   "source": [
    "coseno(X[11,:],X[11,:])"
   ]
  },
  {
   "cell_type": "markdown",
   "metadata": {},
   "source": [
    "Una similitud de 1 representa vectores normalizados idénticos con el mismo ángulo en todas las direcciónes. Un valor de 0 representa dos vectores que no comparten componentes, es decir son ortogonales en todas las dimensiones. Una similitud de coseno de -1 representa dos vectores que apuntan en direcciones opuestas. Lo último no puede suceder para vectores simples de conteo de palabras (TF o TF-IDF)."
   ]
  },
  {
   "cell_type": "markdown",
   "metadata": {},
   "source": [
    "## La ley de Zipf\n",
    "\n",
    "Está basada en una regla que gobierna de forma más o menos general las estadisticas basadas en conteo. A principios del siglo XX, el taquígrafo francés Jean-Baptiste Estoup notó un patrón en la frecuencia de las palabras en muchos documentos. En la década de 1930, el lingüista estadounidense George Kingsley Zipf intentó formalizar la observación de Estoup, y esta  finalmente se constituyo como la ley de Zipf:\n",
    "\n",
    "`La ley de Zipf establece que, dado corpus de documentos en lenguaje natural, la frecuencia de cualquier palabra esinversamente proporcional a su rango en la tabla de frecuencias.`\n",
    "\n",
    "La situación de proporcionalidad inversa se refiere a que un elemento de una lista rankeada por frecuencia, cada palabra aparecerá con una frecuencia vinculada explícitamente a su rank en la lista. Es decir, el primer elemento de la lista aparecerá dos veces más que el segundo y tres veces más que el tercero, por ejemplo. \n",
    "\n",
    "¿Como podemos observar esa situación con el vocabulario?"
   ]
  },
  {
   "cell_type": "code",
   "execution_count": 325,
   "metadata": {},
   "outputs": [
    {
     "data": {
      "text/plain": [
       "[<matplotlib.lines.Line2D at 0x7fad23c82580>]"
      ]
     },
     "execution_count": 325,
     "metadata": {},
     "output_type": "execute_result"
    },
    {
     "data": {
      "image/png": "[encoded data removed]",
      "text/plain": [
       "<Figure size 432x288 with 1 Axes>"
      ]
     },
     "metadata": {
      "needs_background": "light"
     },
     "output_type": "display_data"
    }
   ],
   "source": [
    "#Recordemos nuestro voc_sort\n",
    "plt.plot([x[1] for x in voc_sort], marker='.')"
   ]
  },
  {
   "cell_type": "markdown",
   "metadata": {},
   "source": [
    "Tracemos solo el top-100, top-20, top-10"
   ]
  },
  {
   "cell_type": "code",
   "execution_count": 326,
   "metadata": {},
   "outputs": [
    {
     "data": {
      "image/png": "[encoded data removed]",
      "text/plain": [
       "<Figure size 288x576 with 3 Axes>"
      ]
     },
     "metadata": {
      "needs_background": "light"
     },
     "output_type": "display_data"
    }
   ],
   "source": [
    "fig,axes=plt.subplots(3,1, figsize = (4,8))\n",
    "for i,t in enumerate([100,20,10]): \n",
    "    axes[i].plot([x[1] for x in voc_sort[:t]], marker='.')\n",
    "    axes[i].set_title(f\"Top-{t}\")\n",
    "plt.subplots_adjust(hspace=0.3)"
   ]
  },
  {
   "cell_type": "markdown",
   "metadata": {},
   "source": [
    "En resumen, si rankea las palabras de un corpus por el número de ocurrencias y las enumera en orden descendente, encontrará que, para una muestra lo suficientemente grande, la primera palabra en esa lista clasificada tiende tener el doble de probabilidades de aparecer que la del segundo lugar; es cuatro veces más probable que la cuarta palabra de la lista y así sucecivamente. Es posible concluir que dado un corpus grande, es posible inferir estadísticamente qué tan probable es que una palabra determinada aparezca en cualquier documento de ese corpus."
   ]
  },
  {
   "cell_type": "markdown",
   "metadata": {},
   "source": [
    "<div class=\"alert alert-success\">\n",
    "<b>Ejercicio</b>:<br />\n",
    "   Gráfique la curva de Zipf para el corpus de Bronw disponible en la bilbiotec nltk. Utilice Counter del modulo collection\n",
    "</div>"
   ]
  },
  {
   "cell_type": "code",
   "execution_count": 277,
   "metadata": {},
   "outputs": [
    {
     "name": "stderr",
     "output_type": "stream",
     "text": [
      "[nltk_data] Downloading package brown to /Users/job/nltk_data...\n",
      "[nltk_data]   Package brown is already up-to-date!\n"
     ]
    }
   ],
   "source": [
    "nltk.download('brown')\n",
    "from nltk.corpus import brown\n",
    "punctuation_table=ut.punctuation_table"
   ]
  },
  {
   "cell_type": "code",
   "execution_count": 289,
   "metadata": {},
   "outputs": [
    {
     "data": {
      "text/plain": [
       "1161192"
      ]
     },
     "execution_count": 289,
     "metadata": {},
     "output_type": "execute_result"
    }
   ],
   "source": [
    "len(brown.words()) # Total de palabras no está"
   ]
  },
  {
   "cell_type": "code",
   "execution_count": 291,
   "metadata": {},
   "outputs": [],
   "source": [
    "lista_de_palabras = (x.lower() for x in brown.words() if x not in punctuation_table)"
   ]
  },
  {
   "cell_type": "markdown",
   "metadata": {},
   "source": [
    "### TF-IDF\n",
    "\n",
    "Aun cuando el conteo de palabras es útil, por si solo no dice mucho sobre la importancia de cada palabra en el documento en relación con el resto de los documentos del corpus. Si pudiera descubrir esa información, podría comenzar a describir documentos de forma `global`  dentro del corpus. Suponga que tiene una colección de libros de historia. Es muy probable que la palabra `historia` ocurrirá muchas veces en cada libro (documento), dado que ya sabemos que son libros de historia, ese término no aporta información. Por otro lado términos como `lenguaje` o `electrónica` podrían no ser frecuentes en dentro del corpus, debido a lo anterior serían importantes para caracterizar esos documentos.\n",
    "\n",
    "Para poder considerar la situción anterior, introduciremos el conceptos de frecuencia inversa de documentos (IDF), este concepto nos ayudará a aplicar Zipf para el análisis de los tópicos contenidos en un corpus. Note que tenemos dos tipos de frecuencia, está puede determinarse por documento o bien en todo el corpus.\n",
    "\n",
    "En nuestro tokenizador ya hemos calculado las frecuencias para el copus en el diccionarion vocabulario:"
   ]
  },
  {
   "cell_type": "code",
   "execution_count": 327,
   "metadata": {},
   "outputs": [
    {
     "data": {
      "text/plain": [
       "{0: 2,\n",
       " 1: 67,\n",
       " 2: 144,\n",
       " 3: 5,\n",
       " 4: 25,\n",
       " 5: 140,\n",
       " 6: 179,\n",
       " 7: 3,\n",
       " 8: 1,\n",
       " 9: 150,\n",
       " 10: 3,\n",
       " 11: 62,\n",
       " 12: 1,\n",
       " 13: 216,\n",
       " 14: 1,\n",
       " 15: 5,\n",
       " 16: 1,\n",
       " 17: 1,\n",
       " 18: 1,\n",
       " 19: 87,\n",
       " 20: 30,\n",
       " 21: 23,\n",
       " 22: 6,\n",
       " 23: 13,\n",
       " 24: 1,\n",
       " 25: 67,\n",
       " 26: 2,\n",
       " 27: 48,\n",
       " 28: 8,\n",
       " 29: 90,\n",
       " 30: 6,\n",
       " 31: 60,\n",
       " 32: 26,\n",
       " 33: 139,\n",
       " 34: 81,\n",
       " 35: 259,\n",
       " 36: 72,\n",
       " 37: 4,\n",
       " 38: 7,\n",
       " 39: 282,\n",
       " 40: 46,\n",
       " 41: 4,\n",
       " 42: 175,\n",
       " 43: 38,\n",
       " 44: 50,\n",
       " 45: 2,\n",
       " 46: 34,\n",
       " 47: 1,\n",
       " 48: 41,\n",
       " 49: 25,\n",
       " 50: 12,\n",
       " 51: 74,\n",
       " 52: 541,\n",
       " 53: 359,\n",
       " 54: 21,\n",
       " 55: 13,\n",
       " 56: 1,\n",
       " 57: 1,\n",
       " 58: 9,\n",
       " 59: 4,\n",
       " 60: 320,\n",
       " 61: 2,\n",
       " 62: 16,\n",
       " 63: 7,\n",
       " 64: 10,\n",
       " 65: 5,\n",
       " 66: 1,\n",
       " 67: 3,\n",
       " 68: 85,\n",
       " 69: 10,\n",
       " 70: 5,\n",
       " 71: 15,\n",
       " 72: 1,\n",
       " 73: 132,\n",
       " 74: 1,\n",
       " 75: 3,\n",
       " 76: 7,\n",
       " 77: 20,\n",
       " 78: 16,\n",
       " 79: 1,\n",
       " 80: 21,\n",
       " 81: 16,\n",
       " 82: 10,\n",
       " 83: 11,\n",
       " 84: 1,\n",
       " 85: 1,\n",
       " 86: 230,\n",
       " 87: 1,\n",
       " 88: 4,\n",
       " 89: 2,\n",
       " 90: 2,\n",
       " 91: 47,\n",
       " 92: 25,\n",
       " 93: 14,\n",
       " 94: 514,\n",
       " 95: 1,\n",
       " 96: 19,\n",
       " 97: 491,\n",
       " 98: 2,\n",
       " 99: 5,\n",
       " 100: 23,\n",
       " 101: 101,\n",
       " 102: 1,\n",
       " 103: 6,\n",
       " 104: 6,\n",
       " 105: 3,\n",
       " 106: 9,\n",
       " 107: 14,\n",
       " 108: 7,\n",
       " 109: 18,\n",
       " 110: 20,\n",
       " 111: 11,\n",
       " 112: 5,\n",
       " 113: 52,\n",
       " 114: 31,\n",
       " 115: 5,\n",
       " 116: 1,\n",
       " 117: 4,\n",
       " 118: 37,\n",
       " 119: 20,\n",
       " 120: 9,\n",
       " 121: 245,\n",
       " 122: 180,\n",
       " 123: 13,\n",
       " 124: 95,\n",
       " 125: 6,\n",
       " 126: 408,\n",
       " 127: 19,\n",
       " 128: 61,\n",
       " 129: 13,\n",
       " 130: 138,\n",
       " 131: 1,\n",
       " 132: 42,\n",
       " 133: 139,\n",
       " 134: 22,\n",
       " 135: 502,\n",
       " 136: 6,\n",
       " 137: 1,\n",
       " 138: 5,\n",
       " 139: 1,\n",
       " 140: 7,\n",
       " 141: 18,\n",
       " 142: 1,\n",
       " 143: 60,\n",
       " 144: 8,\n",
       " 145: 11,\n",
       " 146: 29,\n",
       " 147: 23,\n",
       " 148: 1,\n",
       " 149: 13,\n",
       " 150: 1,\n",
       " 151: 208,\n",
       " 152: 138,\n",
       " 153: 12,\n",
       " 154: 62,\n",
       " 155: 20,\n",
       " 156: 634,\n",
       " 157: 3,\n",
       " 158: 9,\n",
       " 159: 62,\n",
       " 160: 7,\n",
       " 161: 118,\n",
       " 162: 495,\n",
       " 163: 1,\n",
       " 164: 69,\n",
       " 165: 29,\n",
       " 166: 6,\n",
       " 167: 8,\n",
       " 168: 16,\n",
       " 169: 1,\n",
       " 170: 1,\n",
       " 171: 30,\n",
       " 172: 1,\n",
       " 173: 1,\n",
       " 174: 1,\n",
       " 175: 9,\n",
       " 176: 15,\n",
       " 177: 26,\n",
       " 178: 9,\n",
       " 179: 1,\n",
       " 180: 20,\n",
       " 181: 1,\n",
       " 182: 1,\n",
       " 183: 55,\n",
       " 184: 2,\n",
       " 185: 3,\n",
       " 186: 181,\n",
       " 187: 14,\n",
       " 188: 16,\n",
       " 189: 53,\n",
       " 190: 42,\n",
       " 191: 21,\n",
       " 192: 70,\n",
       " 193: 127,\n",
       " 194: 19,\n",
       " 195: 70,\n",
       " 196: 17,\n",
       " 197: 41,\n",
       " 198: 3,\n",
       " 199: 10,\n",
       " 200: 176,\n",
       " 201: 2,\n",
       " 202: 383,\n",
       " 203: 1,\n",
       " 204: 1,\n",
       " 205: 1,\n",
       " 206: 4,\n",
       " 207: 14,\n",
       " 208: 16,\n",
       " 209: 59,\n",
       " 210: 183,\n",
       " 211: 1,\n",
       " 212: 435,\n",
       " 213: 13,\n",
       " 214: 1,\n",
       " 215: 1,\n",
       " 216: 165,\n",
       " 217: 14,\n",
       " 218: 136,\n",
       " 219: 2,\n",
       " 220: 1,\n",
       " 221: 14,\n",
       " 222: 1,\n",
       " 223: 1,\n",
       " 224: 99,\n",
       " 225: 160,\n",
       " 226: 40,\n",
       " 227: 165,\n",
       " 228: 12,\n",
       " 229: 57,\n",
       " 230: 16,\n",
       " 231: 5,\n",
       " 232: 1,\n",
       " 233: 4,\n",
       " 234: 28,\n",
       " 235: 4,\n",
       " 236: 2,\n",
       " 237: 1,\n",
       " 238: 197,\n",
       " 239: 4,\n",
       " 240: 12,\n",
       " 241: 126,\n",
       " 242: 415,\n",
       " 243: 1,\n",
       " 244: 9,\n",
       " 245: 1,\n",
       " 246: 286,\n",
       " 247: 684,\n",
       " 248: 1,\n",
       " 249: 13,\n",
       " 250: 27,\n",
       " 251: 2,\n",
       " 252: 177,\n",
       " 253: 10,\n",
       " 254: 2,\n",
       " 255: 3,\n",
       " 256: 3,\n",
       " 257: 64,\n",
       " 258: 2,\n",
       " 259: 13,\n",
       " 260: 1,\n",
       " 261: 94,\n",
       " 262: 47,\n",
       " 263: 60,\n",
       " 264: 5,\n",
       " 265: 3,\n",
       " 266: 19,\n",
       " 267: 55,\n",
       " 268: 8,\n",
       " 269: 54,\n",
       " 270: 170,\n",
       " 271: 37,\n",
       " 272: 64,\n",
       " 273: 34,\n",
       " 274: 151,\n",
       " 275: 4,\n",
       " 276: 6,\n",
       " 277: 1,\n",
       " 278: 3,\n",
       " 279: 2,\n",
       " 280: 22,\n",
       " 281: 8,\n",
       " 282: 72,\n",
       " 283: 1,\n",
       " 284: 1,\n",
       " 285: 329,\n",
       " 286: 82,\n",
       " 287: 222,\n",
       " 288: 113,\n",
       " 289: 12,\n",
       " 290: 13,\n",
       " 291: 5,\n",
       " 292: 143,\n",
       " 293: 6,\n",
       " 294: 46,\n",
       " 295: 2,\n",
       " 296: 81,\n",
       " 297: 1,\n",
       " 298: 3,\n",
       " 299: 4,\n",
       " 300: 7,\n",
       " 301: 4,\n",
       " 302: 5,\n",
       " 303: 2,\n",
       " 304: 1,\n",
       " 305: 1,\n",
       " 306: 76,\n",
       " 307: 20,\n",
       " 308: 2,\n",
       " 309: 1,\n",
       " 310: 102,\n",
       " 311: 1,\n",
       " 312: 10,\n",
       " 313: 2,\n",
       " 314: 2,\n",
       " 315: 3,\n",
       " 316: 1,\n",
       " 317: 30,\n",
       " 318: 23,\n",
       " 319: 3,\n",
       " 320: 1,\n",
       " 321: 184,\n",
       " 322: 78,\n",
       " 323: 1,\n",
       " 324: 18,\n",
       " 325: 1,\n",
       " 326: 17,\n",
       " 327: 1,\n",
       " 328: 268,\n",
       " 329: 2,\n",
       " 330: 2,\n",
       " 331: 14,\n",
       " 332: 121,\n",
       " 333: 152,\n",
       " 334: 7,\n",
       " 335: 17,\n",
       " 336: 64,\n",
       " 337: 3,\n",
       " 338: 53,\n",
       " 339: 13,\n",
       " 340: 140,\n",
       " 341: 6,\n",
       " 342: 4,\n",
       " 343: 3,\n",
       " 344: 118,\n",
       " 345: 142,\n",
       " 346: 23,\n",
       " 347: 9,\n",
       " 348: 1,\n",
       " 349: 1,\n",
       " 350: 1,\n",
       " 351: 2,\n",
       " 352: 2,\n",
       " 353: 13,\n",
       " 354: 221,\n",
       " 355: 4,\n",
       " 356: 1,\n",
       " 357: 4,\n",
       " 358: 1,\n",
       " 359: 23,\n",
       " 360: 43,\n",
       " 361: 7,\n",
       " 362: 20,\n",
       " 363: 2,\n",
       " 364: 195,\n",
       " 365: 41,\n",
       " 366: 16,\n",
       " 367: 9,\n",
       " 368: 66,\n",
       " 369: 12,\n",
       " 370: 55,\n",
       " 371: 3,\n",
       " 372: 43,\n",
       " 373: 80,\n",
       " 374: 12,\n",
       " 375: 24,\n",
       " 376: 18,\n",
       " 377: 1,\n",
       " 378: 51,\n",
       " 379: 1,\n",
       " 380: 273,\n",
       " 381: 1,\n",
       " 382: 7,\n",
       " 383: 21,\n",
       " 384: 83,\n",
       " 385: 2,\n",
       " 386: 123,\n",
       " 387: 1,\n",
       " 388: 2,\n",
       " 389: 106,\n",
       " 390: 20,\n",
       " 391: 157,\n",
       " 392: 3,\n",
       " 393: 3,\n",
       " 394: 13,\n",
       " 395: 4,\n",
       " 396: 3,\n",
       " 397: 3,\n",
       " 398: 3,\n",
       " 399: 22,\n",
       " 400: 8,\n",
       " 401: 47,\n",
       " 402: 2,\n",
       " 403: 6,\n",
       " 404: 54,\n",
       " 405: 30,\n",
       " 406: 42,\n",
       " 407: 2,\n",
       " 408: 1,\n",
       " 409: 3,\n",
       " 410: 240,\n",
       " 411: 1,\n",
       " 412: 3,\n",
       " 413: 1,\n",
       " 414: 2,\n",
       " 415: 1,\n",
       " 416: 1,\n",
       " 417: 5,\n",
       " 418: 13,\n",
       " 419: 1,\n",
       " 420: 1,\n",
       " 421: 20,\n",
       " 422: 2,\n",
       " 423: 20,\n",
       " 424: 134,\n",
       " 425: 18,\n",
       " 426: 1,\n",
       " 427: 64,\n",
       " 428: 1,\n",
       " 429: 25,\n",
       " 430: 1,\n",
       " 431: 36,\n",
       " 432: 2,\n",
       " 433: 1,\n",
       " 434: 48,\n",
       " 435: 17,\n",
       " 436: 14,\n",
       " 437: 2,\n",
       " 438: 1,\n",
       " 439: 1,\n",
       " 440: 80,\n",
       " 441: 4,\n",
       " 442: 10,\n",
       " 443: 274,\n",
       " 444: 9,\n",
       " 445: 30,\n",
       " 446: 3,\n",
       " 447: 26,\n",
       " 448: 99,\n",
       " 449: 50,\n",
       " 450: 8,\n",
       " 451: 2,\n",
       " 452: 37,\n",
       " 453: 1,\n",
       " 454: 1,\n",
       " 455: 1,\n",
       " 456: 2,\n",
       " 457: 5,\n",
       " 458: 9,\n",
       " 459: 2,\n",
       " 460: 2,\n",
       " 461: 20,\n",
       " 462: 2,\n",
       " 463: 8,\n",
       " 464: 16,\n",
       " 465: 20,\n",
       " 466: 13,\n",
       " 467: 5,\n",
       " 468: 2,\n",
       " 469: 13,\n",
       " 470: 3,\n",
       " 471: 11,\n",
       " 472: 2,\n",
       " 473: 253,\n",
       " 474: 34,\n",
       " 475: 16,\n",
       " 476: 8,\n",
       " 477: 1,\n",
       " 478: 3,\n",
       " 479: 1,\n",
       " 480: 145,\n",
       " 481: 5,\n",
       " 482: 1,\n",
       " 483: 68,\n",
       " 484: 91,\n",
       " 485: 26,\n",
       " 486: 7,\n",
       " 487: 22,\n",
       " 488: 1,\n",
       " 489: 1,\n",
       " 490: 13,\n",
       " 491: 1,\n",
       " 492: 32,\n",
       " 493: 4,\n",
       " 494: 1,\n",
       " 495: 1,\n",
       " 496: 3,\n",
       " 497: 237,\n",
       " 498: 19,\n",
       " 499: 1,\n",
       " 500: 5,\n",
       " 501: 23,\n",
       " 502: 3,\n",
       " 503: 6,\n",
       " 504: 14,\n",
       " 505: 3,\n",
       " 506: 10,\n",
       " 507: 6,\n",
       " 508: 88,\n",
       " 509: 26,\n",
       " 510: 11,\n",
       " 511: 390,\n",
       " 512: 8,\n",
       " 513: 3,\n",
       " 514: 1,\n",
       " 515: 3,\n",
       " 516: 1,\n",
       " 517: 4,\n",
       " 518: 2,\n",
       " 519: 50,\n",
       " 520: 124,\n",
       " 521: 2,\n",
       " 522: 1,\n",
       " 523: 1,\n",
       " 524: 14,\n",
       " 525: 6,\n",
       " 526: 47,\n",
       " 527: 3,\n",
       " 528: 14,\n",
       " 529: 1,\n",
       " 530: 4,\n",
       " 531: 6,\n",
       " 532: 1,\n",
       " 533: 4,\n",
       " 534: 2,\n",
       " 535: 90,\n",
       " 536: 1,\n",
       " 537: 2,\n",
       " 538: 2,\n",
       " 539: 1,\n",
       " 540: 82,\n",
       " 541: 216,\n",
       " 542: 8,\n",
       " 543: 14,\n",
       " 544: 1,\n",
       " 545: 5,\n",
       " 546: 19,\n",
       " 547: 71,\n",
       " 548: 190,\n",
       " 549: 7,\n",
       " 550: 2,\n",
       " 551: 18,\n",
       " 552: 149,\n",
       " 553: 5,\n",
       " 554: 1,\n",
       " 555: 2,\n",
       " 556: 81,\n",
       " 557: 2,\n",
       " 558: 2,\n",
       " 559: 95,\n",
       " 560: 16,\n",
       " 561: 11,\n",
       " 562: 1,\n",
       " 563: 1,\n",
       " 564: 41,\n",
       " 565: 2,\n",
       " 566: 5,\n",
       " 567: 2,\n",
       " 568: 1,\n",
       " 569: 1,\n",
       " 570: 3,\n",
       " 571: 20,\n",
       " 572: 1,\n",
       " 573: 148,\n",
       " 574: 71,\n",
       " 575: 78,\n",
       " 576: 46,\n",
       " 577: 1,\n",
       " 578: 1,\n",
       " 579: 1,\n",
       " 580: 20,\n",
       " 581: 185,\n",
       " 582: 8,\n",
       " 583: 134,\n",
       " 584: 5,\n",
       " 585: 5,\n",
       " 586: 22,\n",
       " 587: 10,\n",
       " 588: 43,\n",
       " 589: 94,\n",
       " 590: 2,\n",
       " 591: 7,\n",
       " 592: 21,\n",
       " 593: 2,\n",
       " 594: 3,\n",
       " 595: 15,\n",
       " 596: 29,\n",
       " 597: 3,\n",
       " 598: 32,\n",
       " 599: 1,\n",
       " 600: 258,\n",
       " 601: 2,\n",
       " 602: 61,\n",
       " 603: 11,\n",
       " 604: 56,\n",
       " 605: 30,\n",
       " 606: 44,\n",
       " 607: 23,\n",
       " 608: 57,\n",
       " 609: 6,\n",
       " 610: 1,\n",
       " 611: 1,\n",
       " 612: 5,\n",
       " 613: 45,\n",
       " 614: 3,\n",
       " 615: 34,\n",
       " 616: 1,\n",
       " 617: 10,\n",
       " 618: 3,\n",
       " 619: 5,\n",
       " 620: 2,\n",
       " 621: 1,\n",
       " 622: 1,\n",
       " 623: 1,\n",
       " 624: 6,\n",
       " 625: 1,\n",
       " 626: 4,\n",
       " 627: 11,\n",
       " 628: 2,\n",
       " 629: 9,\n",
       " 630: 3,\n",
       " 631: 8,\n",
       " 632: 34,\n",
       " 633: 5,\n",
       " 634: 19,\n",
       " 635: 42,\n",
       " 636: 13,\n",
       " 637: 3,\n",
       " 638: 28,\n",
       " 639: 16,\n",
       " 640: 17,\n",
       " 641: 10,\n",
       " 642: 66,\n",
       " 643: 13,\n",
       " 644: 1,\n",
       " 645: 152,\n",
       " 646: 7,\n",
       " 647: 11,\n",
       " 648: 359,\n",
       " 649: 3,\n",
       " 650: 3,\n",
       " 651: 2,\n",
       " 652: 1,\n",
       " 653: 9,\n",
       " 654: 18,\n",
       " 655: 2,\n",
       " 656: 1,\n",
       " 657: 1,\n",
       " 658: 8,\n",
       " 659: 77,\n",
       " 660: 1,\n",
       " 661: 2,\n",
       " 662: 119,\n",
       " 663: 7,\n",
       " 664: 1,\n",
       " 665: 10,\n",
       " 666: 3,\n",
       " 667: 4,\n",
       " 668: 45,\n",
       " 669: 21,\n",
       " 670: 1,\n",
       " 671: 19,\n",
       " 672: 1,\n",
       " 673: 61,\n",
       " 674: 7,\n",
       " 675: 21,\n",
       " 676: 2,\n",
       " 677: 1,\n",
       " 678: 17,\n",
       " 679: 7,\n",
       " 680: 1,\n",
       " 681: 19,\n",
       " 682: 192,\n",
       " 683: 41,\n",
       " 684: 8,\n",
       " 685: 6,\n",
       " 686: 61,\n",
       " 687: 87,\n",
       " 688: 91,\n",
       " 689: 75,\n",
       " 690: 10,\n",
       " 691: 5,\n",
       " 692: 1,\n",
       " 693: 1,\n",
       " 694: 10,\n",
       " 695: 3,\n",
       " 696: 24,\n",
       " 697: 1,\n",
       " 698: 1,\n",
       " 699: 1,\n",
       " 700: 61,\n",
       " 701: 9,\n",
       " 702: 106,\n",
       " 703: 1,\n",
       " 704: 1,\n",
       " 705: 1,\n",
       " 706: 2,\n",
       " 707: 21,\n",
       " 708: 19,\n",
       " 709: 12,\n",
       " 710: 204,\n",
       " 711: 1,\n",
       " 712: 1,\n",
       " 713: 21,\n",
       " 714: 4,\n",
       " 715: 92,\n",
       " 716: 4,\n",
       " 717: 12,\n",
       " 718: 8,\n",
       " 719: 20,\n",
       " 720: 49,\n",
       " 721: 15,\n",
       " 722: 5,\n",
       " 723: 148,\n",
       " 724: 16,\n",
       " 725: 24,\n",
       " 726: 1,\n",
       " 727: 1,\n",
       " 728: 1,\n",
       " 729: 8,\n",
       " 730: 4,\n",
       " 731: 2,\n",
       " 732: 16,\n",
       " 733: 2,\n",
       " 734: 4,\n",
       " 735: 49,\n",
       " 736: 60,\n",
       " 737: 3,\n",
       " 738: 12,\n",
       " 739: 119,\n",
       " 740: 36,\n",
       " 741: 27,\n",
       " 742: 2,\n",
       " 743: 4,\n",
       " 744: 5,\n",
       " 745: 23,\n",
       " 746: 1,\n",
       " 747: 33,\n",
       " 748: 2,\n",
       " 749: 2,\n",
       " 750: 1,\n",
       " 751: 28,\n",
       " 752: 2,\n",
       " 753: 1,\n",
       " 754: 1,\n",
       " 755: 8,\n",
       " 756: 4,\n",
       " 757: 12,\n",
       " 758: 22,\n",
       " 759: 11,\n",
       " 760: 69,\n",
       " 761: 22,\n",
       " 762: 5,\n",
       " 763: 8,\n",
       " 764: 159,\n",
       " 765: 1,\n",
       " 766: 64,\n",
       " 767: 12,\n",
       " 768: 5,\n",
       " 769: 16,\n",
       " 770: 33,\n",
       " 771: 1,\n",
       " 772: 1,\n",
       " 773: 9,\n",
       " 774: 5,\n",
       " 775: 49,\n",
       " 776: 1,\n",
       " 777: 25,\n",
       " 778: 3,\n",
       " 779: 2,\n",
       " 780: 7,\n",
       " 781: 3,\n",
       " 782: 3,\n",
       " 783: 33,\n",
       " 784: 3,\n",
       " 785: 16,\n",
       " 786: 62,\n",
       " 787: 1,\n",
       " 788: 32,\n",
       " 789: 10,\n",
       " 790: 2,\n",
       " 791: 1,\n",
       " 792: 4,\n",
       " 793: 26,\n",
       " 794: 8,\n",
       " 795: 13,\n",
       " 796: 53,\n",
       " 797: 26,\n",
       " 798: 2,\n",
       " 799: 16,\n",
       " 800: 3,\n",
       " 801: 3,\n",
       " 802: 21,\n",
       " 803: 21,\n",
       " 804: 2,\n",
       " 805: 15,\n",
       " 806: 12,\n",
       " 807: 2,\n",
       " 808: 13,\n",
       " 809: 2,\n",
       " 810: 208,\n",
       " 811: 31,\n",
       " 812: 5,\n",
       " 813: 33,\n",
       " 814: 1,\n",
       " 815: 1,\n",
       " 816: 4,\n",
       " 817: 10,\n",
       " 818: 5,\n",
       " 819: 29,\n",
       " 820: 4,\n",
       " 821: 7,\n",
       " 822: 3,\n",
       " 823: 16,\n",
       " 824: 12,\n",
       " 825: 6,\n",
       " 826: 1,\n",
       " 827: 1,\n",
       " 828: 35,\n",
       " 829: 5,\n",
       " 830: 1,\n",
       " 831: 43,\n",
       " 832: 4,\n",
       " 833: 4,\n",
       " 834: 31,\n",
       " 835: 2,\n",
       " 836: 8,\n",
       " 837: 47,\n",
       " 838: 27,\n",
       " 839: 10,\n",
       " 840: 3,\n",
       " 841: 21,\n",
       " 842: 5,\n",
       " 843: 51,\n",
       " 844: 5,\n",
       " 845: 7,\n",
       " 846: 42,\n",
       " 847: 1,\n",
       " 848: 4,\n",
       " 849: 4,\n",
       " 850: 5,\n",
       " 851: 15,\n",
       " 852: 1,\n",
       " 853: 1,\n",
       " 854: 25,\n",
       " 855: 14,\n",
       " 856: 7,\n",
       " 857: 1,\n",
       " 858: 1,\n",
       " 859: 140,\n",
       " 860: 26,\n",
       " 861: 5,\n",
       " 862: 1,\n",
       " 863: 2,\n",
       " 864: 2,\n",
       " 865: 20,\n",
       " 866: 97,\n",
       " 867: 67,\n",
       " 868: 13,\n",
       " 869: 1,\n",
       " 870: 4,\n",
       " 871: 114,\n",
       " 872: 3,\n",
       " 873: 18,\n",
       " 874: 131,\n",
       " 875: 19,\n",
       " 876: 1,\n",
       " 877: 13,\n",
       " 878: 9,\n",
       " 879: 2,\n",
       " 880: 1,\n",
       " 881: 8,\n",
       " 882: 31,\n",
       " 883: 20,\n",
       " 884: 10,\n",
       " 885: 1,\n",
       " 886: 243,\n",
       " 887: 3,\n",
       " 888: 5,\n",
       " 889: 7,\n",
       " 890: 1,\n",
       " 891: 1,\n",
       " 892: 1,\n",
       " 893: 1,\n",
       " 894: 4,\n",
       " 895: 15,\n",
       " 896: 1,\n",
       " 897: 2,\n",
       " 898: 2,\n",
       " 899: 25,\n",
       " 900: 2,\n",
       " 901: 1,\n",
       " 902: 2,\n",
       " 903: 26,\n",
       " 904: 1,\n",
       " 905: 3,\n",
       " 906: 41,\n",
       " 907: 7,\n",
       " 908: 10,\n",
       " 909: 2,\n",
       " 910: 1,\n",
       " 911: 20,\n",
       " 912: 3,\n",
       " 913: 41,\n",
       " 914: 23,\n",
       " 915: 5,\n",
       " 916: 3,\n",
       " 917: 4,\n",
       " 918: 1,\n",
       " 919: 3,\n",
       " 920: 161,\n",
       " 921: 1,\n",
       " 922: 1,\n",
       " 923: 1,\n",
       " 924: 1,\n",
       " 925: 1,\n",
       " 926: 10,\n",
       " 927: 1,\n",
       " 928: 15,\n",
       " 929: 28,\n",
       " 930: 5,\n",
       " 931: 1,\n",
       " 932: 18,\n",
       " 933: 1,\n",
       " 934: 14,\n",
       " 935: 9,\n",
       " 936: 44,\n",
       " 937: 6,\n",
       " 938: 3,\n",
       " 939: 1,\n",
       " 940: 5,\n",
       " 941: 31,\n",
       " 942: 1,\n",
       " 943: 3,\n",
       " 944: 13,\n",
       " 945: 8,\n",
       " 946: 2,\n",
       " 947: 29,\n",
       " 948: 46,\n",
       " 949: 1,\n",
       " 950: 27,\n",
       " 951: 7,\n",
       " 952: 13,\n",
       " 953: 1,\n",
       " 954: 6,\n",
       " 955: 2,\n",
       " 956: 1,\n",
       " 957: 1,\n",
       " 958: 24,\n",
       " 959: 28,\n",
       " 960: 2,\n",
       " 961: 3,\n",
       " 962: 1,\n",
       " 963: 1,\n",
       " 964: 160,\n",
       " 965: 88,\n",
       " 966: 73,\n",
       " 967: 21,\n",
       " 968: 1,\n",
       " 969: 9,\n",
       " 970: 46,\n",
       " 971: 80,\n",
       " 972: 1,\n",
       " 973: 12,\n",
       " 974: 7,\n",
       " 975: 12,\n",
       " 976: 1,\n",
       " 977: 1,\n",
       " 978: 3,\n",
       " 979: 4,\n",
       " 980: 58,\n",
       " 981: 13,\n",
       " 982: 20,\n",
       " 983: 4,\n",
       " 984: 25,\n",
       " 985: 5,\n",
       " 986: 13,\n",
       " 987: 34,\n",
       " 988: 8,\n",
       " 989: 26,\n",
       " 990: 1,\n",
       " 991: 1,\n",
       " 992: 17,\n",
       " 993: 25,\n",
       " 994: 7,\n",
       " 995: 1,\n",
       " 996: 1,\n",
       " 997: 3,\n",
       " 998: 4,\n",
       " 999: 12,\n",
       " ...}"
      ]
     },
     "execution_count": 327,
     "metadata": {},
     "output_type": "execute_result"
    }
   ],
   "source": [
    "tk1.vocabulario"
   ]
  },
  {
   "cell_type": "markdown",
   "metadata": {},
   "source": [
    "y las rankeamos en voc1_sort"
   ]
  },
  {
   "cell_type": "code",
   "execution_count": 328,
   "metadata": {},
   "outputs": [
    {
     "data": {
      "text/plain": [
       "[('like', 684), ('get', 634), (\"i'm\", 541), ('me:', 514), ('peopl', 502)]"
      ]
     },
     "execution_count": 328,
     "metadata": {},
     "output_type": "execute_result"
    }
   ],
   "source": [
    "voc1_sort[:5]"
   ]
  },
  {
   "cell_type": "code",
   "execution_count": 329,
   "metadata": {},
   "outputs": [
    {
     "name": "stdout",
     "output_type": "stream",
     "text": [
      "  (0, 0)\t0.14285714285714285\n",
      "  (0, 1)\t0.07142857142857142\n",
      "  (0, 2)\t0.07142857142857142\n",
      "  (0, 3)\t0.07142857142857142\n",
      "  (0, 4)\t0.07142857142857142\n",
      "  (0, 5)\t0.07142857142857142\n",
      "  (0, 6)\t0.07142857142857142\n",
      "  (0, 7)\t0.07142857142857142\n",
      "  (0, 8)\t0.07142857142857142\n",
      "  (0, 9)\t0.07142857142857142\n",
      "  (0, 10)\t0.07142857142857142\n",
      "  (0, 11)\t0.07142857142857142\n",
      "  (0, 12)\t0.07142857142857142\n"
     ]
    }
   ],
   "source": [
    "# Tambien tenemos las frecuencias normalizadas (TF)\n",
    "print(train_s_norm[0])"
   ]
  },
  {
   "cell_type": "markdown",
   "metadata": {},
   "source": [
    "El término IDF se calcula simplemente como la relación entre el número total de documentos y el número de documentos en los que aparece el término. Por ejemplo considere los siguientes casos:\n",
    "\n",
    "- Suponga que palabra `like` aparece en 684 de los 8000 documentos entonce su IDF=684/800\n",
    "- Si la palabre `me` aparece en 502 documento, entonces IDF=502/8000 "
   ]
  },
  {
   "cell_type": "markdown",
   "metadata": {},
   "source": [
    "Finalmente se pude calcular TF-IDF como la multiplicación de sus vectores TF e IDF"
   ]
  },
  {
   "cell_type": "code",
   "execution_count": 332,
   "metadata": {},
   "outputs": [
    {
     "name": "stdout",
     "output_type": "stream",
     "text": [
      "  (0, 0)\t2\n",
      "  (0, 1)\t1\n",
      "  (0, 2)\t1\n",
      "  (0, 3)\t1\n",
      "  (0, 4)\t1\n",
      "  (0, 5)\t1\n",
      "  (0, 6)\t1\n",
      "  (0, 7)\t1\n",
      "  (0, 8)\t1\n",
      "  (0, 9)\t1\n",
      "  (0, 10)\t1\n",
      "  (0, 11)\t1\n",
      "  (0, 12)\t1\n"
     ]
    }
   ],
   "source": [
    "print(train_s[0])"
   ]
  },
  {
   "cell_type": "markdown",
   "metadata": {},
   "source": [
    "¿Como podemos calcular TF-IDF para cada documento?"
   ]
  },
  {
   "cell_type": "code",
   "execution_count": null,
   "metadata": {},
   "outputs": [],
   "source": []
  }
 ],
 "metadata": {
  "kernelspec": {
   "display_name": "Python 3",
   "language": "python",
   "name": "python3"
  },
  "language_info": {
   "codemirror_mode": {
    "name": "ipython",
    "version": 3
   },
   "file_extension": ".py",
   "mimetype": "text/x-python",
   "name": "python",
   "nbconvert_exporter": "python",
   "pygments_lexer": "ipython3",
   "version": "3.8.5"
  }
 },
 "nbformat": 4,
 "nbformat_minor": 4
}
