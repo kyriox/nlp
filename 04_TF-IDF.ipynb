{
 "cells": [
  {
   "cell_type": "code",
   "execution_count": 276,
   "metadata": {},
   "outputs": [
    {
     "name": "stdout",
     "output_type": "stream",
     "text": [
      "The autoreload extension is already loaded. To reload it, use:\n",
      "  %reload_ext autoreload\n"
     ]
    }
   ],
   "source": [
    "import pandas as pd\n",
    "import numpy as np\n",
    "import re\n",
    "import nltk, spacy\n",
    "import scipy.sparse as sp\n",
    "from collections import Counter\n",
    "from SimpleNLP import Tokenizer\n",
    "from matplotlib import pyplot as plt\n",
    "%load_ext autoreload\n",
    "%autoreload 2"
   ]
  },
  {
   "cell_type": "markdown",
   "metadata": {},
   "source": [
    "# Estadistica con palabras  \n",
    "\n",
    "Al construir el vocabulario en una colección de documentos, se realizan  normalizaciones que nos permiten agrupar patrones comunes. aún cuando identificar y contabilizar los terminos en el vocabulario es útil para tareas simples, como computar estadisticas de uso o realizar búsquedas por palabras claves. Sin embargo, también se podría querer realizar tareas en la que la `importancia` dentro del documento o la colección de las palabras sea o no relevante. Por ejemplo no es deseado que un email  sea catalogado como spam solo una palabra común en ese tipo de mensajes.\n",
    "\n",
    "Si se puede medir la importacia de los términos, también seá posible tan positivo o negativo es un tweet con respecto de otro en la mis colección. Los ejemplos anteriores los podemos modelar mediente el uso de la frecuencia con que aparece un termino un documento con respecto al resto en la colección. \n",
    "\n",
    "En las siguientes secciones ampliaremos el espacio vectorial binario mediate el uso de frecuencias, paa convertir las palabras en VSM de números reales. El objetivo es proporcionar un representación que capture la importacia de cada término.  "
   ]
  },
  {
   "cell_type": "markdown",
   "metadata": {},
   "source": [
    "Las representaciones que revisaremos son:\n",
    "\n",
    "- **Bolsa de palabras**. Representación basada en la fecuencia de  las palabras\n",
    "- **Bolsa de $n$-gramas** Conteo de bigramas, trigramas, etc\n",
    "- **TF-IDF** Permiten medir la importancia de las palabras.\n",
    "\n",
    "**TF-IDF** es el acrónimo para `Term Frecuency Inverse Document Frecuency`. TF se refiere a la frecuencia de un  termino en un documento, mientras que IDF  implica que TF será pesado en base a la frecuencia de ese mismo termino en toda la colección (una división)."
   ]
  },
  {
   "cell_type": "markdown",
   "metadata": {},
   "source": [
    "### Bolsa de palabras\n",
    "\n",
    "En las sesiones previas ya hemos utilizado bolsas de palabras binarias, es decir solo decidimos si una palabra aparece o no en un documentos. A esta tipo en particular le denominamos **one-hot econding**. Con esa representación simple es posible crear un indice que permita hacer consultas simplmente utilizando operaciones `OR` y `AND`. Nuestro modulo `SimpleNLP` ya implementa ese tipo de datos.\n",
    "\n",
    "Ahora procederemos a hacer una representación donde se considere el número de veces que aprece cada término en el documento. Es decir una bolsa de palabras que consideré la frecuencia."
   ]
  },
  {
   "cell_type": "code",
   "execution_count": 173,
   "metadata": {},
   "outputs": [],
   "source": [
    "# Carguemos nuevamente nuestro conjunto de tweets de humor\n",
    "train_df=pd.read_csv('data/humor/train_english.tgz', compression='gzip',usecols=['is_humor','text'])\n",
    "test_df=pd.read_csv('data/humor/dev_english.csv',usecols=['is_humor','text']) \n",
    "train_df=train_df.dropna().astype({'is_humor': 'int32'})\n",
    "test_df=test_df.dropna().astype({'is_humor': 'int32'})"
   ]
  },
  {
   "cell_type": "code",
   "execution_count": 174,
   "metadata": {},
   "outputs": [],
   "source": [
    "# Generemos nuestro vocabulario\n",
    "from SimpleNLP import Tokenizer\n",
    "# Entrenamos el modelo\n",
    "tk=Tokenizer(derivador='stem')\n",
    "tk.fit(train_df.text)"
   ]
  },
  {
   "cell_type": "code",
   "execution_count": 175,
   "metadata": {},
   "outputs": [
    {
     "data": {
      "text/plain": [
       "array(['tennessee:', \"we'r\", 'the', ..., 'aspirin', '37%', 'e\"'],\n",
       "      dtype='<U79')"
      ]
     },
     "execution_count": 175,
     "metadata": {},
     "output_type": "execute_result"
    }
   ],
   "source": [
    "tk.vocabulario_index"
   ]
  },
  {
   "cell_type": "code",
   "execution_count": 5,
   "metadata": {},
   "outputs": [],
   "source": [
    "# Revisemos el tweet 50\n",
    "tweet,label=train_df.iloc[100]\n",
    "tweet_vector=tk.transform([tweet])"
   ]
  },
  {
   "cell_type": "code",
   "execution_count": 6,
   "metadata": {},
   "outputs": [
    {
     "name": "stdout",
     "output_type": "stream",
     "text": [
      "Vector:[[0 0 1 ... 0 0 0]]\n",
      "Texto:Last night my wife and I watched 2 hours of cooking shows, before she hugged me and went to bed. I'm pretty sure I'm in the friend zone.\n",
      "Etiqueta:1\n",
      "Dimension(1, 22328)\n"
     ]
    }
   ],
   "source": [
    "# Podemos ver su forma vectorial, texto, etiqueta y dimension\n",
    "print(f\"Vector:{tweet_vector.toarray()}\\nTexto:{tweet}\\nEtiqueta:{label}\\nDimension{tweet_vector.shape}\")"
   ]
  },
  {
   "cell_type": "code",
   "execution_count": 7,
   "metadata": {},
   "outputs": [
    {
     "name": "stdout",
     "output_type": "stream",
     "text": [
      "  (0, 2)\t1\n",
      "  (0, 20)\t1\n",
      "  (0, 29)\t1\n",
      "  (0, 51)\t1\n",
      "  (0, 59)\t1\n",
      "  (0, 63)\t1\n",
      "  (0, 65)\t1\n",
      "  (0, 75)\t1\n",
      "  (0, 76)\t1\n",
      "  (0, 359)\t1\n",
      "  (0, 361)\t1\n",
      "  (0, 385)\t1\n",
      "  (0, 609)\t1\n",
      "  (0, 675)\t1\n",
      "  (0, 698)\t1\n",
      "  (0, 872)\t1\n",
      "  (0, 910)\t1\n",
      "  (0, 1068)\t1\n",
      "  (0, 1069)\t1\n",
      "  (0, 1070)\t1\n",
      "  (0, 1071)\t1\n",
      "  (0, 1072)\t1\n",
      "  (0, 1073)\t1\n",
      "  (0, 1074)\t1\n",
      "  (0, 1075)\t1\n",
      "  (0, 1076)\t1\n"
     ]
    }
   ],
   "source": [
    "# Elementos diferentes de 0 (VSM binario)\n",
    "print(tweet_vector)"
   ]
  },
  {
   "cell_type": "markdown",
   "metadata": {},
   "source": [
    "Uno de los clasificadores que mejor funciona con este tipo de representaciones dispersas es SVM con kernel lineal. A continuación lo usaremos para tenerlo como referencia para comparar ambas versiones (Binario/Frecuencia). "
   ]
  },
  {
   "cell_type": "code",
   "execution_count": 8,
   "metadata": {},
   "outputs": [],
   "source": [
    "from sklearn.metrics import f1_score as f1, accuracy_score as acc\n",
    "from sklearn.svm import LinearSVC\n",
    "clf = LinearSVC()"
   ]
  },
  {
   "cell_type": "code",
   "execution_count": 176,
   "metadata": {},
   "outputs": [],
   "source": [
    "# Transformamos los textos al VSM \n",
    "train=tk.transform(train_df.text)\n",
    "test=tk.transform(test_df.text)"
   ]
  },
  {
   "cell_type": "code",
   "execution_count": null,
   "metadata": {},
   "outputs": [],
   "source": [
    "# Entrenamos el clasificador\n",
    "clf.fit(train,train_df.is_humor)"
   ]
  },
  {
   "cell_type": "code",
   "execution_count": null,
   "metadata": {},
   "outputs": [],
   "source": [
    "y=test_df.is_humor\n",
    "yp=clf.predict(test)\n",
    "print(\"F-Score: {} Accuracy: {} \".format(f1(y,yp),acc(y,yp)))"
   ]
  },
  {
   "cell_type": "code",
   "execution_count": null,
   "metadata": {},
   "outputs": [],
   "source": [
    "# Podemos generar un mapa {\"Palabra: count\"} primero tokenizando\n",
    "tweet_tokens=tk.tokenize(tweet)\n",
    "Counter(tweet_tokens)"
   ]
  },
  {
   "cell_type": "code",
   "execution_count": null,
   "metadata": {},
   "outputs": [],
   "source": [
    "# Utilizando el vocabulario_index es posible hacer la representación basada en frecuencia\n",
    "N=len(tk.vocabulario_index)\n",
    "C=[np.argwhere(tk.vocabulario_index==token)[0][0] for token in tweet_tokens if len(np.argwhere(tk.vocabulario_index==token))]\n",
    "R=[0 for i in C]\n",
    "X=[1 for i in C]\n",
    "v=sp.csr_matrix((X,(R,C)), shape=(1,N))\n",
    "print(v)"
   ]
  },
  {
   "cell_type": "markdown",
   "metadata": {},
   "source": [
    "<div class=\"alert alert-success\">\n",
    "<b>Ejercicio</b>:<br />\n",
    "    Agregar un metodo _tf_transform(corpus) que genere la bolsa de palabras considerando el número de veces que aparece cada token en un documento.\n",
    "</div>"
   ]
  },
  {
   "cell_type": "code",
   "execution_count": null,
   "metadata": {},
   "outputs": [],
   "source": [
    "# Transformamos los textos al VSM \n",
    "train_tf=tk._tf_transform(train_df.text)\n",
    "test_tf=tk._tf_transform(test_df.text)"
   ]
  },
  {
   "cell_type": "code",
   "execution_count": null,
   "metadata": {},
   "outputs": [],
   "source": [
    "clf2 = LinearSVC()\n",
    "clf2.fit(train_tf,train_df.is_humor)\n",
    "yp=clf.predict(test_tf)\n",
    "print(\"F-Score: {} Accuracy: {} \".format(f1(y,yp),acc(y,yp)))"
   ]
  },
  {
   "cell_type": "markdown",
   "metadata": {},
   "source": [
    "Para documentos breves como el caso de los tweets, la bolsa de palabras contiene suficiente información sobre la intención de oración. Y esta información normalmente es suficiente para realizar tares como detectar spam, sentimiento (positividad, felicidad, humor, etc). Ahora clasifiquemos/ordenemos las palabras, esto nos ayudará a determinar cuales son más relevantes.\n",
    "\n",
    "¿Como podemos determinar cuales son las más importantes?"
   ]
  },
  {
   "cell_type": "code",
   "execution_count": 216,
   "metadata": {},
   "outputs": [],
   "source": [
    "# ¿Que obtnemos si ordemanos el vocabulario?\n",
    "voc=list(tk.vocabulario.items())\n",
    "voc.sort(reverse=True, key=lambda x: x[1])\n",
    "voc_sort=[(tk.vocabulario_index[token],count) for token,count in voc]"
   ]
  },
  {
   "cell_type": "code",
   "execution_count": null,
   "metadata": {},
   "outputs": [],
   "source": [
    "voc_sort[:5] # las cinco palabras mas comunes"
   ]
  },
  {
   "cell_type": "code",
   "execution_count": null,
   "metadata": {},
   "outputs": [],
   "source": [
    "voc_sort[-5:] # las cinco palabras mas raras"
   ]
  },
  {
   "cell_type": "markdown",
   "metadata": {},
   "source": [
    "Como ya mencionamos, el número de veces que aparece una palabra en un documento determinado se denomina frecuencia (TF). Podríamos normalizar la frecuencia dividiendo cada palabra por el número de términos en ella."
   ]
  },
  {
   "cell_type": "code",
   "execution_count": null,
   "metadata": {},
   "outputs": [],
   "source": [
    "#Número de terminos diferente de zero\n",
    "len(train_tf[0].nonzero()[1])"
   ]
  },
  {
   "cell_type": "code",
   "execution_count": null,
   "metadata": {},
   "outputs": [],
   "source": [
    "print(train_tf[0]/train_tf[0].sum())"
   ]
  },
  {
   "cell_type": "code",
   "execution_count": null,
   "metadata": {},
   "outputs": [],
   "source": [
    "# Suma\n",
    "np.sum(train_tf[0]/train_tf[0].sum())"
   ]
  },
  {
   "cell_type": "code",
   "execution_count": null,
   "metadata": {},
   "outputs": [],
   "source": []
  },
  {
   "cell_type": "markdown",
   "metadata": {},
   "source": [
    "### Espacios Vectoriales\n",
    "\n",
    "La frecuencia de términos normalizados, es el recuento de palabras dividido por la longitud del documento. ¿Cuál es la razón para normalizar? Suponga que en un documento $A$ se encuentra la palabra \"perro\" 3 y 100 veces documento $B$. Con lo anterior se podria suponer que la palabra es más importante en B que en A. Pero espere que ocurre si el descubre A solo contiene 30 palabras  y el B 10000. Entoces tendríamos:"
   ]
  },
  {
   "cell_type": "code",
   "execution_count": null,
   "metadata": {},
   "outputs": [],
   "source": [
    "importancia_perro_docA=3/100\n",
    "importancia_perro_docB=100/10000"
   ]
  },
  {
   "cell_type": "code",
   "execution_count": null,
   "metadata": {},
   "outputs": [],
   "source": [
    "print(importancia_perro_docA,importancia_perro_docB) # Entonces sería más relevante para A "
   ]
  },
  {
   "cell_type": "markdown",
   "metadata": {},
   "source": [
    "Dado que las palabras como \"the\", \"and\"  parecen no ser de utilidad removamolas. Agreguemos la lista de stop words a nuestro tokenizador."
   ]
  },
  {
   "cell_type": "code",
   "execution_count": 5,
   "metadata": {},
   "outputs": [],
   "source": [
    "#instanciamos un tokenizador con stop word removal\n",
    "tk1=Tokenizer(derivador='stem',remove_stop_words=True)\n",
    "tk1.fit(train_df.text)"
   ]
  },
  {
   "cell_type": "code",
   "execution_count": 6,
   "metadata": {},
   "outputs": [
    {
     "ename": "NameError",
     "evalue": "name 'tk' is not defined",
     "output_type": "error",
     "traceback": [
      "\u001b[0;31m---------------------------------------------------------------------------\u001b[0m",
      "\u001b[0;31mNameError\u001b[0m                                 Traceback (most recent call last)",
      "\u001b[0;32m<ipython-input-6-9c6c7a24da91>\u001b[0m in \u001b[0;36m<module>\u001b[0;34m\u001b[0m\n\u001b[0;32m----> 1\u001b[0;31m \u001b[0mprint\u001b[0m\u001b[0;34m(\u001b[0m\u001b[0mlen\u001b[0m\u001b[0;34m(\u001b[0m\u001b[0mtk\u001b[0m\u001b[0;34m.\u001b[0m\u001b[0mvocabulario_index\u001b[0m\u001b[0;34m)\u001b[0m\u001b[0;34m,\u001b[0m\u001b[0mlen\u001b[0m\u001b[0;34m(\u001b[0m\u001b[0mtk1\u001b[0m\u001b[0;34m.\u001b[0m\u001b[0mvocabulario_index\u001b[0m\u001b[0;34m)\u001b[0m\u001b[0;34m)\u001b[0m\u001b[0;31m# un menor vocabulario\u001b[0m\u001b[0;34m\u001b[0m\u001b[0;34m\u001b[0m\u001b[0m\n\u001b[0m",
      "\u001b[0;31mNameError\u001b[0m: name 'tk' is not defined"
     ]
    }
   ],
   "source": [
    "print(len(tk.vocabulario_index),len(tk1.vocabulario_index))# un menor vocabulario"
   ]
  },
  {
   "cell_type": "code",
   "execution_count": 7,
   "metadata": {},
   "outputs": [],
   "source": [
    "voc1=list(tk1.vocabulario.items())\n",
    "voc1.sort(reverse=True, key=lambda x: x[1])\n",
    "voc1_sort=[(tk1.vocabulario_index[token],count) for token,count in voc1]"
   ]
  },
  {
   "cell_type": "code",
   "execution_count": 8,
   "metadata": {},
   "outputs": [
    {
     "data": {
      "text/plain": [
       "[('like', 684),\n",
       " ('get', 634),\n",
       " (\"i'm\", 541),\n",
       " ('me:', 514),\n",
       " ('peopl', 502),\n",
       " ('call', 495),\n",
       " ('one', 491),\n",
       " ('make', 435),\n",
       " ('say', 415),\n",
       " ('go', 408)]"
      ]
     },
     "execution_count": 8,
     "metadata": {},
     "output_type": "execute_result"
    }
   ],
   "source": [
    "voc1_sort[:10] #las frecuencias son mucho menores"
   ]
  },
  {
   "cell_type": "code",
   "execution_count": 9,
   "metadata": {},
   "outputs": [],
   "source": [
    "train_s=tk1.transform(train_df.text)\n",
    "test_s=tk1.transform(test_df.text)"
   ]
  },
  {
   "cell_type": "code",
   "execution_count": 10,
   "metadata": {},
   "outputs": [
    {
     "name": "stderr",
     "output_type": "stream",
     "text": [
      "/opt/anaconda3/lib/python3.8/site-packages/scipy/sparse/base.py:581: RuntimeWarning: divide by zero encountered in double_scalars\n",
      "  return self.astype(np.float_)._mul_scalar(1./other)\n"
     ]
    }
   ],
   "source": [
    "# Podemos normalizar toda matriz como sigue\n",
    "train_s_norm=sp.vstack([v/v.sum() for v in train_s])\n",
    "test_s_norm=sp.vstack([v/v.sum() for v in test_s])"
   ]
  },
  {
   "attachments": {
    "image.png": {
     "image/png": "[encoded data removed]"
    }
   },
   "cell_type": "markdown",
   "metadata": {},
   "source": [
    "Aún cuando *one-hot encoding* es un vector válido, este es disperso y no dice nada acerca de cómo se relacionan la palabras entre ellas. Desearíamos que el vector  pudiera expresar las similitudes y diferencias semánticas entre ellas, por ejemple si dos palabras significan lo mismo (son sinónimos), son términos opuestos (antónimos) o si en algún contexto podrían significar lo mismo. El ejemplo clásico utiliza las palabras **king**, **queen**, **woman**, **man** y asume que dado un embedding que capture las relaciones entre estas palabras debería cumplirse que:\n",
    "\n",
    "$ \\overrightarrow{king}-\\overrightarrow{man}+\\overrightarrow{woman}=\\overrightarrow{queen}$\n",
    "\n",
    "![image.png](attachment:image.png)\n",
    "\n",
    "*fuente: https://blogs.mathworks.com/loren/2017/09/21/math-with-words-word-embeddings-with-matlab-and-text-analytics-toolbox/*|\n",
    "\n",
    "Algunos ejemplos de relaciones que se podrían capturar serían por ejemplo que palabras como: *Paris, Teherán, Tokio, Canberra*  están relacionadas con la palabra capital, o *México, Estados Unidos, Canada* se relacionan con el término *Norte América*.  Por solo lo haremos mediante frecuencias, pero más adelante en el curso lo retomaremos mediane el uso de embeddings. "
   ]
  },
  {
   "cell_type": "markdown",
   "metadata": {},
   "source": [
    "Para un espacio vectorial de documentos, la dimensión de su espacio vectorial está dada por el tamaño del vocabulario $V$, es decir el número de palabras distintas en toda la colección de documentos. Por tanto la dimensión será $N=|V|$. Debido a la dificultad  de visualizar vectotres en de más de tres dimensiones, el hecho de que tanto TF como TF-IDF son vectores dispersos; se hace necesario proyectarlos mediante el uso de componenetes principales. Para nuestro caso usaremos la librería **TruncatedSVD**. \n"
   ]
  },
  {
   "cell_type": "code",
   "execution_count": 189,
   "metadata": {},
   "outputs": [],
   "source": [
    "from sklearn.decomposition import TruncatedSVD\n",
    "tsvd=TruncatedSVD(100)\n",
    "tsvd.fit(train_s_norm)\n",
    "X=tsvd.transform(train_s_norm)"
   ]
  },
  {
   "cell_type": "code",
   "execution_count": 140,
   "metadata": {},
   "outputs": [
    {
     "name": "stdout",
     "output_type": "stream",
     "text": [
      "[0.00553866 0.01456609]\n"
     ]
    }
   ],
   "source": [
    "print(X[0])"
   ]
  },
  {
   "cell_type": "code",
   "execution_count": 213,
   "metadata": {},
   "outputs": [
    {
     "data": {
      "image/png": "[encoded data removed]",
      "text/plain": [
       "<Figure size 432x288 with 1 Axes>"
      ]
     },
     "metadata": {
      "needs_background": "light"
     },
     "output_type": "display_data"
    }
   ],
   "source": [
    "plt.scatter(X[:,0],X[:,1],c=train_df.is_humor);"
   ]
  },
  {
   "cell_type": "code",
   "execution_count": 142,
   "metadata": {},
   "outputs": [],
   "source": [
    "import utilidades as ut"
   ]
  },
  {
   "cell_type": "code",
   "execution_count": 144,
   "metadata": {},
   "outputs": [
    {
     "data": {
      "image/png": "[encoded data removed]",
      "text/plain": [
       "<Figure size 432x288 with 1 Axes>"
      ]
     },
     "metadata": {
      "needs_background": "light"
     },
     "output_type": "display_data"
    }
   ],
   "source": [
    "lista=[7,11,21]\n",
    "ut.plotPCA(train_s_norm[lista],[f'Tweet{i}' for i in lista])"
   ]
  },
  {
   "cell_type": "markdown",
   "metadata": {},
   "source": [
    "En un VMS, dod vectores son `similares` si tinen un ángulo similar. Opcionalmente, podría on no tener una magnitud similar. Una longitud similar implica frecuencias similares. Idealmente, nos gustaría que tanto el ángulo como la magnitud fueran aproximadamente iguales. Esto garantizaría que los documentos que representan cada vector probablemente traten de los mismo.\n",
    "\n",
    "La similitud **coseno** es el coseno del ángulo ($\\Theta$) entre dos vectores. Este puede ser calculado como el producto euclideano.\n",
    "\n",
    "$$v_1 \\cdot v_2= |v_1||v_2| \\cos \\Theta$$\n",
    "\n",
    "$$\\cos \\Theta= \\frac{v_1 \\cdot v_2}{|v_1||v_2|}$$"
   ]
  },
  {
   "attachments": {
    "image.png": {
     "image/png": "[encoded data removed]"
    }
   },
   "cell_type": "markdown",
   "metadata": {},
   "source": [
    "La similitud de coseno toma valores entre 1 y -1, se calcula eficientemente utilizando el  producto escalar, y no requiere la evaluación de ninguna función trigonométrica.\n",
    "\n",
    "![image.png](attachment:image.png)"
   ]
  },
  {
   "cell_type": "code",
   "execution_count": 202,
   "metadata": {},
   "outputs": [],
   "source": [
    "#Podemos definir la siguiente función\n",
    "def coseno(x,y):\n",
    "    sim=np.dot(x, y.T) / (np.linalg.norm(x) * np.linalg.norm(y))\n",
    "    return sim"
   ]
  },
  {
   "cell_type": "code",
   "execution_count": 214,
   "metadata": {},
   "outputs": [
    {
     "data": {
      "text/plain": [
       "-0.001555776641453195"
      ]
     },
     "execution_count": 214,
     "metadata": {},
     "output_type": "execute_result"
    }
   ],
   "source": [
    "coseno(X[11,:],X[21,:])"
   ]
  },
  {
   "cell_type": "code",
   "execution_count": 215,
   "metadata": {},
   "outputs": [
    {
     "data": {
      "text/plain": [
       "0.9999999999999998"
      ]
     },
     "execution_count": 215,
     "metadata": {},
     "output_type": "execute_result"
    }
   ],
   "source": [
    "coseno(X[11,:],X[11,:])"
   ]
  },
  {
   "cell_type": "markdown",
   "metadata": {},
   "source": [
    "Una similitud de 1 representa vectores normalizados idénticos con el mismo ángulo en todas las direcciónes. Un valor de 0 representa dos vectores que no comparten componentes, es decir son ortogonales en todas las dimensiones. Una similitud de coseno de -1 representa dos vectores que apuntan en direcciones opuestas. Lo último no puede suceder para vectores simples de conteo de palabras (TF o TF-IDF)."
   ]
  },
  {
   "cell_type": "markdown",
   "metadata": {},
   "source": [
    "## La ley de Zipf\n",
    "\n",
    "Está basada en una regla que gobierna de forma más o menos general las estadisticas basadas en conteo. A principios del siglo XX, el taquígrafo francés Jean-Baptiste Estoup notó un patrón en la frecuencia de las palabras en muchos documentos. En la década de 1930, el lingüista estadounidense George Kingsley Zipf intentó formalizar la observación de Estoup, y esta  finalmente se constituyo como la ley de Zipf:\n",
    "\n",
    "`La ley de Zipf establece que, dado corpus de documentos en lenguaje natural, la frecuencia de cualquier palabra esinversamente proporcional a su rango en la tabla de frecuencias.`\n",
    "\n",
    "La situación de proporcionalidad inversa se refiere a que un elemento de una lista rankeada por frecuencia, cada palabra aparecerá con una frecuencia vinculada explícitamente a su rank en la lista. Es decir, el primer elemento de la lista aparecerá dos veces más que el segundo y tres veces más que el tercero, por ejemplo. \n",
    "\n",
    "¿Como podemos observar esa situación con el vocabulario?"
   ]
  },
  {
   "cell_type": "code",
   "execution_count": 251,
   "metadata": {},
   "outputs": [
    {
     "data": {
      "text/plain": [
       "[<matplotlib.lines.Line2D at 0x7fad26168190>]"
      ]
     },
     "execution_count": 251,
     "metadata": {},
     "output_type": "execute_result"
    },
    {
     "data": {
      "image/png": "[encoded data removed]",
      "text/plain": [
       "<Figure size 432x288 with 1 Axes>"
      ]
     },
     "metadata": {
      "needs_background": "light"
     },
     "output_type": "display_data"
    }
   ],
   "source": [
    "#Recordemos nuestro voc_sort\n",
    "plt.plot([x[1] for x in voc_sort], marker='.')"
   ]
  },
  {
   "cell_type": "markdown",
   "metadata": {},
   "source": [
    "Parece que nos ha engañado :(. Tracemos solo el top-100, top-20, top-10"
   ]
  },
  {
   "cell_type": "code",
   "execution_count": 272,
   "metadata": {},
   "outputs": [
    {
     "data": {
      "image/png": "[encoded data removed]",
      "text/plain": [
       "<Figure size 288x576 with 3 Axes>"
      ]
     },
     "metadata": {
      "needs_background": "light"
     },
     "output_type": "display_data"
    }
   ],
   "source": [
    "fig,axes=plt.subplots(3,1, figsize = (4,8))\n",
    "for i,t in enumerate([100,20,10]): \n",
    "    axes[i].plot([x[1] for x in voc_sort[:t]], marker='.')\n",
    "    axes[i].set_title(f\"Top-{t}\")\n",
    "plt.subplots_adjust(hspace=0.3)"
   ]
  },
  {
   "cell_type": "markdown",
   "metadata": {},
   "source": [
    "En resumen, si rankea las palabras de un corpus por el número de ocurrencias y las enumera en orden descendente, encontrará que, para una muestra lo suficientemente grande, la primera palabra en esa lista clasificada tiende tener el doble de probabilidades de aparecer que la del segundo lugar; es cuatro veces más probable que la cuarta palabra de la lista y así sucecivamente. Es posible concluir que dado un corpus grande, es posible inferir estadísticamente qué tan probable es que una palabra determinada aparezca en cualquier documento de ese corpus."
   ]
  },
  {
   "cell_type": "markdown",
   "metadata": {},
   "source": [
    "<div class=\"alert alert-success\">\n",
    "<b>Ejercicio</b>:<br />\n",
    "   Gráfique la curva de Zipf para el corpus de Bronw disponible en la bilbiotec nltk. Utilice Counter del modulo collection\n",
    "</div>"
   ]
  },
  {
   "cell_type": "code",
   "execution_count": 277,
   "metadata": {},
   "outputs": [
    {
     "name": "stderr",
     "output_type": "stream",
     "text": [
      "[nltk_data] Downloading package brown to /Users/job/nltk_data...\n",
      "[nltk_data]   Package brown is already up-to-date!\n"
     ]
    }
   ],
   "source": [
    "nltk.download('brown')\n",
    "from nltk.corpus import brown\n",
    "punctuation_table=ut.punctuation_table"
   ]
  },
  {
   "cell_type": "code",
   "execution_count": 289,
   "metadata": {},
   "outputs": [
    {
     "data": {
      "text/plain": [
       "1161192"
      ]
     },
     "execution_count": 289,
     "metadata": {},
     "output_type": "execute_result"
    }
   ],
   "source": [
    "len(brown.words()) # Total de palabras no está"
   ]
  },
  {
   "cell_type": "code",
   "execution_count": 291,
   "metadata": {},
   "outputs": [],
   "source": [
    "lista_de_palabras = (x.lower() for x in brown.words() if x not in punctuation_table)"
   ]
  },
  {
   "cell_type": "code",
   "execution_count": null,
   "metadata": {},
   "outputs": [],
   "source": []
  }
 ],
 "metadata": {
  "kernelspec": {
   "display_name": "Python 3",
   "language": "python",
   "name": "python3"
  },
  "language_info": {
   "codemirror_mode": {
    "name": "ipython",
    "version": 3
   },
   "file_extension": ".py",
   "mimetype": "text/x-python",
   "name": "python",
   "nbconvert_exporter": "python",
   "pygments_lexer": "ipython3",
   "version": "3.8.5"
  }
 },
 "nbformat": 4,
 "nbformat_minor": 4
}
