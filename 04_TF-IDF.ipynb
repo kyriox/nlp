{
 "cells": [
  {
   "cell_type": "code",
   "execution_count": 1,
   "metadata": {},
   "outputs": [],
   "source": [
    "import pandas as pd\n",
    "import numpy as np\n",
    "import re\n",
    "import nltk, spacy\n",
    "import scipy.sparse as sp\n",
    "from collections import Counter\n",
    "from SimpleNLP import Tokenizer\n",
    "from matplotlib import pyplot as plt\n",
    "%load_ext autoreload\n",
    "%autoreload 2"
   ]
  },
  {
   "cell_type": "markdown",
   "metadata": {},
   "source": [
    "# Estadistica con palabras  \n",
    "\n",
    "Al construir el vocabulario en una colección de documentos, se realizan  normalizaciones que nos permiten agrupar patrones comunes. aún cuando identificar y contabilizar los terminos en el vocabulario es útil para tareas simples, como computar estadisticas de uso o realizar búsquedas por palabras claves. Sin embargo, también se podría querer realizar tareas en la que la `importancia` dentro del documento o la colección de las palabras sea o no relevante. Por ejemplo no es deseado que un email  sea catalogado como spam solo una palabra común en ese tipo de mensajes.\n",
    "\n",
    "Si se puede medir la importacia de los términos, también seá posible tan positivo o negativo es un tweet con respecto de otro en la mis colección. Los ejemplos anteriores los podemos modelar mediente el uso de la frecuencia con que aparece un termino un documento con respecto al resto en la colección. \n",
    "\n",
    "En las siguientes secciones ampliaremos el espacio vectorial binario mediate el uso de frecuencias, paa convertir las palabras en VSM de números reales. El objetivo es proporcionar un representación que capture la importacia de cada término.  "
   ]
  },
  {
   "cell_type": "markdown",
   "metadata": {},
   "source": [
    "Las representaciones que revisaremos son:\n",
    "\n",
    "- **Bolsa de palabras**. Representación basada en la fecuencia de  las palabras\n",
    "- **Bolsa de $n$-gramas** Conteo de bigramas, trigramas, etc\n",
    "- **TF-IDF** Permiten medir la importancia de las palabras.\n",
    "\n",
    "**TF-IDF** es el acrónimo para `Term Frecuency Inverse Document Frecuency`. TF se refiere a la frecuencia de un  termino en un documento, mientras que IDF  implica que TF será pesado en base a la frecuencia de ese mismo termino en toda la colección (una división)."
   ]
  },
  {
   "cell_type": "markdown",
   "metadata": {},
   "source": [
    "### Bolsa de palabras\n",
    "\n",
    "En las sesiones previas ya hemos utilizado bolsas de palabras binarias, es decir solo decidimos si una palabra aparece o no en un documentos. A esta tipo en particular le denominamos **one-hot econding**. Con esa representación simple es posible crear un indice que permita hacer consultas simplmente utilizando operaciones `OR` y `AND`. Nuestro modulo `SimpleNLP` ya implementa ese tipo de datos.\n",
    "\n",
    "Ahora procederemos a hacer una representación donde se considere el número de veces que aprece cada término en el documento. Es decir una bolsa de palabras que consideré la frecuencia."
   ]
  },
  {
   "cell_type": "code",
   "execution_count": 2,
   "metadata": {},
   "outputs": [],
   "source": [
    "# Carguemos nuevamente nuestro conjunto de tweets de humor\n",
    "train_df=pd.read_csv('data/humor/train_english.tgz', compression='gzip',usecols=['is_humor','text'])\n",
    "test_df=pd.read_csv('data/humor/dev_english.csv',usecols=['is_humor','text']) \n",
    "train_df=train_df.dropna().astype({'is_humor': 'int32'})\n",
    "test_df=test_df.dropna().astype({'is_humor': 'int32'})"
   ]
  },
  {
   "cell_type": "code",
   "execution_count": 3,
   "metadata": {},
   "outputs": [],
   "source": [
    "# Generemos nuestro vocabulario\n",
    "from SimpleNLP import Tokenizer\n",
    "# Entrenamos el modelo\n",
    "tk=Tokenizer(derivador='stem')\n",
    "tk.fit(train_df.text)"
   ]
  },
  {
   "cell_type": "code",
   "execution_count": 4,
   "metadata": {},
   "outputs": [
    {
     "data": {
      "text/plain": [
       "array(['tennesse', 'were', 'the', ..., 'slot', 'pervas', 'aspirin'],\n",
       "      dtype='<U76')"
      ]
     },
     "execution_count": 4,
     "metadata": {},
     "output_type": "execute_result"
    }
   ],
   "source": [
    "tk.vocabulario_index"
   ]
  },
  {
   "cell_type": "code",
   "execution_count": 5,
   "metadata": {},
   "outputs": [],
   "source": [
    "# Revisemos el tweet 50\n",
    "tweet,label=train_df.iloc[100]\n",
    "tweet_vector=tk.transform([tweet])"
   ]
  },
  {
   "cell_type": "code",
   "execution_count": 6,
   "metadata": {},
   "outputs": [
    {
     "name": "stdout",
     "output_type": "stream",
     "text": [
      "Vector:[[0 0 1 ... 0 0 0]]\n",
      "Texto:Last night my wife and I watched 2 hours of cooking shows, before she hugged me and went to bed. I'm pretty sure I'm in the friend zone.\n",
      "Etiqueta:1\n",
      "Dimension(1, 10967)\n"
     ]
    }
   ],
   "source": [
    "# Podemos ver su forma vectorial, texto, etiqueta y dimension\n",
    "print(f\"Vector:{tweet_vector.toarray()}\\nTexto:{tweet}\\nEtiqueta:{label}\\nDimension{tweet_vector.shape}\")"
   ]
  },
  {
   "cell_type": "code",
   "execution_count": 7,
   "metadata": {},
   "outputs": [
    {
     "name": "stdout",
     "output_type": "stream",
     "text": [
      "  (0, 2)\t1\n",
      "  (0, 20)\t1\n",
      "  (0, 22)\t1\n",
      "  (0, 29)\t1\n",
      "  (0, 51)\t1\n",
      "  (0, 59)\t1\n",
      "  (0, 63)\t1\n",
      "  (0, 65)\t1\n",
      "  (0, 75)\t1\n",
      "  (0, 76)\t1\n",
      "  (0, 130)\t1\n",
      "  (0, 352)\t1\n",
      "  (0, 373)\t1\n",
      "  (0, 409)\t1\n",
      "  (0, 515)\t1\n",
      "  (0, 550)\t1\n",
      "  (0, 619)\t1\n",
      "  (0, 770)\t1\n",
      "  (0, 803)\t1\n",
      "  (0, 919)\t1\n",
      "  (0, 920)\t1\n",
      "  (0, 921)\t1\n",
      "  (0, 922)\t1\n",
      "  (0, 923)\t1\n",
      "  (0, 924)\t1\n",
      "  (0, 925)\t1\n"
     ]
    }
   ],
   "source": [
    "# Elementos diferentes de 0 (VSM binario)\n",
    "print(tweet_vector)"
   ]
  },
  {
   "cell_type": "code",
   "execution_count": 8,
   "metadata": {},
   "outputs": [
    {
     "data": {
      "text/plain": [
       "[('and', 2), ('im', 2), ('last', 1), ('night', 1), ('my', 1)]"
      ]
     },
     "execution_count": 8,
     "metadata": {},
     "output_type": "execute_result"
    }
   ],
   "source": [
    "Counter(tk.tokenize(tweet)).most_common(5)"
   ]
  },
  {
   "cell_type": "markdown",
   "metadata": {},
   "source": [
    "Uno de los clasificadores que mejor funciona con este tipo de representaciones dispersas es SVM con kernel lineal. A continuación lo usaremos para tenerlo como referencia para comparar ambas versiones (Binario/Frecuencia). "
   ]
  },
  {
   "cell_type": "code",
   "execution_count": 9,
   "metadata": {},
   "outputs": [],
   "source": [
    "from sklearn.metrics import f1_score as f1, accuracy_score as acc\n",
    "from sklearn.svm import LinearSVC\n",
    "clf = LinearSVC()"
   ]
  },
  {
   "cell_type": "code",
   "execution_count": 10,
   "metadata": {},
   "outputs": [],
   "source": [
    "# Transformamos los textos al VSM \n",
    "train=tk.transform(train_df.text)\n",
    "test=tk.transform(test_df.text)"
   ]
  },
  {
   "cell_type": "code",
   "execution_count": 11,
   "metadata": {},
   "outputs": [
    {
     "data": {
      "text/plain": [
       "LinearSVC()"
      ]
     },
     "execution_count": 11,
     "metadata": {},
     "output_type": "execute_result"
    }
   ],
   "source": [
    "# Entrenamos el clasificador\n",
    "clf.fit(train,train_df.is_humor)"
   ]
  },
  {
   "cell_type": "code",
   "execution_count": 12,
   "metadata": {},
   "outputs": [
    {
     "name": "stdout",
     "output_type": "stream",
     "text": [
      "F-Score: 0.8427575522850502 Accuracy: 0.797 \n"
     ]
    }
   ],
   "source": [
    "y=test_df.is_humor\n",
    "yp=clf.predict(test)\n",
    "print(\"F-Score: {} Accuracy: {} \".format(f1(y,yp),acc(y,yp)))"
   ]
  },
  {
   "cell_type": "code",
   "execution_count": 13,
   "metadata": {},
   "outputs": [
    {
     "data": {
      "text/plain": [
       "Counter({'last': 1,\n",
       "         'night': 1,\n",
       "         'my': 1,\n",
       "         'wife': 1,\n",
       "         'and': 2,\n",
       "         'i': 1,\n",
       "         'watch': 1,\n",
       "         '2': 1,\n",
       "         'hour': 1,\n",
       "         'of': 1,\n",
       "         'cook': 1,\n",
       "         'show': 1,\n",
       "         'befor': 1,\n",
       "         'she': 1,\n",
       "         'hug': 1,\n",
       "         'me': 1,\n",
       "         'went': 1,\n",
       "         'to': 1,\n",
       "         'bed': 1,\n",
       "         'im': 2,\n",
       "         'pretti': 1,\n",
       "         'sure': 1,\n",
       "         'in': 1,\n",
       "         'the': 1,\n",
       "         'friend': 1,\n",
       "         'zone': 1})"
      ]
     },
     "execution_count": 13,
     "metadata": {},
     "output_type": "execute_result"
    }
   ],
   "source": [
    "# Podemos generar un mapa {\"Palabra: count\"} primero tokenizando\n",
    "tweet_tokens=tk.tokenize(tweet)\n",
    "Counter(tweet_tokens)"
   ]
  },
  {
   "cell_type": "code",
   "execution_count": 14,
   "metadata": {},
   "outputs": [
    {
     "name": "stdout",
     "output_type": "stream",
     "text": [
      "  (0, 2)\t1\n",
      "  (0, 20)\t1\n",
      "  (0, 22)\t1\n",
      "  (0, 29)\t1\n",
      "  (0, 51)\t1\n",
      "  (0, 59)\t1\n",
      "  (0, 63)\t1\n",
      "  (0, 65)\t1\n",
      "  (0, 75)\t2\n",
      "  (0, 76)\t2\n",
      "  (0, 130)\t1\n",
      "  (0, 352)\t1\n",
      "  (0, 373)\t1\n",
      "  (0, 409)\t1\n",
      "  (0, 515)\t1\n",
      "  (0, 550)\t1\n",
      "  (0, 619)\t1\n",
      "  (0, 770)\t1\n",
      "  (0, 803)\t1\n",
      "  (0, 919)\t1\n",
      "  (0, 920)\t1\n",
      "  (0, 921)\t1\n",
      "  (0, 922)\t1\n",
      "  (0, 923)\t1\n",
      "  (0, 924)\t1\n",
      "  (0, 925)\t1\n"
     ]
    }
   ],
   "source": [
    "# Utilizando el vocabulario_index es posible hacer la representación basada en frecuencia\n",
    "N=len(tk.vocabulario_index)\n",
    "C=[np.argwhere(tk.vocabulario_index==token)[0][0] for token in tweet_tokens if len(np.argwhere(tk.vocabulario_index==token))]\n",
    "R=[0 for i in C]\n",
    "X=[1 for i in C]\n",
    "v=sp.csr_matrix((X,(R,C)), shape=(1,N))\n",
    "print(v)"
   ]
  },
  {
   "cell_type": "markdown",
   "metadata": {},
   "source": [
    "<div class=\"alert alert-success\">\n",
    "<b>Ejercicio</b>:<br />\n",
    "    Agregar un metodo _tf_transform(corpus) que genere la bolsa de palabras considerando el número de veces que aparece cada token en un documento.\n",
    "</div>"
   ]
  },
  {
   "cell_type": "code",
   "execution_count": 17,
   "metadata": {},
   "outputs": [],
   "source": [
    "# Transformamos los textos al VSM \n",
    "train_tf=tk.transform(train_df.text)\n",
    "test_tf=tk.transform(test_df.text)"
   ]
  },
  {
   "cell_type": "code",
   "execution_count": 18,
   "metadata": {},
   "outputs": [
    {
     "name": "stdout",
     "output_type": "stream",
     "text": [
      "F-Score: 0.8427575522850502 Accuracy: 0.797 \n"
     ]
    }
   ],
   "source": [
    "clf2 = LinearSVC()\n",
    "clf2.fit(train_tf,train_df.is_humor)\n",
    "yp=clf.predict(test_tf)\n",
    "print(\"F-Score: {} Accuracy: {} \".format(f1(y,yp),acc(y,yp)))"
   ]
  },
  {
   "cell_type": "markdown",
   "metadata": {},
   "source": [
    "Para documentos breves como el caso de los tweets, la bolsa de palabras contiene suficiente información sobre la intención de oración. Y esta información normalmente es suficiente para realizar tares como detectar spam, sentimiento (positividad, felicidad, humor, etc). Ahora clasifiquemos/ordenemos las palabras, esto nos ayudará a determinar cuales son más relevantes.\n",
    "\n",
    "¿Como podemos determinar cuales son las más importantes?"
   ]
  },
  {
   "cell_type": "code",
   "execution_count": 19,
   "metadata": {},
   "outputs": [],
   "source": [
    "# ¿Que obtnemos si ordemanos el vocabulario?\n",
    "voc=list(tk.vocabulario.items())\n",
    "voc.sort(reverse=True, key=lambda x: x[1])\n",
    "voc_sort=[(np.argwhere(tk.vocabulario_index==token)[0][0],count) for token,count in voc]"
   ]
  },
  {
   "cell_type": "code",
   "execution_count": 20,
   "metadata": {},
   "outputs": [
    {
     "data": {
      "text/plain": [
       "[(2, 6242),\n",
       " (15, 5364),\n",
       " (51, 4291),\n",
       " (65, 3538),\n",
       " (33, 3223),\n",
       " (75, 3056),\n",
       " (29, 2523),\n",
       " (49, 2336),\n",
       " (20, 2295),\n",
       " (85, 1929)]"
      ]
     },
     "execution_count": 20,
     "metadata": {},
     "output_type": "execute_result"
    }
   ],
   "source": [
    "voc_sort[:10]"
   ]
  },
  {
   "cell_type": "code",
   "execution_count": 21,
   "metadata": {},
   "outputs": [
    {
     "data": {
      "text/plain": [
       "[(2, 6242), (15, 5364), (51, 4291), (65, 3538), (33, 3223)]"
      ]
     },
     "execution_count": 21,
     "metadata": {},
     "output_type": "execute_result"
    }
   ],
   "source": [
    "voc_sort[:5] # las cinco palabras mas comunes"
   ]
  },
  {
   "cell_type": "code",
   "execution_count": 22,
   "metadata": {},
   "outputs": [
    {
     "data": {
      "text/plain": [
       "[(10962, 1), (10963, 1), (10964, 1), (10965, 1), (10966, 1)]"
      ]
     },
     "execution_count": 22,
     "metadata": {},
     "output_type": "execute_result"
    }
   ],
   "source": [
    "voc_sort[-5:] # las cinco palabras mas raras"
   ]
  },
  {
   "cell_type": "markdown",
   "metadata": {},
   "source": [
    "Como ya mencionamos, el número de veces que aparece una palabra en un documento determinado se denomina frecuencia (TF). Podríamos normalizar la frecuencia dividiendo cada palabra por el número de términos en ella."
   ]
  },
  {
   "cell_type": "code",
   "execution_count": 23,
   "metadata": {},
   "outputs": [
    {
     "name": "stdout",
     "output_type": "stream",
     "text": [
      "  (0, 0)\t1\n",
      "  (0, 1)\t1\n",
      "  (0, 2)\t1\n",
      "  (0, 3)\t1\n",
      "  (0, 4)\t1\n",
      "  (0, 5)\t1\n",
      "  (0, 6)\t1\n",
      "  (0, 7)\t1\n",
      "  (0, 8)\t1\n",
      "  (0, 9)\t1\n",
      "  (0, 10)\t1\n",
      "  (0, 11)\t1\n",
      "  (0, 12)\t1\n",
      "  (0, 13)\t1\n",
      "  (0, 14)\t1\n"
     ]
    }
   ],
   "source": [
    "#Número de terminos diferente de zero\n",
    "print(train_tf[0])"
   ]
  },
  {
   "cell_type": "code",
   "execution_count": null,
   "metadata": {},
   "outputs": [],
   "source": [
    "print(train_tf[0]/train_tf[0].sum())"
   ]
  },
  {
   "cell_type": "code",
   "execution_count": null,
   "metadata": {},
   "outputs": [],
   "source": [
    "# Suma\n",
    "np.sum(train_tf[0]/train_tf[0].sum())"
   ]
  },
  {
   "cell_type": "markdown",
   "metadata": {},
   "source": [
    "### Espacios Vectoriales\n",
    "\n",
    "La frecuencia de términos normalizados, es el recuento de palabras dividido por la longitud del documento. ¿Cuál es la razón para normalizar? Suponga que en un documento $A$ se encuentra la palabra \"perro\" 3 y 100 veces documento $B$. Con lo anterior se podria suponer que la palabra es más importante en B que en A. Pero espere que ocurre si el descubre A solo contiene 30 palabras  y el B 10000. Entoces tendríamos:"
   ]
  },
  {
   "cell_type": "code",
   "execution_count": 24,
   "metadata": {},
   "outputs": [],
   "source": [
    "importancia_perro_docA=3/100\n",
    "importancia_perro_docB=100/10000"
   ]
  },
  {
   "cell_type": "code",
   "execution_count": 25,
   "metadata": {},
   "outputs": [
    {
     "name": "stdout",
     "output_type": "stream",
     "text": [
      "0.03 0.01\n"
     ]
    }
   ],
   "source": [
    "print(importancia_perro_docA,importancia_perro_docB) # Entonces sería más relevante para A "
   ]
  },
  {
   "cell_type": "markdown",
   "metadata": {},
   "source": [
    "Dado que las palabras como \"the\", \"and\"  parecen no ser de utilidad removamolas. Agreguemos la lista de stop words a nuestro tokenizador."
   ]
  },
  {
   "cell_type": "code",
   "execution_count": 26,
   "metadata": {},
   "outputs": [],
   "source": [
    "#instanciamos un tokenizador con stop word removal\n",
    "tk1=Tokenizer(derivador='stem',remove_stop_words=True)\n",
    "tk1.fit(train_df.text)"
   ]
  },
  {
   "cell_type": "code",
   "execution_count": 27,
   "metadata": {},
   "outputs": [
    {
     "name": "stdout",
     "output_type": "stream",
     "text": [
      "10967 10864\n"
     ]
    }
   ],
   "source": [
    "print(len(tk.vocabulario_index),len(tk1.vocabulario_index))# un menor vocabulario"
   ]
  },
  {
   "cell_type": "code",
   "execution_count": 28,
   "metadata": {},
   "outputs": [],
   "source": [
    "voc1=list(tk1.vocabulario.items())\n",
    "voc1.sort(reverse=True, key=lambda x: x[1])\n",
    "voc1_sort=[(np.argwhere(tk1.vocabulario_index==token)[0][0],count) for token,count in voc1]"
   ]
  },
  {
   "cell_type": "code",
   "execution_count": 29,
   "metadata": {},
   "outputs": [
    {
     "data": {
      "text/plain": [
       "[(229, 727), (149, 658), (50, 615), (128, 599), (161, 575)]"
      ]
     },
     "execution_count": 29,
     "metadata": {},
     "output_type": "execute_result"
    }
   ],
   "source": [
    "voc1_sort[:5] #las frecuencias son mucho menores"
   ]
  },
  {
   "cell_type": "code",
   "execution_count": 31,
   "metadata": {},
   "outputs": [],
   "source": [
    "train_s=tk1.transform(train_df.text)\n",
    "test_s=tk1.transform(test_df.text)"
   ]
  },
  {
   "cell_type": "code",
   "execution_count": 32,
   "metadata": {},
   "outputs": [
    {
     "name": "stderr",
     "output_type": "stream",
     "text": [
      "/opt/anaconda3/lib/python3.8/site-packages/scipy/sparse/base.py:581: RuntimeWarning: divide by zero encountered in double_scalars\n",
      "  return self.astype(np.float_)._mul_scalar(1./other)\n"
     ]
    }
   ],
   "source": [
    "# Podemos normalizar toda matriz como sigue\n",
    "train_s_norm=sp.vstack([v/v.sum() for v in train_s])\n",
    "test_s_norm=sp.vstack([v/v.sum() for v in test_s])"
   ]
  },
  {
   "attachments": {
    "image.png": {
     "image/png": "[encoded data removed]"
    }
   },
   "cell_type": "markdown",
   "metadata": {},
   "source": [
    "Aún cuando *one-hot encoding* es un vector válido, este es disperso y no dice nada acerca de cómo se relacionan la palabras entre ellas. Desearíamos que el vector  pudiera expresar las similitudes y diferencias semánticas entre ellas, por ejemple si dos palabras significan lo mismo (son sinónimos), son términos opuestos (antónimos) o si en algún contexto podrían significar lo mismo. El ejemplo clásico utiliza las palabras **king**, **queen**, **woman**, **man** y asume que dado un embedding que capture las relaciones entre estas palabras debería cumplirse que:\n",
    "\n",
    "$ \\overrightarrow{king}-\\overrightarrow{man}+\\overrightarrow{woman}=\\overrightarrow{queen}$\n",
    "\n",
    "![image.png](attachment:image.png)\n",
    "\n",
    "*fuente: https://blogs.mathworks.com/loren/2017/09/21/math-with-words-word-embeddings-with-matlab-and-text-analytics-toolbox/*|\n",
    "\n",
    "Algunos ejemplos de relaciones que se podrían capturar serían por ejemplo que palabras como: *Paris, Teherán, Tokio, Canberra*  están relacionadas con la palabra capital, o *México, Estados Unidos, Canada* se relacionan con el término *Norte América*.  Por solo lo haremos mediante frecuencias, pero más adelante en el curso lo retomaremos mediane el uso de embeddings. "
   ]
  },
  {
   "cell_type": "markdown",
   "metadata": {},
   "source": [
    "Para un espacio vectorial de documentos, la dimensión de su espacio vectorial está dada por el tamaño del vocabulario $V$, es decir el número de palabras distintas en toda la colección de documentos. Por tanto la dimensión será $N=|V|$. Debido a la dificultad  de visualizar vectotres en de más de tres dimensiones, el hecho de que tanto TF como TF-IDF son vectores dispersos; se hace necesario proyectarlos mediante el uso de componenetes principales. Para nuestro caso usaremos la librería **TruncatedSVD**. \n"
   ]
  },
  {
   "cell_type": "code",
   "execution_count": 33,
   "metadata": {},
   "outputs": [
    {
     "data": {
      "text/plain": [
       "(8000, 10864)"
      ]
     },
     "execution_count": 33,
     "metadata": {},
     "output_type": "execute_result"
    }
   ],
   "source": [
    "train_s_norm.shape"
   ]
  },
  {
   "cell_type": "code",
   "execution_count": 34,
   "metadata": {},
   "outputs": [],
   "source": [
    "from sklearn.decomposition import TruncatedSVD\n",
    "tsvd=TruncatedSVD(10, random_state=100)\n",
    "tsvd.fit(train_s_norm)\n",
    "X=tsvd.transform(train_s_norm)"
   ]
  },
  {
   "cell_type": "code",
   "execution_count": 35,
   "metadata": {},
   "outputs": [
    {
     "data": {
      "text/plain": [
       "(8000, 10)"
      ]
     },
     "execution_count": 35,
     "metadata": {},
     "output_type": "execute_result"
    }
   ],
   "source": [
    "X.shape"
   ]
  },
  {
   "cell_type": "code",
   "execution_count": 36,
   "metadata": {},
   "outputs": [
    {
     "data": {
      "text/plain": [
       "<matplotlib.legend.Legend at 0x7f87684fd8b0>"
      ]
     },
     "execution_count": 36,
     "metadata": {},
     "output_type": "execute_result"
    },
    {
     "data": {
      "image/png": "[encoded data removed]",
      "text/plain": [
       "<Figure size 432x288 with 1 Axes>"
      ]
     },
     "metadata": {
      "needs_background": "light"
     },
     "output_type": "display_data"
    }
   ],
   "source": [
    "humor=np.where(train_df.is_humor==1)\n",
    "no_humor=np.where(train_df.is_humor==0)\n",
    "plt.scatter(X[:,0][humor],X[:,1][humor], label='Humor');\n",
    "plt.scatter(X[:,0][no_humor],X[:,1][no_humor], label='No humor');\n",
    "plt.legend()"
   ]
  },
  {
   "cell_type": "code",
   "execution_count": 37,
   "metadata": {},
   "outputs": [],
   "source": [
    "import utilidades as ut"
   ]
  },
  {
   "cell_type": "code",
   "execution_count": 38,
   "metadata": {},
   "outputs": [
    {
     "data": {
      "image/png": "[encoded data removed]",
      "text/plain": [
       "<Figure size 432x288 with 1 Axes>"
      ]
     },
     "metadata": {
      "needs_background": "light"
     },
     "output_type": "display_data"
    }
   ],
   "source": [
    "lista=[7,11,21]\n",
    "ut.plotPCA(train_s_norm[lista],[f'Tweet{i}' for i in lista])"
   ]
  },
  {
   "cell_type": "markdown",
   "metadata": {},
   "source": [
    "En un VMS, dod vectores son `similares` si tinen un ángulo similar. Opcionalmente, podría on no tener una magnitud similar. Una longitud similar implica frecuencias similares. Idealmente, nos gustaría que tanto el ángulo como la magnitud fueran aproximadamente iguales. Esto garantizaría que los documentos que representan cada vector probablemente traten de los mismo.\n",
    "\n",
    "La similitud **coseno** es el coseno del ángulo ($\\Theta$) entre dos vectores. Este puede ser calculado como el producto euclideano.\n",
    "\n",
    "$$v_1 \\cdot v_2= |v_1||v_2| \\cos \\Theta$$\n",
    "\n",
    "$$\\cos \\Theta= \\frac{v_1 \\cdot v_2}{|v_1||v_2|}$$"
   ]
  },
  {
   "attachments": {
    "image.png": {
     "image/png": "[encoded data removed]"
    }
   },
   "cell_type": "markdown",
   "metadata": {},
   "source": [
    "La similitud de coseno toma valores entre 1 y -1, se calcula eficientemente utilizando el  producto escalar, y no requiere la evaluación de ninguna función trigonométrica.\n",
    "\n",
    "![image.png](attachment:image.png)"
   ]
  },
  {
   "cell_type": "code",
   "execution_count": 39,
   "metadata": {},
   "outputs": [],
   "source": [
    "#Podemos definir la siguiente función\n",
    "def coseno(x,y):\n",
    "    if type(x)==sp.csr_matrix:\n",
    "        norm=sp.linalg.norm(x) * sp.linalg.norm(y)\n",
    "        sim=np.dot(x, y.T) / norm\n",
    "        sim=sim[0,0]\n",
    "    else:\n",
    "        norm=(np.linalg.norm(x) * np.linalg.norm(y))\n",
    "        sim=np.dot(x, y.T) / norm\n",
    "    \n",
    "    return sim"
   ]
  },
  {
   "cell_type": "code",
   "execution_count": 40,
   "metadata": {},
   "outputs": [
    {
     "data": {
      "text/plain": [
       "0.16318125447662868"
      ]
     },
     "execution_count": 40,
     "metadata": {},
     "output_type": "execute_result"
    }
   ],
   "source": [
    "coseno(X[11,:],X[21,:])"
   ]
  },
  {
   "cell_type": "code",
   "execution_count": 41,
   "metadata": {},
   "outputs": [
    {
     "data": {
      "text/plain": [
       "1.0000000000000002"
      ]
     },
     "execution_count": 41,
     "metadata": {},
     "output_type": "execute_result"
    }
   ],
   "source": [
    "coseno(X[11,:],X[11,:])"
   ]
  },
  {
   "cell_type": "code",
   "execution_count": 42,
   "metadata": {},
   "outputs": [
    {
     "data": {
      "text/plain": [
       "1.0"
      ]
     },
     "execution_count": 42,
     "metadata": {},
     "output_type": "execute_result"
    }
   ],
   "source": [
    "coseno(train_s_norm[11],train_s_norm[11])"
   ]
  },
  {
   "cell_type": "code",
   "execution_count": 43,
   "metadata": {},
   "outputs": [
    {
     "name": "stderr",
     "output_type": "stream",
     "text": [
      "/opt/anaconda3/lib/python3.8/site-packages/scipy/sparse/base.py:581: RuntimeWarning: divide by zero encountered in double_scalars\n",
      "  return self.astype(np.float_)._mul_scalar(1./other)\n"
     ]
    }
   ],
   "source": [
    "dist=[coseno(train_s_norm[11],x) for x in train_s_norm]"
   ]
  },
  {
   "cell_type": "code",
   "execution_count": 44,
   "metadata": {},
   "outputs": [
    {
     "data": {
      "text/plain": [
       "0.07647191129018724"
      ]
     },
     "execution_count": 44,
     "metadata": {},
     "output_type": "execute_result"
    }
   ],
   "source": [
    "coseno(train_s_norm[11],train_s_norm[1])"
   ]
  },
  {
   "cell_type": "code",
   "execution_count": 45,
   "metadata": {},
   "outputs": [
    {
     "data": {
      "text/plain": [
       "0.018449937678415764"
      ]
     },
     "execution_count": 45,
     "metadata": {},
     "output_type": "execute_result"
    }
   ],
   "source": [
    "np.mean(dist)"
   ]
  },
  {
   "cell_type": "markdown",
   "metadata": {},
   "source": [
    "Una similitud de 1 representa vectores normalizados idénticos con el mismo ángulo en todas las direcciónes. Un valor de 0 representa dos vectores que no comparten componentes, es decir son ortogonales en todas las dimensiones. Una similitud de coseno de -1 representa dos vectores que apuntan en direcciones opuestas. Lo último no puede suceder para vectores simples de conteo de palabras (TF o TF-IDF)."
   ]
  },
  {
   "cell_type": "markdown",
   "metadata": {},
   "source": [
    "## La ley de Zipf\n",
    "\n",
    "Está basada en una regla que gobierna de forma más o menos general las estadisticas basadas en conteo. A principios del siglo XX, el taquígrafo francés Jean-Baptiste Estoup notó un patrón en la frecuencia de las palabras en muchos documentos. En la década de 1930, el lingüista estadounidense George Kingsley Zipf intentó formalizar la observación de Estoup, y esta  finalmente se constituyo como la ley de Zipf:\n",
    "\n",
    "`La ley de Zipf establece que, dado corpus de documentos en lenguaje natural, la frecuencia de cualquier palabra es inversamente proporcional a su rank en la tabla de frecuencias.`\n",
    "\n",
    "La situación de proporcionalidad inversa se refiere a que un elemento de una lista rankeada por frecuencia, cada palabra aparecerá con una frecuencia vinculada explícitamente a su rank en la lista. Es decir, el primer elemento de la lista aparecerá dos veces más que el segundo y tres veces más que el tercero, por ejemplo. \n",
    "\n",
    "¿Como podemos observar esa situación con el vocabulario?"
   ]
  },
  {
   "cell_type": "code",
   "execution_count": 46,
   "metadata": {},
   "outputs": [
    {
     "data": {
      "text/plain": [
       "[(229, 727), (149, 658), (50, 615), (128, 599), (161, 575)]"
      ]
     },
     "execution_count": 46,
     "metadata": {},
     "output_type": "execute_result"
    }
   ],
   "source": [
    "voc1_sort[:5]"
   ]
  },
  {
   "cell_type": "code",
   "execution_count": 47,
   "metadata": {},
   "outputs": [
    {
     "data": {
      "text/plain": [
       "[<matplotlib.lines.Line2D at 0x7f8771826c10>]"
      ]
     },
     "execution_count": 47,
     "metadata": {},
     "output_type": "execute_result"
    },
    {
     "data": {
      "image/png": "[encoded data removed]",
      "text/plain": [
       "<Figure size 432x288 with 1 Axes>"
      ]
     },
     "metadata": {
      "needs_background": "light"
     },
     "output_type": "display_data"
    }
   ],
   "source": [
    "#Recordemos nuestro voc_sort\n",
    "plt.plot([x[1] for x in voc_sort], marker='.')"
   ]
  },
  {
   "cell_type": "markdown",
   "metadata": {},
   "source": [
    "Tracemos solo el top-100, top-20, top-10"
   ]
  },
  {
   "cell_type": "code",
   "execution_count": 48,
   "metadata": {},
   "outputs": [
    {
     "data": {
      "image/png": "[encoded data removed]",
      "text/plain": [
       "<Figure size 288x576 with 3 Axes>"
      ]
     },
     "metadata": {
      "needs_background": "light"
     },
     "output_type": "display_data"
    }
   ],
   "source": [
    "fig,axes=plt.subplots(3,1, figsize = (4,8))\n",
    "for i,t in enumerate([100,20,10]): \n",
    "    axes[i].plot([x[1] for x in voc_sort[:t]], marker='.')\n",
    "    axes[i].set_title(f\"Top-{t}\")\n",
    "plt.subplots_adjust(hspace=0.3)"
   ]
  },
  {
   "cell_type": "code",
   "execution_count": 49,
   "metadata": {},
   "outputs": [
    {
     "data": {
      "image/png": "[encoded data removed]",
      "text/plain": [
       "<Figure size 288x576 with 3 Axes>"
      ]
     },
     "metadata": {
      "needs_background": "light"
     },
     "output_type": "display_data"
    }
   ],
   "source": [
    "fig,axes=plt.subplots(3,1, figsize = (4,8))\n",
    "for i,t in enumerate([100,20,10]): \n",
    "    axes[i].plot([x[1] for x in voc1_sort[:t]], marker='.')\n",
    "    axes[i].set_title(f\"Top-{t}\")\n",
    "plt.subplots_adjust(hspace=0.3)"
   ]
  },
  {
   "cell_type": "markdown",
   "metadata": {},
   "source": [
    "En resumen, si rankea las palabras de un corpus por el número de ocurrencias y las enumera en orden descendente, encontrará que, para una muestra lo suficientemente grande, la primera palabra en esa lista clasificada tiende tener el doble de probabilidades de aparecer que la del segundo lugar; es cuatro veces más probable que la cuarta palabra de la lista y así sucecivamente. Es posible concluir que dado un corpus grande, es posible inferir estadísticamente qué tan probable es que una palabra determinada aparezca en cualquier documento de ese corpus."
   ]
  },
  {
   "cell_type": "markdown",
   "metadata": {},
   "source": [
    "<div class=\"alert alert-success\">\n",
    "<b>Ejercicio</b>:<br />\n",
    "   Gráfique la curva de Zipf para el corpus de Bronw disponible en la bilbioteca nltk. Utilice Counter del modulo collection\n",
    "</div>"
   ]
  },
  {
   "cell_type": "code",
   "execution_count": 50,
   "metadata": {},
   "outputs": [],
   "source": [
    "#nltk.download('brown')\n",
    "from nltk.corpus import brown\n",
    "import string"
   ]
  },
  {
   "cell_type": "code",
   "execution_count": 51,
   "metadata": {},
   "outputs": [
    {
     "data": {
      "text/plain": [
       "1161192"
      ]
     },
     "execution_count": 51,
     "metadata": {},
     "output_type": "execute_result"
    }
   ],
   "source": [
    "len(brown.words()) # Total de palabras no está"
   ]
  },
  {
   "cell_type": "code",
   "execution_count": 52,
   "metadata": {},
   "outputs": [],
   "source": [
    "lista_de_palabras = (x.lower() for x in brown.words() if x not in string.punctuation)"
   ]
  },
  {
   "cell_type": "code",
   "execution_count": 53,
   "metadata": {},
   "outputs": [],
   "source": [
    "word_count=Counter(lista_de_palabras)"
   ]
  },
  {
   "cell_type": "code",
   "execution_count": 54,
   "metadata": {},
   "outputs": [
    {
     "data": {
      "image/png": "[encoded data removed]",
      "text/plain": [
       "<Figure size 432x288 with 1 Axes>"
      ]
     },
     "metadata": {
      "needs_background": "light"
     },
     "output_type": "display_data"
    }
   ],
   "source": [
    "top=30\n",
    "top_words=[x[0] for x in word_count.most_common(top)]\n",
    "plt.bar(range(top),[x[1] for x in word_count.most_common(top)])\n",
    "# Las palabras mas fecuentes en el corpus brown\n",
    "plt.xticks(ticks=range(len(top_words)),labels=top_words,rotation='vertical'); "
   ]
  },
  {
   "cell_type": "markdown",
   "metadata": {},
   "source": [
    "### TF-IDF\n",
    "\n",
    "Aun cuando el conteo de palabras es útil, por si solo no dice mucho sobre la importancia de cada palabra en el documento en relación con el resto de los documentos del corpus. Si pudiera descubrir esa información, podría comenzar a describir documentos de forma `global`  dentro del corpus. Suponga que tiene una colección de libros de historia. Es muy probable que la palabra `historia` ocurrirá muchas veces en cada libro (documento), dado que ya sabemos que son libros de historia, ese término no aporta información. Por otro lado términos como `lenguaje` o `electrónica` podrían no ser frecuentes  dentro del corpus, debido a lo anterior serían importantes para caracterizar esos documentos.\n",
    "\n",
    "Para poder considerar la situción anterior, introduciremos el conceptos de frecuencia inversa de documentos (IDF), este concepto nos ayudará a aplicar Zipf para el análisis de los tópicos contenidos en un corpus. Note que tenemos dos tipos de frecuencia, está puede determinarse por documento o bien en todo el corpus."
   ]
  },
  {
   "cell_type": "markdown",
   "metadata": {},
   "source": [
    "Para ilustrar el uso de **TF-IDF** utilizaremos el corpus del contest *Spooky Author Identification*. Este corpus contiene fragamentos de los escritores de novelas de terror: `Edgar Allan Poe` (EAP), `Mary Shelley` (MWS) y `HP Lovecraft` (HPL), la tarea consiste en predecir el autor de cada uno de los fragmentos. "
   ]
  },
  {
   "cell_type": "code",
   "execution_count": 55,
   "metadata": {},
   "outputs": [],
   "source": [
    "# Obtenemos el conjunto de datos:\n",
    "train_horror_df=pd.read_csv('data/horror/train.csv')\n",
    "test_horror_df=pd.read_csv('data/horror/test.csv') "
   ]
  },
  {
   "cell_type": "code",
   "execution_count": 56,
   "metadata": {},
   "outputs": [
    {
     "data": {
      "text/html": [
       "<div>\n",
       "<style scoped>\n",
       "    .dataframe tbody tr th:only-of-type {\n",
       "        vertical-align: middle;\n",
       "    }\n",
       "\n",
       "    .dataframe tbody tr th {\n",
       "        vertical-align: top;\n",
       "    }\n",
       "\n",
       "    .dataframe thead th {\n",
       "        text-align: right;\n",
       "    }\n",
       "</style>\n",
       "<table border=\"1\" class=\"dataframe\">\n",
       "  <thead>\n",
       "    <tr style=\"text-align: right;\">\n",
       "      <th></th>\n",
       "      <th>id</th>\n",
       "      <th>text</th>\n",
       "      <th>author</th>\n",
       "    </tr>\n",
       "  </thead>\n",
       "  <tbody>\n",
       "    <tr>\n",
       "      <th>0</th>\n",
       "      <td>id26305</td>\n",
       "      <td>This process, however, afforded me no means of...</td>\n",
       "      <td>EAP</td>\n",
       "    </tr>\n",
       "    <tr>\n",
       "      <th>1</th>\n",
       "      <td>id17569</td>\n",
       "      <td>It never once occurred to me that the fumbling...</td>\n",
       "      <td>HPL</td>\n",
       "    </tr>\n",
       "    <tr>\n",
       "      <th>2</th>\n",
       "      <td>id11008</td>\n",
       "      <td>In his left hand was a gold snuff box, from wh...</td>\n",
       "      <td>EAP</td>\n",
       "    </tr>\n",
       "    <tr>\n",
       "      <th>3</th>\n",
       "      <td>id27763</td>\n",
       "      <td>How lovely is spring As we looked from Windsor...</td>\n",
       "      <td>MWS</td>\n",
       "    </tr>\n",
       "    <tr>\n",
       "      <th>4</th>\n",
       "      <td>id12958</td>\n",
       "      <td>Finding nothing else, not even gold, the Super...</td>\n",
       "      <td>HPL</td>\n",
       "    </tr>\n",
       "  </tbody>\n",
       "</table>\n",
       "</div>"
      ],
      "text/plain": [
       "        id                                               text author\n",
       "0  id26305  This process, however, afforded me no means of...    EAP\n",
       "1  id17569  It never once occurred to me that the fumbling...    HPL\n",
       "2  id11008  In his left hand was a gold snuff box, from wh...    EAP\n",
       "3  id27763  How lovely is spring As we looked from Windsor...    MWS\n",
       "4  id12958  Finding nothing else, not even gold, the Super...    HPL"
      ]
     },
     "execution_count": 56,
     "metadata": {},
     "output_type": "execute_result"
    }
   ],
   "source": [
    "train_horror_df.head() #la clase está dada por el autor"
   ]
  },
  {
   "cell_type": "code",
   "execution_count": 57,
   "metadata": {},
   "outputs": [
    {
     "data": {
      "text/html": [
       "<div>\n",
       "<style scoped>\n",
       "    .dataframe tbody tr th:only-of-type {\n",
       "        vertical-align: middle;\n",
       "    }\n",
       "\n",
       "    .dataframe tbody tr th {\n",
       "        vertical-align: top;\n",
       "    }\n",
       "\n",
       "    .dataframe thead th {\n",
       "        text-align: right;\n",
       "    }\n",
       "</style>\n",
       "<table border=\"1\" class=\"dataframe\">\n",
       "  <thead>\n",
       "    <tr style=\"text-align: right;\">\n",
       "      <th></th>\n",
       "      <th>id</th>\n",
       "      <th>text</th>\n",
       "    </tr>\n",
       "  </thead>\n",
       "  <tbody>\n",
       "    <tr>\n",
       "      <th>0</th>\n",
       "      <td>id02310</td>\n",
       "      <td>Still, as I urged our leaving Ireland with suc...</td>\n",
       "    </tr>\n",
       "    <tr>\n",
       "      <th>1</th>\n",
       "      <td>id24541</td>\n",
       "      <td>If a fire wanted fanning, it could readily be ...</td>\n",
       "    </tr>\n",
       "    <tr>\n",
       "      <th>2</th>\n",
       "      <td>id00134</td>\n",
       "      <td>And when they had broken down the frail door t...</td>\n",
       "    </tr>\n",
       "    <tr>\n",
       "      <th>3</th>\n",
       "      <td>id27757</td>\n",
       "      <td>While I was thinking how I should possibly man...</td>\n",
       "    </tr>\n",
       "    <tr>\n",
       "      <th>4</th>\n",
       "      <td>id04081</td>\n",
       "      <td>I am not sure to what limit his knowledge may ...</td>\n",
       "    </tr>\n",
       "  </tbody>\n",
       "</table>\n",
       "</div>"
      ],
      "text/plain": [
       "        id                                               text\n",
       "0  id02310  Still, as I urged our leaving Ireland with suc...\n",
       "1  id24541  If a fire wanted fanning, it could readily be ...\n",
       "2  id00134  And when they had broken down the frail door t...\n",
       "3  id27757  While I was thinking how I should possibly man...\n",
       "4  id04081  I am not sure to what limit his knowledge may ..."
      ]
     },
     "execution_count": 57,
     "metadata": {},
     "output_type": "execute_result"
    }
   ],
   "source": [
    "test_horror_df.head() # No conocemos las etiquetas"
   ]
  },
  {
   "cell_type": "code",
   "execution_count": 59,
   "metadata": {},
   "outputs": [],
   "source": [
    "#Parametricemos un tokenizador \n",
    "tkh=Tokenizer()\n",
    "tkh.fit(train_horror_df.text)"
   ]
  },
  {
   "cell_type": "code",
   "execution_count": 60,
   "metadata": {},
   "outputs": [],
   "source": [
    "# Utilizaremos los siguientes dos textos:\n",
    "doc_h1=train_horror_df.iloc[12952].text\n",
    "doc_h2=train_horror_df.iloc[80].text"
   ]
  },
  {
   "cell_type": "code",
   "execution_count": 61,
   "metadata": {},
   "outputs": [
    {
     "name": "stdout",
     "output_type": "stream",
     "text": [
      "Ye who are linked by the affectionate ties of nature, companions, friends, lovers fathers, who toil with joy for their offspring; women, who while gazing on the living forms of their children, forget the pains of maternity; children, who neither toil nor spin, but love and are loved \"Oh, that death and sickness were banished from our earthly home that hatred, tyranny, and fear could no longer make their lair in the human heart that each man might find a brother in his fellow, and a nest of repose amid the wide plains of his inheritance that the source of tears were dry, and that lips might no longer form expressions of sorrow.\n"
     ]
    }
   ],
   "source": [
    "print(doc_h1)"
   ]
  },
  {
   "cell_type": "code",
   "execution_count": 62,
   "metadata": {},
   "outputs": [
    {
     "name": "stdout",
     "output_type": "stream",
     "text": [
      "My lieutenant, for instance, is a man of wonderful courage and enterprise; he is madly desirous of glory, or rather, to word my phrase more characteristically, of advancement in his profession.\n"
     ]
    }
   ],
   "source": [
    "print(doc_h2)"
   ]
  },
  {
   "cell_type": "code",
   "execution_count": 63,
   "metadata": {},
   "outputs": [],
   "source": [
    "#contamos el número de tokens en cada documento\n",
    "doc_h1_tokens=tkh.tokenize(doc_h1)\n",
    "doc_h2_tokens=tkh.tokenize(doc_h2)\n",
    "doc_h1_total=len(doc_h1_tokens)\n",
    "doc_h2_total=len(doc_h2_tokens)"
   ]
  },
  {
   "cell_type": "code",
   "execution_count": 64,
   "metadata": {},
   "outputs": [
    {
     "data": {
      "text/plain": [
       "['ye',\n",
       " 'who',\n",
       " 'are',\n",
       " 'linked',\n",
       " 'by',\n",
       " 'the',\n",
       " 'affectionate',\n",
       " 'ties',\n",
       " 'of',\n",
       " 'nature']"
      ]
     },
     "execution_count": 64,
     "metadata": {},
     "output_type": "execute_result"
    }
   ],
   "source": [
    "doc_h1_tokens[:10]"
   ]
  },
  {
   "cell_type": "markdown",
   "metadata": {},
   "source": [
    "A partir de los documentos tokenizados, computemos la frecuencia de normalizada de `man` y guardemosla en diccionario para cada documento:"
   ]
  },
  {
   "cell_type": "code",
   "execution_count": 65,
   "metadata": {},
   "outputs": [],
   "source": [
    "doc1_tf,doc2_tf={},{}\n",
    "doc1_frec, doc2_frec=Counter(doc_h1_tokens),Counter(doc_h2_tokens)"
   ]
  },
  {
   "cell_type": "code",
   "execution_count": 66,
   "metadata": {},
   "outputs": [
    {
     "data": {
      "text/plain": [
       "1"
      ]
     },
     "execution_count": 66,
     "metadata": {},
     "output_type": "execute_result"
    }
   ],
   "source": [
    "doc2_frec['man']"
   ]
  },
  {
   "cell_type": "code",
   "execution_count": 67,
   "metadata": {},
   "outputs": [],
   "source": [
    "doc1_tf['man']=doc1_frec['man']/doc_h1_total\n",
    "doc2_tf['man']=doc2_frec['man']/doc_h2_total"
   ]
  },
  {
   "cell_type": "code",
   "execution_count": 68,
   "metadata": {},
   "outputs": [
    {
     "name": "stdout",
     "output_type": "stream",
     "text": [
      "Fecuencia de la palabra man en doc1: 0.008849557522123894\n",
      "Fecuencia de la palabra man en doc2: 0.03225806451612903\n"
     ]
    }
   ],
   "source": [
    "print(f\"Fecuencia de la palabra man en doc1: {doc1_tf['man']}\")\n",
    "print(f\"Fecuencia de la palabra man en doc2: {doc2_tf['man']}\")"
   ]
  },
  {
   "cell_type": "markdown",
   "metadata": {},
   "source": [
    "De acuerdo al frecuencia el termino `man` es casi 4 veces más importante en *doc_h2* que el en *doc_h1*. Pero la frecuencia no estaría capturando la correctamente la relevacia de las palabras. Considere ahora que la palabra `and`."
   ]
  },
  {
   "cell_type": "code",
   "execution_count": 69,
   "metadata": {},
   "outputs": [
    {
     "name": "stdout",
     "output_type": "stream",
     "text": [
      "Fecuencia de la palabra and en doc1: 0.04424778761061947\n",
      "Fecuencia de la palabra and en doc2: 0.03225806451612903\n"
     ]
    }
   ],
   "source": [
    "doc1_tf['and']=doc1_frec['and']/doc_h1_total\n",
    "doc2_tf['and']=doc2_frec['and']/doc_h2_total\n",
    "print(f\"Fecuencia de la palabra and en doc1: {doc1_tf['and']}\")\n",
    "print(f\"Fecuencia de la palabra and en doc2: {doc2_tf['and']}\")"
   ]
  },
  {
   "cell_type": "markdown",
   "metadata": {},
   "source": [
    "Con los valores obtenidos tendríamos que `and` es tan importante en el *doc2* como lo es la palabra `man`, y en el caso de *doc1* `and` es 5 veces más descriptiva!. Sin embargo, es evidente que la palabra `and` no aporta información del contenido del texto. \n",
    "\n",
    "Con la frecuencia inversas (IDF) estaríamos identificando que tan extraño es que un termino determinado aparezca en un documento. Si un token se repite muchas veces en un documento, pero es poco frecuente en el restodel corpus, se podría asumir que es importante específicamente para ese documento.\n",
    "\n",
    "La frecuencia inversa de un término es la relación entre el número total de documentos y el número de documentos que contienen ese token. En el caso de `and` y `man` el valor sería el mismo para ambos:\n",
    "\n",
    "- 2 documentos / 2 documentos que contiene `and` = 1\n",
    "- 2 documentos / 2 documentos que contiene `man` = 1"
   ]
  },
  {
   "cell_type": "markdown",
   "metadata": {},
   "source": [
    "Si consideramos el token `children`"
   ]
  },
  {
   "cell_type": "code",
   "execution_count": 70,
   "metadata": {},
   "outputs": [
    {
     "name": "stdout",
     "output_type": "stream",
     "text": [
      "Fecuencia de la palabra children en doc1: 0.017699115044247787\n",
      "Fecuencia de la palabra children en doc2: 0.0\n"
     ]
    }
   ],
   "source": [
    "doc1_tf['children']=doc1_frec['children']/doc_h1_total\n",
    "doc2_tf['children']=doc2_frec['children']/doc_h2_total\n",
    "print(f\"Fecuencia de la palabra children en doc1: {doc1_tf['children']}\")\n",
    "print(f\"Fecuencia de la palabra children en doc2: {doc2_tf['children']}\")"
   ]
  },
  {
   "cell_type": "markdown",
   "metadata": {},
   "source": [
    "Ahora calculemos idf para todos los tres terminos. Primero calculemos el número de documentos donde aparece cada término"
   ]
  },
  {
   "cell_type": "code",
   "execution_count": 71,
   "metadata": {},
   "outputs": [],
   "source": [
    "doc_term_count={}\n",
    "for token in set(doc_h1_tokens+doc_h2_tokens): # Vocabulario\n",
    "    for doc in [doc_h1_tokens, doc_h2_tokens]: # todos los documentos\n",
    "         if token in doc: # Aparece en el documento? \n",
    "            doc_term_count[token]=doc_term_count.get(token,0)+1"
   ]
  },
  {
   "cell_type": "code",
   "execution_count": null,
   "metadata": {},
   "outputs": [],
   "source": [
    "doc_term_count['the'] #en cuantos documentos aparece and"
   ]
  },
  {
   "cell_type": "code",
   "execution_count": 72,
   "metadata": {},
   "outputs": [],
   "source": [
    "# Calculemos IDF\n",
    "doc1_idf={}\n",
    "doc2_idf={}\n",
    "for token in ['and','man','children']:\n",
    "    doc1_idf[token]=2/doc_term_count[token]\n",
    "    doc2_idf[token]=2/doc_term_count[token]"
   ]
  },
  {
   "cell_type": "code",
   "execution_count": 73,
   "metadata": {},
   "outputs": [
    {
     "data": {
      "text/plain": [
       "dict_keys(['and', 'man', 'children'])"
      ]
     },
     "execution_count": 73,
     "metadata": {},
     "output_type": "execute_result"
    }
   ],
   "source": [
    "doc2_idf.keys()"
   ]
  },
  {
   "cell_type": "markdown",
   "metadata": {},
   "source": [
    "Ahora podemos calcular TF-IDF como $\\mathit{tf}*\\mathit{idf}$."
   ]
  },
  {
   "cell_type": "code",
   "execution_count": 74,
   "metadata": {},
   "outputs": [],
   "source": [
    "doc1_tfidf={}\n",
    "doc2_tfidf={}\n",
    "for token in ['and','man','children']:\n",
    "        doc1_tfidf[token]=doc1_tf[token]*doc1_idf[token]\n",
    "        doc2_tfidf[token]=doc2_tf[token]*doc2_idf[token]"
   ]
  },
  {
   "cell_type": "code",
   "execution_count": 75,
   "metadata": {},
   "outputs": [
    {
     "data": {
      "text/plain": [
       "{'and': 0.04424778761061947,\n",
       " 'man': 0.008849557522123894,\n",
       " 'children': 0.035398230088495575}"
      ]
     },
     "execution_count": 75,
     "metadata": {},
     "output_type": "execute_result"
    }
   ],
   "source": [
    "doc1_tfidf"
   ]
  },
  {
   "cell_type": "code",
   "execution_count": 76,
   "metadata": {},
   "outputs": [
    {
     "data": {
      "text/plain": [
       "{'and': 0.03225806451612903, 'man': 0.03225806451612903, 'children': 0.0}"
      ]
     },
     "execution_count": 76,
     "metadata": {},
     "output_type": "execute_result"
    }
   ],
   "source": [
    "doc2_tfidf"
   ]
  },
  {
   "cell_type": "markdown",
   "metadata": {},
   "source": [
    "### TF-IDF y Zipf\n",
    "\n",
    "Supongamos que se tiene un corpus de 1 millón de documentos, y que la palabra `gato` aparece en un solo. Entonces:\n",
    "\n",
    "$\\mathit{idf}_{\\mathit{gato}}=\\frac{1000000}{1}=1000000$\n",
    "\n",
    "Ahora, si tenemos la palabra `vaca` que aparece en 10 documentos por ejemplo:\n",
    "\n",
    "$\\mathit{idf}_{\\mathit{vaca}}=\\frac{1000000}{10}=100000$\n",
    "\n",
    "\n",
    "Si utilizamos Zipf sobre IDF nos diría que existe una diferencia muy grande, cuando en realidad son relativamente igual de probables grande. La ley de Zipf nos dice que cuando se comparan las frecuencias de dos palabras, como `gato` y `vaca`, incluso un número similar de veces, la palabra más frecuente tendrá una frecuencia exponencialmente más alta que la menos frecuente. \n",
    "\n",
    "Es posible remediar esto escalando todas las frecuencias de palabras (y frecuencias de documentos) con la función $\\log()$ (i.e. la función inversa de un exponencial). Esto asegura que palabras que tienen frecuencias similares no difieran exponencialmente en frecuencia. Esto abona que la distribución de frecuencias de palabras usando TF-IDF sea más uniforme. Por lo tanto, IDF debe definidad el logaritmo de la probabilidad original de que aparezca en uno de los documentos (lo mismo para la frecuencia). "
   ]
  },
  {
   "cell_type": "markdown",
   "metadata": {},
   "source": [
    "La base del logaritmo no es importante, ya que solo quiere que la distribución de frecuencia sea uniforme, no escalarla dentro de un rango particular. Por ejemplo si utilizamos logaritmo base 10 tendremos:\n",
    "\n",
    "\n",
    "$\\mathit{idf}_{\\mathit{gato}}=\\log(\\frac{1000000}{1})=6$\n",
    "\n",
    "\n",
    "$\\mathit{idf}_{\\mathit{vaca}}=\\log(\\frac{1000000}{10})=5$\n",
    "\n",
    "lo anterior resulta en un pesado más apropiado.\n"
   ]
  },
  {
   "cell_type": "markdown",
   "metadata": {},
   "source": [
    "Sumarizando tenemos:\n",
    "\n",
    "$$\\mathit{tf}(t,d)=\\frac{\\mathit{count}(t)}{\\mathit{count}(t)}$$ \n",
    "\n",
    "$$\\mathit{idf}(t,D)=\\log\\frac{\\mathit{numero\\_de\\_documentos}}{\\mathit{numero\\_de\\_documentos\\_que\\_contienen\\_}t}$$ \n",
    "\n",
    "$$\\mathit{tfidf}(t,d,D)=\\mathit{tf}(t,d)*\\mathit{idf}(t,D)$$\n",
    "\n",
    "donde $t$ representa un token, $d$ un documento y $D$ un corpus de documentos."
   ]
  },
  {
   "cell_type": "markdown",
   "metadata": {},
   "source": [
    "Así, cuantas más veces aparezca una palabra en un documento, TF aumentará TF-IDF aumentan. Al mismo tiempo, a medida que aumenta el número de documentos que contienen esa palabra, el IDF  disminuirá y TF-IDF también lo hará. Lo que hace TF-IDF es dar un pesado que ayuda a relacionar un término con un documento específico en un corpus, asignando un valor numérico a la importancia de esa palabra en el documento dado, dado su uso dentro de todo el corpus."
   ]
  },
  {
   "cell_type": "code",
   "execution_count": 77,
   "metadata": {},
   "outputs": [],
   "source": [
    "tkh=Tokenizer(remove_stop_words=True)\n",
    "tkh.fit(train_horror_df.text)"
   ]
  },
  {
   "cell_type": "code",
   "execution_count": 78,
   "metadata": {},
   "outputs": [],
   "source": [
    "train= tkh.tf_idf(train_horror_df.text)"
   ]
  },
  {
   "cell_type": "code",
   "execution_count": 79,
   "metadata": {},
   "outputs": [],
   "source": [
    "test = tkh.tf_idf(test_horror_df.text)"
   ]
  },
  {
   "cell_type": "code",
   "execution_count": 80,
   "metadata": {},
   "outputs": [
    {
     "data": {
      "text/plain": [
       "LabelEncoder()"
      ]
     },
     "execution_count": 80,
     "metadata": {},
     "output_type": "execute_result"
    }
   ],
   "source": [
    "from sklearn.preprocessing import LabelEncoder\n",
    "l=train_horror_df.author\n",
    "le=LabelEncoder()\n",
    "le.fit(l)"
   ]
  },
  {
   "cell_type": "code",
   "execution_count": 81,
   "metadata": {},
   "outputs": [],
   "source": [
    "y=le.transform(l)"
   ]
  },
  {
   "cell_type": "code",
   "execution_count": 82,
   "metadata": {},
   "outputs": [],
   "source": [
    "from sklearn.svm import SVC, LinearSVC"
   ]
  },
  {
   "cell_type": "code",
   "execution_count": 83,
   "metadata": {},
   "outputs": [
    {
     "data": {
      "text/plain": [
       "SVC(kernel='linear')"
      ]
     },
     "execution_count": 83,
     "metadata": {},
     "output_type": "execute_result"
    }
   ],
   "source": [
    "clf=SVC(kernel='linear')\n",
    "clf.fit(train,y)"
   ]
  },
  {
   "cell_type": "code",
   "execution_count": 90,
   "metadata": {},
   "outputs": [
    {
     "data": {
      "text/plain": [
       "LinearSVC()"
      ]
     },
     "execution_count": 90,
     "metadata": {},
     "output_type": "execute_result"
    }
   ],
   "source": [
    "clf1=LinearSVC()\n",
    "clf1.fit(train,y)"
   ]
  },
  {
   "cell_type": "code",
   "execution_count": 85,
   "metadata": {},
   "outputs": [],
   "source": [
    "from sklearn.model_selection import cross_val_score\n",
    "from sklearn.metrics import log_loss"
   ]
  },
  {
   "cell_type": "code",
   "execution_count": 89,
   "metadata": {},
   "outputs": [],
   "source": [
    "scores = cross_val_score(clf1, train, y, cv=5, scoring='f1_macro')"
   ]
  },
  {
   "cell_type": "code",
   "execution_count": 93,
   "metadata": {},
   "outputs": [
    {
     "data": {
      "text/plain": [
       "array([0.78027375, 0.78042856, 0.80030016, 0.79506839, 0.79967132])"
      ]
     },
     "execution_count": 93,
     "metadata": {},
     "output_type": "execute_result"
    }
   ],
   "source": [
    "scores"
   ]
  },
  {
   "cell_type": "code",
   "execution_count": 91,
   "metadata": {},
   "outputs": [],
   "source": [
    "yt=clf1.decision_function(test)"
   ]
  },
  {
   "cell_type": "code",
   "execution_count": 92,
   "metadata": {},
   "outputs": [
    {
     "data": {
      "text/plain": [
       "array([0, 1, 0, ..., 0, 0, 1])"
      ]
     },
     "execution_count": 92,
     "metadata": {},
     "output_type": "execute_result"
    }
   ],
   "source": [
    "y"
   ]
  },
  {
   "cell_type": "code",
   "execution_count": null,
   "metadata": {},
   "outputs": [],
   "source": [
    "doc_i = [0.3, 0.3, 0.4]"
   ]
  },
  {
   "cell_type": "markdown",
   "metadata": {},
   "source": [
    "## Librería TF-IDF\n",
    "\n",
    "La libreía **scikit-sklearn**  Ya cueta con una librería que permite general VSM tf-idf. Está librería tiene una amplia gama de parámetros que pueden ajustarse, los cuales vamos optimizar mediante diferentes técnicas de optimización. Puede consultar todos los parámetros del vectorizador en:\n",
    "\n",
    "https://scikit-learn.org/stable/modules/generated/sklearn.feature_extraction.text.TfidfVectorizer.html#sklearn.feature_extraction.text.TfidfVectorizer"
   ]
  },
  {
   "cell_type": "code",
   "execution_count": 95,
   "metadata": {},
   "outputs": [],
   "source": [
    "from sklearn.feature_extraction.text import TfidfVectorizer"
   ]
  },
  {
   "cell_type": "code",
   "execution_count": 104,
   "metadata": {},
   "outputs": [],
   "source": [
    "corpus=train_df.text # definimos el corpus"
   ]
  },
  {
   "cell_type": "code",
   "execution_count": 105,
   "metadata": {},
   "outputs": [],
   "source": [
    "vectorizer = TfidfVectorizer()\n",
    "modelo = vectorizer.fit(corpus) # Entrenamos el modelo con los parámetros default"
   ]
  },
  {
   "cell_type": "code",
   "execution_count": 106,
   "metadata": {},
   "outputs": [],
   "source": [
    "trainv=vectorizer.transform(corpus)\n",
    "testv=vectorizer.transform(test_df.text) # Transformamos los datos con el modelo generdado"
   ]
  },
  {
   "cell_type": "code",
   "execution_count": 111,
   "metadata": {},
   "outputs": [],
   "source": [
    "from sklearn.svm import LinearSVC\n",
    "clf = LinearSVC()\n",
    "clf.fit(trainv,train_df.is_humor)\n",
    "yt=test_df.is_humor\n",
    "yp=clf.predict(testv)"
   ]
  },
  {
   "cell_type": "code",
   "execution_count": 112,
   "metadata": {},
   "outputs": [
    {
     "name": "stdout",
     "output_type": "stream",
     "text": [
      "f1:0.8687022900763358 Accuracy:0.828\n"
     ]
    }
   ],
   "source": [
    "print(f'f1:{f1(yt,yp)} Accuracy:{acc(yt,yp)}') "
   ]
  },
  {
   "cell_type": "code",
   "execution_count": null,
   "metadata": {},
   "outputs": [],
   "source": []
  }
 ],
 "metadata": {
  "kernelspec": {
   "display_name": "Python 3",
   "language": "python",
   "name": "python3"
  },
  "language_info": {
   "codemirror_mode": {
    "name": "ipython",
    "version": 3
   },
   "file_extension": ".py",
   "mimetype": "text/x-python",
   "name": "python",
   "nbconvert_exporter": "python",
   "pygments_lexer": "ipython3",
   "version": "3.8.5"
  }
 },
 "nbformat": 4,
 "nbformat_minor": 4
}
